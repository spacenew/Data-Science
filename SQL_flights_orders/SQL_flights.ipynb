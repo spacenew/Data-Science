{
 "cells": [
  {
   "cell_type": "markdown",
   "metadata": {},
   "source": [
    "# Спрос на рейсы авиакомпании"
   ]
  },
  {
   "cell_type": "markdown",
   "metadata": {},
   "source": [
    "## Описание проекта"
   ]
  },
  {
   "cell_type": "markdown",
   "metadata": {},
   "source": [
    "Вы аналитик российской авиакомпании F9, выполняющей внутренние пассажирские перевозки. Важно понять предпочтения пользователей, покупающих билеты на разные направления.\n",
    "Вам предстоит изучить базу данных и проанализировать спрос пассажиров на рейсы в города, где проходят крупнейшие культурные фестивали. "
   ]
  },
  {
   "cell_type": "markdown",
   "metadata": {},
   "source": [
    "## Инструкция по выполнению проекта"
   ]
  },
  {
   "cell_type": "markdown",
   "metadata": {},
   "source": [
    "1. Проведите исследовательский анализ данных средствами SQL.\n",
    "2. Соберите данные для анализа из базы.\n",
    "3. Проанализируйте данные средствами Python."
   ]
  },
  {
   "cell_type": "markdown",
   "metadata": {},
   "source": [
    "### Описание данных"
   ]
  },
  {
   "cell_type": "markdown",
   "metadata": {},
   "source": [
    "В вашем распоряжении база данных об авиаперевозках.\n",
    "Таблица airports — информация об аэропортах:\n",
    "\n",
    "    airport_code — трёхбуквенный код аэропорта\n",
    "    airport_name — название аэропорта\n",
    "    city — город\n",
    "    timezone — временная зона\n",
    "\n",
    "Таблица aircrafts — информация о самолётах:\n",
    "\n",
    "    aircraft_code — код модели самолёта\n",
    "    model — модель самолёта\n",
    "    range — дальность полёта\n",
    "\n",
    "Таблица tickets — информация о билетах:\n",
    "\n",
    "    ticket_no — уникальный номер билета\n",
    "    passenger_id — персональный идентификатор пассажира\n",
    "    passenger_name — имя и фамилия пассажира\n",
    "\n",
    "Таблица flights — информация о рейсах:\n",
    "\n",
    "    flight_id — уникальный идентификатор рейса\n",
    "    departure_airport — аэропорт вылета\n",
    "    departure_time — дата и время вылета\n",
    "    arrival_airport — аэропорт прилёта\n",
    "    arrival_time — дата и время прилёта\n",
    "    aircraft_code — id самолёта\n",
    "\n",
    "Таблица ticket_flights — стыковая таблица «рейсы-билеты»\n",
    "\n",
    "    ticket_no — номер билета\n",
    "    flight_id — идентификатор рейса\n",
    "\n",
    "Таблица festivals — информация о фестивалях\n",
    "\n",
    "    festival_id — уникальный номер фестиваля\n",
    "    festival_date — дата проведения фестиваля\n",
    "    festival_city — город проведения фестиваля\n",
    "    festival_name — название фестиваля"
   ]
  },
  {
   "cell_type": "markdown",
   "metadata": {},
   "source": [
    "### Схема таблиц"
   ]
  },
  {
   "cell_type": "markdown",
   "metadata": {},
   "source": [
    "<img src='PK_FK_weather_1603199319.jpg'>"
   ]
  },
  {
   "cell_type": "markdown",
   "metadata": {},
   "source": [
    "Пояснение: В базе данных нет прямой связи между таблицами *airports* и *festivals*, а также *festivals* и *flights*. Но вы можете писать JOIN и связывать эти таблицы по городу проведения фестиваля (*festival_city*) и городу аэропорта (*city*). Потребуется некоторое преобразование дат в *flights*, и тогда эту таблицу также можно будет связать по дате проведения фестиваля (*festival_date*) в запросах с JOIN. "
   ]
  },
  {
   "cell_type": "markdown",
   "metadata": {},
   "source": [
    "### Работа с базой"
   ]
  },
  {
   "cell_type": "markdown",
   "metadata": {},
   "source": [
    "#### Найдите количество рейсов на каждой модели самолёта с вылетом в сентябре 2018 года. Назовите получившееся поле flights_amount и выведите его. Также напечатайте на экране поле model. Столбцы в таблице должны быть выведены в следующем порядке:\n",
    "\n",
    "    model\n",
    "    flights_amount"
   ]
  },
  {
   "cell_type": "code",
   "execution_count": 2,
   "metadata": {},
   "outputs": [
    {
     "ename": "SyntaxError",
     "evalue": "invalid syntax (<ipython-input-2-9d8a72bfe008>, line 1)",
     "output_type": "error",
     "traceback": [
      "\u001b[1;36m  File \u001b[1;32m\"<ipython-input-2-9d8a72bfe008>\"\u001b[1;36m, line \u001b[1;32m1\u001b[0m\n\u001b[1;33m    SELECT *\u001b[0m\n\u001b[1;37m            ^\u001b[0m\n\u001b[1;31mSyntaxError\u001b[0m\u001b[1;31m:\u001b[0m invalid syntax\n"
     ]
    }
   ],
   "source": [
    "SELECT aircrafts.model, \n",
    "       COUNT(DISTINCT(flights.flight_id)) as flights_amount \n",
    "FROM aircrafts\n",
    "     INNER JOIN flights on aircrafts.aircraft_code = flights.aircraft_code\n",
    "WHERE CAST(flights.departure_time as date) >= '2018-09-01' AND CAST(flights.departure_time as date) < '2018-09-01'\n",
    "GROUP BY aircrafts.model"
   ]
  },
  {
   "cell_type": "markdown",
   "metadata": {},
   "source": [
    "#### Посчитайте отправленные в сентябре рейсы самолётов следующих моделей:\n",
    "\n",
    "    Boeing,\n",
    "    Airbus,\n",
    "    другие (“other”).\n",
    "\n",
    "Назовите получившуюся переменную flights_amount и выведите её значение на экран."
   ]
  },
  {
   "cell_type": "code",
   "execution_count": null,
   "metadata": {},
   "outputs": [],
   "source": [
    "SELECT \n",
    "    CASE WHEN aircrafts.model LIKE '%Boeing%' THEN 'Boeing'\n",
    "    WHEN aircrafts.model LIKE '%Airbus%' THEN 'Airbus'\n",
    "    ELSE 'other'\n",
    "    END AS model,\n",
    "    COUNT(*) AS flights_amount\n",
    "FROM \n",
    "    aircrafts\n",
    "    INNER JOIN flights ON flights.aircraft_code = aircrafts.aircraft_code\n",
    "WHERE\n",
    "    CAST(flights.departure_time AS date) >= '2018-09-01' AND CAST(flights.departure_time AS date) < '2018-10-01'\n",
    "GROUP BY\n",
    "    CASE WHEN aircrafts.model LIKE '%Boeing%' THEN 'Boeing'\n",
    "    WHEN aircrafts.model LIKE '%Airbus%' THEN 'Airbus'\n",
    "    ELSE 'other'\n",
    "    END"
   ]
  },
  {
   "cell_type": "markdown",
   "metadata": {},
   "source": [
    "#### Посчитайте среднее количество прибывающих рейсов в день для каждого города за август 2018 года. Назовите получившееся поле average_flights, вместе с ним выведите столбец city.\n",
    "Выводите столбцы в таком порядке:\n",
    "\n",
    "    city,\n",
    "    average_flights."
   ]
  },
  {
   "cell_type": "code",
   "execution_count": null,
   "metadata": {},
   "outputs": [],
   "source": [
    "SELECT \n",
    "    subq.city, \n",
    "    AVG(subq.average1_flights) as average_flights\n",
    "FROM\n",
    "(SELECT\n",
    "    airports.city,\n",
    "    COUNT(flights.flight_id) as average1_flights,\n",
    "    EXTRACT(DAY FROM CAST(flights.arrival_time as date) as day\n",
    "FROM flights\n",
    "    INNER JOIN airports on flights.departure_airport = airports.airport_code\n",
    "WHERE CAST(flights.arrival_time as date) BETWEEN '2018-01-01' AND '2018-01-31'\n",
    "GROUP BY airports.city) as subq\n",
    "GROUP BY airports.city"
   ]
  },
  {
   "cell_type": "markdown",
   "metadata": {},
   "source": [
    "<img src='PK_FK_weather_1603199319.jpg'>"
   ]
  },
  {
   "cell_type": "markdown",
   "metadata": {},
   "source": [
    "#### Установите фестивали, которые проходили с 23 июля по 30 сентября 2018 года в Москве, и номер недели, в которую они проходили. Выведите название фестиваля festival_name и номер недели festival_week."
   ]
  },
  {
   "cell_type": "code",
   "execution_count": null,
   "metadata": {},
   "outputs": [],
   "source": [
    "SELECT \n",
    "    festivals.festivals_name,\n",
    "    EXTRACT(WEEK FROM festivals.festivals_date) as festival_week\n",
    "FROM \n",
    "    festivals\n",
    "WHERE\n",
    "    festivals.festivals_date BETWEEN \"2018-07-23\" AND \"2018-09-30\"\n",
    "    AND\n",
    "    festivals.festivals_city = \"Москва\""
   ]
  },
  {
   "cell_type": "markdown",
   "metadata": {},
   "source": [
    "#### Для каждой недели с 23 июля по 30 сентября 2018 года посчитайте билеты, которые купили на рейсы в Москву (номер недели week_number и количество билетов ticket_amount). Получите таблицу:\n",
    "\n",
    "    с количеством купленных за неделю билетов;\n",
    "    отметкой, проходил ли в эту неделю фестиваль;\n",
    "    название фестиваля festival_name;\n",
    "    номер недели week_number.\n",
    "\n",
    "Выводите столбцы в таком порядке: - week_number - ticket_amount - festival_week - festival_name"
   ]
  },
  {
   "cell_type": "code",
   "execution_count": null,
   "metadata": {},
   "outputs": [],
   "source": [
    "SELECT\n",
    "    EXTRACT(week FROM CAST(flights.arrival_time AS date)) AS week_number,\n",
    "    COUNT(ticket_flights.ticket_no) AS ticket_amount,\n",
    "    sub.festival_week AS festival_week,\n",
    "    sub.festival_name AS festival_name\n",
    "    \n",
    "FROM tickets\n",
    "    LEFT JOIN ticket_flights ON ticket_flights.ticket_no  = tickets.ticket_no\n",
    "    LEFT JOIN flights ON flights.flight_id  = ticket_flights.flight_id\n",
    "    LEFT JOIN airports ON airports.airport_code = flights.arrival_airport\n",
    "    LEFT JOIN\n",
    "        (SELECT\n",
    "             festival_name,\n",
    "             EXTRACT(WEEK FROM CAST(festival_date AS date)) AS festival_week\n",
    "         FROM\n",
    "             festivals\n",
    "         WHERE\n",
    "             festival_date BETWEEN '2018-07-23' AND '2018-09-30' AND festival_city = 'Москва')\n",
    "             AS sub ON sub.festival_week = EXTRACT(week FROM CAST(flights.arrival_time AS date))\n",
    "WHERE\n",
    "    CAST(flights.arrival_time AS date) BETWEEN '2018-07-23' AND '2018-09-30' AND airports.city = 'Москва'\n",
    "GROUP BY\n",
    "    EXTRACT(week FROM CAST(flights.arrival_time AS date)), \n",
    "    festival_week, \n",
    "    festival_name"
   ]
  },
  {
   "cell_type": "code",
   "execution_count": null,
   "metadata": {},
   "outputs": [],
   "source": []
  },
  {
   "cell_type": "code",
   "execution_count": null,
   "metadata": {},
   "outputs": [],
   "source": []
  },
  {
   "cell_type": "code",
   "execution_count": null,
   "metadata": {},
   "outputs": [],
   "source": []
  },
  {
   "cell_type": "code",
   "execution_count": null,
   "metadata": {},
   "outputs": [],
   "source": []
  },
  {
   "cell_type": "code",
   "execution_count": null,
   "metadata": {},
   "outputs": [],
   "source": []
  },
  {
   "cell_type": "code",
   "execution_count": null,
   "metadata": {},
   "outputs": [],
   "source": []
  },
  {
   "cell_type": "code",
   "execution_count": null,
   "metadata": {},
   "outputs": [],
   "source": []
  }
 ],
 "metadata": {
  "kernelspec": {
   "display_name": "Python 3",
   "language": "python",
   "name": "python3"
  },
  "language_info": {
   "codemirror_mode": {
    "name": "ipython",
    "version": 3
   },
   "file_extension": ".py",
   "mimetype": "text/x-python",
   "name": "python",
   "nbconvert_exporter": "python",
   "pygments_lexer": "ipython3",
   "version": "3.8.5"
  },
  "toc": {
   "base_numbering": 1,
   "nav_menu": {},
   "number_sections": true,
   "sideBar": true,
   "skip_h1_title": false,
   "title_cell": "Table of Contents",
   "title_sidebar": "Contents",
   "toc_cell": false,
   "toc_position": {},
   "toc_section_display": true,
   "toc_window_display": false
  }
 },
 "nbformat": 4,
 "nbformat_minor": 4
}
