{
 "cells": [
  {
   "cell_type": "markdown",
   "metadata": {},
   "source": [
    "# Отток клиентов"
   ]
  },
  {
   "cell_type": "markdown",
   "metadata": {},
   "source": [
    "> Из «Бета-Банка» стали уходить клиенты. Каждый месяц. Немного, но заметно. Банковские маркетологи посчитали: сохранять текущих клиентов дешевле, чем привлекать новых.\n",
    "> Нужно спрогнозировать, уйдёт клиент из банка в ближайшее время или нет. Вам предоставлены исторические данные о поведении клиентов и расторжении договоров с банком.\n",
    "> Постройте модель с предельно большим значением F1-меры. Чтобы сдать проект успешно, нужно довести метрику до 0.59. Проверьте F1-меру на тестовой выборке самостоятельно.\n",
    "> Дополнительно измеряйте AUC-ROC, сравнивайте её значение с F1-мерой."
   ]
  },
  {
   "cell_type": "markdown",
   "metadata": {},
   "source": [
    "## Инструкция по выполнению проекта"
   ]
  },
  {
   "cell_type": "markdown",
   "metadata": {},
   "source": [
    "    1. Загрузите и подготовьте данные. Поясните порядок действий.\n",
    "    2. Исследуйте баланс классов, обучите модель без учёта дисбаланса. Кратко опишите выводы.\n",
    "    3. Улучшите качество модели, учитывая дисбаланс классов. Обучите разные модели и найдите лучшую. Кратко опишите выводы.\n",
    "    4. Проведите финальное тестирование."
   ]
  },
  {
   "cell_type": "markdown",
   "metadata": {},
   "source": [
    "## Описание данных"
   ]
  },
  {
   "cell_type": "markdown",
   "metadata": {},
   "source": [
    "Данные находятся в файле /datasets/Churn.csv (англ. «отток клиентов»). Скачать датасет\n",
    "\n",
    "**Признаки**\n",
    "\n",
    "    RowNumber — индекс строки в данных\n",
    "    CustomerId — уникальный идентификатор клиента\n",
    "    Surname — фамилия\n",
    "    CreditScore — кредитный рейтинг\n",
    "    Geography — страна проживания\n",
    "    Gender — пол\n",
    "    Age — возраст\n",
    "    Tenure — сколько лет человек является клиентом банка\n",
    "    Balance — баланс на счёте\n",
    "    NumOfProducts — количество продуктов банка, используемых клиентом\n",
    "    HasCrCard — наличие кредитной карты\n",
    "    IsActiveMember — активность клиента\n",
    "    EstimatedSalary — предполагаемая зарплата\n",
    "\n",
    "**Целевой признак**\n",
    "\n",
    "    Exited — факт ухода клиента"
   ]
  },
  {
   "cell_type": "markdown",
   "metadata": {},
   "source": [
    "Мы подготовили критерии оценки проекта, которыми руководствуются ревьюеры. Прежде чем приступить к решению кейса, внимательно их изучите.\n",
    "На что обращают внимание ревьюеры, проверяя проект:\n",
    "\n",
    "    Как вы готовите данные к обучению? Все ли типы признаков обрабатываете?\n",
    "    Хорошо ли поясняете этапы предобработки?\n",
    "    Как исследуете баланс классов?\n",
    "    Изучаете ли модель без учёта дисбаланса классов?\n",
    "    Какие выводы об исследовании задачи делаете?\n",
    "    Корректно ли разбиваете данные на выборки?\n",
    "    Как работаете с несбалансированными классами?\n",
    "    Правильно ли проводите обучение, валидацию и финальное тестирование модели?\n",
    "    Насколько высокое значение F1-меры получаете?\n",
    "    Изучаете ли значения метрики AUC-ROC?\n",
    "    Следите за структурой проекта и поддерживаете аккуратность кода?\n",
    "\n",
    "Всё, что вам нужно знать, есть в шпаргалках и конспектах прошлых тем."
   ]
  },
  {
   "cell_type": "markdown",
   "metadata": {},
   "source": [
    "#### Libs"
   ]
  },
  {
   "cell_type": "code",
   "execution_count": 87,
   "metadata": {},
   "outputs": [],
   "source": [
    "import pandas as pd\n",
    "import numpy as np\n",
    "import matplotlib.pyplot as plt\n",
    "import seaborn as sns\n",
    "from sklearn.model_selection import train_test_split, StratifiedShuffleSplit, GridSearchCV\n",
    "from sklearn.tree import DecisionTreeClassifier\n",
    "from sklearn.ensemble import RandomForestClassifier\n",
    "from sklearn.linear_model import LogisticRegression\n",
    "from sklearn.preprocessing import StandardScaler\n",
    "from sklearn.metrics import f1_score, roc_auc_score, roc_curve, precision_score, recall_score, classification_report\n",
    "from sklearn.metrics import accuracy_score, precision_recall_curve, plot_confusion_matrix, confusion_matrix, plot_roc_curve, plot_precision_recall_curve\n",
    "from sklearn.utils import shuffle\n",
    "from imblearn.over_sampling import RandomOverSampler\n",
    "from eli5.sklearn import PermutationImportance\n",
    "import eli5\n",
    "import warnings\n",
    "warnings.filterwarnings('ignore')"
   ]
  },
  {
   "cell_type": "markdown",
   "metadata": {},
   "source": [
    "### 1. Загрузите и подготовьте данные. Поясните порядок действий."
   ]
  },
  {
   "cell_type": "code",
   "execution_count": 2,
   "metadata": {},
   "outputs": [
    {
     "data": {
      "text/html": [
       "<div>\n",
       "<style scoped>\n",
       "    .dataframe tbody tr th:only-of-type {\n",
       "        vertical-align: middle;\n",
       "    }\n",
       "\n",
       "    .dataframe tbody tr th {\n",
       "        vertical-align: top;\n",
       "    }\n",
       "\n",
       "    .dataframe thead th {\n",
       "        text-align: right;\n",
       "    }\n",
       "</style>\n",
       "<table border=\"1\" class=\"dataframe\">\n",
       "  <thead>\n",
       "    <tr style=\"text-align: right;\">\n",
       "      <th></th>\n",
       "      <th>RowNumber</th>\n",
       "      <th>CustomerId</th>\n",
       "      <th>Surname</th>\n",
       "      <th>CreditScore</th>\n",
       "      <th>Geography</th>\n",
       "      <th>Gender</th>\n",
       "      <th>Age</th>\n",
       "      <th>Tenure</th>\n",
       "      <th>Balance</th>\n",
       "      <th>NumOfProducts</th>\n",
       "      <th>HasCrCard</th>\n",
       "      <th>IsActiveMember</th>\n",
       "      <th>EstimatedSalary</th>\n",
       "      <th>Exited</th>\n",
       "    </tr>\n",
       "  </thead>\n",
       "  <tbody>\n",
       "    <tr>\n",
       "      <th>0</th>\n",
       "      <td>1</td>\n",
       "      <td>15634602</td>\n",
       "      <td>Hargrave</td>\n",
       "      <td>619</td>\n",
       "      <td>France</td>\n",
       "      <td>Female</td>\n",
       "      <td>42</td>\n",
       "      <td>2.0</td>\n",
       "      <td>0.00</td>\n",
       "      <td>1</td>\n",
       "      <td>1</td>\n",
       "      <td>1</td>\n",
       "      <td>101348.88</td>\n",
       "      <td>1</td>\n",
       "    </tr>\n",
       "    <tr>\n",
       "      <th>1</th>\n",
       "      <td>2</td>\n",
       "      <td>15647311</td>\n",
       "      <td>Hill</td>\n",
       "      <td>608</td>\n",
       "      <td>Spain</td>\n",
       "      <td>Female</td>\n",
       "      <td>41</td>\n",
       "      <td>1.0</td>\n",
       "      <td>83807.86</td>\n",
       "      <td>1</td>\n",
       "      <td>0</td>\n",
       "      <td>1</td>\n",
       "      <td>112542.58</td>\n",
       "      <td>0</td>\n",
       "    </tr>\n",
       "    <tr>\n",
       "      <th>2</th>\n",
       "      <td>3</td>\n",
       "      <td>15619304</td>\n",
       "      <td>Onio</td>\n",
       "      <td>502</td>\n",
       "      <td>France</td>\n",
       "      <td>Female</td>\n",
       "      <td>42</td>\n",
       "      <td>8.0</td>\n",
       "      <td>159660.80</td>\n",
       "      <td>3</td>\n",
       "      <td>1</td>\n",
       "      <td>0</td>\n",
       "      <td>113931.57</td>\n",
       "      <td>1</td>\n",
       "    </tr>\n",
       "    <tr>\n",
       "      <th>3</th>\n",
       "      <td>4</td>\n",
       "      <td>15701354</td>\n",
       "      <td>Boni</td>\n",
       "      <td>699</td>\n",
       "      <td>France</td>\n",
       "      <td>Female</td>\n",
       "      <td>39</td>\n",
       "      <td>1.0</td>\n",
       "      <td>0.00</td>\n",
       "      <td>2</td>\n",
       "      <td>0</td>\n",
       "      <td>0</td>\n",
       "      <td>93826.63</td>\n",
       "      <td>0</td>\n",
       "    </tr>\n",
       "    <tr>\n",
       "      <th>4</th>\n",
       "      <td>5</td>\n",
       "      <td>15737888</td>\n",
       "      <td>Mitchell</td>\n",
       "      <td>850</td>\n",
       "      <td>Spain</td>\n",
       "      <td>Female</td>\n",
       "      <td>43</td>\n",
       "      <td>2.0</td>\n",
       "      <td>125510.82</td>\n",
       "      <td>1</td>\n",
       "      <td>1</td>\n",
       "      <td>1</td>\n",
       "      <td>79084.10</td>\n",
       "      <td>0</td>\n",
       "    </tr>\n",
       "  </tbody>\n",
       "</table>\n",
       "</div>"
      ],
      "text/plain": [
       "   RowNumber  CustomerId   Surname  CreditScore Geography  Gender  Age  \\\n",
       "0          1    15634602  Hargrave          619    France  Female   42   \n",
       "1          2    15647311      Hill          608     Spain  Female   41   \n",
       "2          3    15619304      Onio          502    France  Female   42   \n",
       "3          4    15701354      Boni          699    France  Female   39   \n",
       "4          5    15737888  Mitchell          850     Spain  Female   43   \n",
       "\n",
       "   Tenure    Balance  NumOfProducts  HasCrCard  IsActiveMember  \\\n",
       "0     2.0       0.00              1          1               1   \n",
       "1     1.0   83807.86              1          0               1   \n",
       "2     8.0  159660.80              3          1               0   \n",
       "3     1.0       0.00              2          0               0   \n",
       "4     2.0  125510.82              1          1               1   \n",
       "\n",
       "   EstimatedSalary  Exited  \n",
       "0        101348.88       1  \n",
       "1        112542.58       0  \n",
       "2        113931.57       1  \n",
       "3         93826.63       0  \n",
       "4         79084.10       0  "
      ]
     },
     "execution_count": 2,
     "metadata": {},
     "output_type": "execute_result"
    }
   ],
   "source": [
    "data = pd.read_csv('Churn.csv')\n",
    "data.head()"
   ]
  },
  {
   "cell_type": "code",
   "execution_count": 3,
   "metadata": {},
   "outputs": [
    {
     "name": "stdout",
     "output_type": "stream",
     "text": [
      "<class 'pandas.core.frame.DataFrame'>\n",
      "RangeIndex: 10000 entries, 0 to 9999\n",
      "Data columns (total 14 columns):\n",
      " #   Column           Non-Null Count  Dtype  \n",
      "---  ------           --------------  -----  \n",
      " 0   RowNumber        10000 non-null  int64  \n",
      " 1   CustomerId       10000 non-null  int64  \n",
      " 2   Surname          10000 non-null  object \n",
      " 3   CreditScore      10000 non-null  int64  \n",
      " 4   Geography        10000 non-null  object \n",
      " 5   Gender           10000 non-null  object \n",
      " 6   Age              10000 non-null  int64  \n",
      " 7   Tenure           9091 non-null   float64\n",
      " 8   Balance          10000 non-null  float64\n",
      " 9   NumOfProducts    10000 non-null  int64  \n",
      " 10  HasCrCard        10000 non-null  int64  \n",
      " 11  IsActiveMember   10000 non-null  int64  \n",
      " 12  EstimatedSalary  10000 non-null  float64\n",
      " 13  Exited           10000 non-null  int64  \n",
      "dtypes: float64(3), int64(8), object(3)\n",
      "memory usage: 1.1+ MB\n"
     ]
    }
   ],
   "source": [
    "data.info()"
   ]
  },
  {
   "cell_type": "code",
   "execution_count": 4,
   "metadata": {},
   "outputs": [
    {
     "data": {
      "text/plain": [
       "RowNumber            0\n",
       "CustomerId           0\n",
       "Surname              0\n",
       "CreditScore          0\n",
       "Geography            0\n",
       "Gender               0\n",
       "Age                  0\n",
       "Tenure             909\n",
       "Balance              0\n",
       "NumOfProducts        0\n",
       "HasCrCard            0\n",
       "IsActiveMember       0\n",
       "EstimatedSalary      0\n",
       "Exited               0\n",
       "dtype: int64"
      ]
     },
     "execution_count": 4,
     "metadata": {},
     "output_type": "execute_result"
    }
   ],
   "source": [
    "data.isnull().sum()"
   ]
  },
  {
   "cell_type": "code",
   "execution_count": 6,
   "metadata": {},
   "outputs": [
    {
     "name": "stdout",
     "output_type": "stream",
     "text": [
      "Процент пропусков по признакам: \n",
      "\n",
      "Tenure                    9.09%\n"
     ]
    }
   ],
   "source": [
    "print('Процент пропусков по признакам: \\n')\n",
    "for col in data.columns:\n",
    "    missing_percent = data[col].isna().sum() / data[col].shape[0] * 100\n",
    "    if missing_percent > 0:\n",
    "        print(f'{col:<25} {missing_percent:.2f}%')"
   ]
  },
  {
   "cell_type": "markdown",
   "metadata": {},
   "source": [
    "##### Имеются пустые значения в колонке Tenure. Заполним их медианным значением, так ка достоверно определить количество лет, которое клиент является клиентом банка определить не удастся, а заполнение 0 может привести к искажению данных."
   ]
  },
  {
   "cell_type": "code",
   "execution_count": 7,
   "metadata": {},
   "outputs": [],
   "source": [
    "data['Tenure'] = data['Tenure'].fillna(data['Tenure'].median()).astype(int)"
   ]
  },
  {
   "cell_type": "code",
   "execution_count": 8,
   "metadata": {},
   "outputs": [
    {
     "name": "stdout",
     "output_type": "stream",
     "text": [
      "<class 'pandas.core.frame.DataFrame'>\n",
      "RangeIndex: 10000 entries, 0 to 9999\n",
      "Data columns (total 14 columns):\n",
      " #   Column           Non-Null Count  Dtype  \n",
      "---  ------           --------------  -----  \n",
      " 0   RowNumber        10000 non-null  int64  \n",
      " 1   CustomerId       10000 non-null  int64  \n",
      " 2   Surname          10000 non-null  object \n",
      " 3   CreditScore      10000 non-null  int64  \n",
      " 4   Geography        10000 non-null  object \n",
      " 5   Gender           10000 non-null  object \n",
      " 6   Age              10000 non-null  int64  \n",
      " 7   Tenure           10000 non-null  int32  \n",
      " 8   Balance          10000 non-null  float64\n",
      " 9   NumOfProducts    10000 non-null  int64  \n",
      " 10  HasCrCard        10000 non-null  int64  \n",
      " 11  IsActiveMember   10000 non-null  int64  \n",
      " 12  EstimatedSalary  10000 non-null  float64\n",
      " 13  Exited           10000 non-null  int64  \n",
      "dtypes: float64(2), int32(1), int64(8), object(3)\n",
      "memory usage: 1.0+ MB\n"
     ]
    }
   ],
   "source": [
    "data.info()"
   ]
  },
  {
   "cell_type": "markdown",
   "metadata": {},
   "source": [
    "#### Проверим наличие дубликатов"
   ]
  },
  {
   "cell_type": "code",
   "execution_count": 9,
   "metadata": {},
   "outputs": [
    {
     "data": {
      "text/plain": [
       "0"
      ]
     },
     "execution_count": 9,
     "metadata": {},
     "output_type": "execute_result"
    }
   ],
   "source": [
    "data.duplicated().sum()"
   ]
  },
  {
   "cell_type": "markdown",
   "metadata": {},
   "source": [
    "#### Имеются 3 категориальных признака Surname, Geography, Gender. Признак Surname может быт удален из выборки, так ка на расчет модели не будет влиять. Также уберем RowNumber, CustomerId."
   ]
  },
  {
   "cell_type": "code",
   "execution_count": 10,
   "metadata": {},
   "outputs": [],
   "source": [
    "data = data.drop(['Surname', 'RowNumber', 'CustomerId'], axis=1)"
   ]
  },
  {
   "cell_type": "code",
   "execution_count": 11,
   "metadata": {},
   "outputs": [
    {
     "data": {
      "text/html": [
       "<div>\n",
       "<style scoped>\n",
       "    .dataframe tbody tr th:only-of-type {\n",
       "        vertical-align: middle;\n",
       "    }\n",
       "\n",
       "    .dataframe tbody tr th {\n",
       "        vertical-align: top;\n",
       "    }\n",
       "\n",
       "    .dataframe thead th {\n",
       "        text-align: right;\n",
       "    }\n",
       "</style>\n",
       "<table border=\"1\" class=\"dataframe\">\n",
       "  <thead>\n",
       "    <tr style=\"text-align: right;\">\n",
       "      <th></th>\n",
       "      <th>CreditScore</th>\n",
       "      <th>Geography</th>\n",
       "      <th>Gender</th>\n",
       "      <th>Age</th>\n",
       "      <th>Tenure</th>\n",
       "      <th>Balance</th>\n",
       "      <th>NumOfProducts</th>\n",
       "      <th>HasCrCard</th>\n",
       "      <th>IsActiveMember</th>\n",
       "      <th>EstimatedSalary</th>\n",
       "      <th>Exited</th>\n",
       "    </tr>\n",
       "  </thead>\n",
       "  <tbody>\n",
       "    <tr>\n",
       "      <th>0</th>\n",
       "      <td>619</td>\n",
       "      <td>France</td>\n",
       "      <td>Female</td>\n",
       "      <td>42</td>\n",
       "      <td>2</td>\n",
       "      <td>0.00</td>\n",
       "      <td>1</td>\n",
       "      <td>1</td>\n",
       "      <td>1</td>\n",
       "      <td>101348.88</td>\n",
       "      <td>1</td>\n",
       "    </tr>\n",
       "    <tr>\n",
       "      <th>1</th>\n",
       "      <td>608</td>\n",
       "      <td>Spain</td>\n",
       "      <td>Female</td>\n",
       "      <td>41</td>\n",
       "      <td>1</td>\n",
       "      <td>83807.86</td>\n",
       "      <td>1</td>\n",
       "      <td>0</td>\n",
       "      <td>1</td>\n",
       "      <td>112542.58</td>\n",
       "      <td>0</td>\n",
       "    </tr>\n",
       "    <tr>\n",
       "      <th>2</th>\n",
       "      <td>502</td>\n",
       "      <td>France</td>\n",
       "      <td>Female</td>\n",
       "      <td>42</td>\n",
       "      <td>8</td>\n",
       "      <td>159660.80</td>\n",
       "      <td>3</td>\n",
       "      <td>1</td>\n",
       "      <td>0</td>\n",
       "      <td>113931.57</td>\n",
       "      <td>1</td>\n",
       "    </tr>\n",
       "    <tr>\n",
       "      <th>3</th>\n",
       "      <td>699</td>\n",
       "      <td>France</td>\n",
       "      <td>Female</td>\n",
       "      <td>39</td>\n",
       "      <td>1</td>\n",
       "      <td>0.00</td>\n",
       "      <td>2</td>\n",
       "      <td>0</td>\n",
       "      <td>0</td>\n",
       "      <td>93826.63</td>\n",
       "      <td>0</td>\n",
       "    </tr>\n",
       "    <tr>\n",
       "      <th>4</th>\n",
       "      <td>850</td>\n",
       "      <td>Spain</td>\n",
       "      <td>Female</td>\n",
       "      <td>43</td>\n",
       "      <td>2</td>\n",
       "      <td>125510.82</td>\n",
       "      <td>1</td>\n",
       "      <td>1</td>\n",
       "      <td>1</td>\n",
       "      <td>79084.10</td>\n",
       "      <td>0</td>\n",
       "    </tr>\n",
       "  </tbody>\n",
       "</table>\n",
       "</div>"
      ],
      "text/plain": [
       "   CreditScore Geography  Gender  Age  Tenure    Balance  NumOfProducts  \\\n",
       "0          619    France  Female   42       2       0.00              1   \n",
       "1          608     Spain  Female   41       1   83807.86              1   \n",
       "2          502    France  Female   42       8  159660.80              3   \n",
       "3          699    France  Female   39       1       0.00              2   \n",
       "4          850     Spain  Female   43       2  125510.82              1   \n",
       "\n",
       "   HasCrCard  IsActiveMember  EstimatedSalary  Exited  \n",
       "0          1               1        101348.88       1  \n",
       "1          0               1        112542.58       0  \n",
       "2          1               0        113931.57       1  \n",
       "3          0               0         93826.63       0  \n",
       "4          1               1         79084.10       0  "
      ]
     },
     "execution_count": 11,
     "metadata": {},
     "output_type": "execute_result"
    }
   ],
   "source": [
    "data.head()"
   ]
  },
  {
   "cell_type": "markdown",
   "metadata": {},
   "source": [
    "#### Выполним прямое кодирование методом OneHotEncoding для всего датасета, чтобы привести все признаки к количественным значениям."
   ]
  },
  {
   "cell_type": "markdown",
   "metadata": {},
   "source": [
    "#### OneHotEncoding"
   ]
  },
  {
   "cell_type": "code",
   "execution_count": 12,
   "metadata": {},
   "outputs": [],
   "source": [
    "data_ohe = pd.get_dummies(data, drop_first=True)"
   ]
  },
  {
   "cell_type": "code",
   "execution_count": 13,
   "metadata": {},
   "outputs": [
    {
     "data": {
      "text/html": [
       "<div>\n",
       "<style scoped>\n",
       "    .dataframe tbody tr th:only-of-type {\n",
       "        vertical-align: middle;\n",
       "    }\n",
       "\n",
       "    .dataframe tbody tr th {\n",
       "        vertical-align: top;\n",
       "    }\n",
       "\n",
       "    .dataframe thead th {\n",
       "        text-align: right;\n",
       "    }\n",
       "</style>\n",
       "<table border=\"1\" class=\"dataframe\">\n",
       "  <thead>\n",
       "    <tr style=\"text-align: right;\">\n",
       "      <th></th>\n",
       "      <th>CreditScore</th>\n",
       "      <th>Age</th>\n",
       "      <th>Tenure</th>\n",
       "      <th>Balance</th>\n",
       "      <th>NumOfProducts</th>\n",
       "      <th>HasCrCard</th>\n",
       "      <th>IsActiveMember</th>\n",
       "      <th>EstimatedSalary</th>\n",
       "      <th>Exited</th>\n",
       "      <th>Geography_Germany</th>\n",
       "      <th>Geography_Spain</th>\n",
       "      <th>Gender_Male</th>\n",
       "    </tr>\n",
       "  </thead>\n",
       "  <tbody>\n",
       "    <tr>\n",
       "      <th>0</th>\n",
       "      <td>619</td>\n",
       "      <td>42</td>\n",
       "      <td>2</td>\n",
       "      <td>0.00</td>\n",
       "      <td>1</td>\n",
       "      <td>1</td>\n",
       "      <td>1</td>\n",
       "      <td>101348.88</td>\n",
       "      <td>1</td>\n",
       "      <td>0</td>\n",
       "      <td>0</td>\n",
       "      <td>0</td>\n",
       "    </tr>\n",
       "    <tr>\n",
       "      <th>1</th>\n",
       "      <td>608</td>\n",
       "      <td>41</td>\n",
       "      <td>1</td>\n",
       "      <td>83807.86</td>\n",
       "      <td>1</td>\n",
       "      <td>0</td>\n",
       "      <td>1</td>\n",
       "      <td>112542.58</td>\n",
       "      <td>0</td>\n",
       "      <td>0</td>\n",
       "      <td>1</td>\n",
       "      <td>0</td>\n",
       "    </tr>\n",
       "    <tr>\n",
       "      <th>2</th>\n",
       "      <td>502</td>\n",
       "      <td>42</td>\n",
       "      <td>8</td>\n",
       "      <td>159660.80</td>\n",
       "      <td>3</td>\n",
       "      <td>1</td>\n",
       "      <td>0</td>\n",
       "      <td>113931.57</td>\n",
       "      <td>1</td>\n",
       "      <td>0</td>\n",
       "      <td>0</td>\n",
       "      <td>0</td>\n",
       "    </tr>\n",
       "    <tr>\n",
       "      <th>3</th>\n",
       "      <td>699</td>\n",
       "      <td>39</td>\n",
       "      <td>1</td>\n",
       "      <td>0.00</td>\n",
       "      <td>2</td>\n",
       "      <td>0</td>\n",
       "      <td>0</td>\n",
       "      <td>93826.63</td>\n",
       "      <td>0</td>\n",
       "      <td>0</td>\n",
       "      <td>0</td>\n",
       "      <td>0</td>\n",
       "    </tr>\n",
       "    <tr>\n",
       "      <th>4</th>\n",
       "      <td>850</td>\n",
       "      <td>43</td>\n",
       "      <td>2</td>\n",
       "      <td>125510.82</td>\n",
       "      <td>1</td>\n",
       "      <td>1</td>\n",
       "      <td>1</td>\n",
       "      <td>79084.10</td>\n",
       "      <td>0</td>\n",
       "      <td>0</td>\n",
       "      <td>1</td>\n",
       "      <td>0</td>\n",
       "    </tr>\n",
       "    <tr>\n",
       "      <th>...</th>\n",
       "      <td>...</td>\n",
       "      <td>...</td>\n",
       "      <td>...</td>\n",
       "      <td>...</td>\n",
       "      <td>...</td>\n",
       "      <td>...</td>\n",
       "      <td>...</td>\n",
       "      <td>...</td>\n",
       "      <td>...</td>\n",
       "      <td>...</td>\n",
       "      <td>...</td>\n",
       "      <td>...</td>\n",
       "    </tr>\n",
       "    <tr>\n",
       "      <th>9995</th>\n",
       "      <td>771</td>\n",
       "      <td>39</td>\n",
       "      <td>5</td>\n",
       "      <td>0.00</td>\n",
       "      <td>2</td>\n",
       "      <td>1</td>\n",
       "      <td>0</td>\n",
       "      <td>96270.64</td>\n",
       "      <td>0</td>\n",
       "      <td>0</td>\n",
       "      <td>0</td>\n",
       "      <td>1</td>\n",
       "    </tr>\n",
       "    <tr>\n",
       "      <th>9996</th>\n",
       "      <td>516</td>\n",
       "      <td>35</td>\n",
       "      <td>10</td>\n",
       "      <td>57369.61</td>\n",
       "      <td>1</td>\n",
       "      <td>1</td>\n",
       "      <td>1</td>\n",
       "      <td>101699.77</td>\n",
       "      <td>0</td>\n",
       "      <td>0</td>\n",
       "      <td>0</td>\n",
       "      <td>1</td>\n",
       "    </tr>\n",
       "    <tr>\n",
       "      <th>9997</th>\n",
       "      <td>709</td>\n",
       "      <td>36</td>\n",
       "      <td>7</td>\n",
       "      <td>0.00</td>\n",
       "      <td>1</td>\n",
       "      <td>0</td>\n",
       "      <td>1</td>\n",
       "      <td>42085.58</td>\n",
       "      <td>1</td>\n",
       "      <td>0</td>\n",
       "      <td>0</td>\n",
       "      <td>0</td>\n",
       "    </tr>\n",
       "    <tr>\n",
       "      <th>9998</th>\n",
       "      <td>772</td>\n",
       "      <td>42</td>\n",
       "      <td>3</td>\n",
       "      <td>75075.31</td>\n",
       "      <td>2</td>\n",
       "      <td>1</td>\n",
       "      <td>0</td>\n",
       "      <td>92888.52</td>\n",
       "      <td>1</td>\n",
       "      <td>1</td>\n",
       "      <td>0</td>\n",
       "      <td>1</td>\n",
       "    </tr>\n",
       "    <tr>\n",
       "      <th>9999</th>\n",
       "      <td>792</td>\n",
       "      <td>28</td>\n",
       "      <td>5</td>\n",
       "      <td>130142.79</td>\n",
       "      <td>1</td>\n",
       "      <td>1</td>\n",
       "      <td>0</td>\n",
       "      <td>38190.78</td>\n",
       "      <td>0</td>\n",
       "      <td>0</td>\n",
       "      <td>0</td>\n",
       "      <td>0</td>\n",
       "    </tr>\n",
       "  </tbody>\n",
       "</table>\n",
       "<p>10000 rows × 12 columns</p>\n",
       "</div>"
      ],
      "text/plain": [
       "      CreditScore  Age  Tenure    Balance  NumOfProducts  HasCrCard  \\\n",
       "0             619   42       2       0.00              1          1   \n",
       "1             608   41       1   83807.86              1          0   \n",
       "2             502   42       8  159660.80              3          1   \n",
       "3             699   39       1       0.00              2          0   \n",
       "4             850   43       2  125510.82              1          1   \n",
       "...           ...  ...     ...        ...            ...        ...   \n",
       "9995          771   39       5       0.00              2          1   \n",
       "9996          516   35      10   57369.61              1          1   \n",
       "9997          709   36       7       0.00              1          0   \n",
       "9998          772   42       3   75075.31              2          1   \n",
       "9999          792   28       5  130142.79              1          1   \n",
       "\n",
       "      IsActiveMember  EstimatedSalary  Exited  Geography_Germany  \\\n",
       "0                  1        101348.88       1                  0   \n",
       "1                  1        112542.58       0                  0   \n",
       "2                  0        113931.57       1                  0   \n",
       "3                  0         93826.63       0                  0   \n",
       "4                  1         79084.10       0                  0   \n",
       "...              ...              ...     ...                ...   \n",
       "9995               0         96270.64       0                  0   \n",
       "9996               1        101699.77       0                  0   \n",
       "9997               1         42085.58       1                  0   \n",
       "9998               0         92888.52       1                  1   \n",
       "9999               0         38190.78       0                  0   \n",
       "\n",
       "      Geography_Spain  Gender_Male  \n",
       "0                   0            0  \n",
       "1                   1            0  \n",
       "2                   0            0  \n",
       "3                   0            0  \n",
       "4                   1            0  \n",
       "...               ...          ...  \n",
       "9995                0            1  \n",
       "9996                0            1  \n",
       "9997                0            0  \n",
       "9998                0            1  \n",
       "9999                0            0  \n",
       "\n",
       "[10000 rows x 12 columns]"
      ]
     },
     "execution_count": 13,
     "metadata": {},
     "output_type": "execute_result"
    }
   ],
   "source": [
    "data_ohe"
   ]
  },
  {
   "cell_type": "markdown",
   "metadata": {},
   "source": [
    "#### Так как использовали аргумент drop_first=True, признака  Gender_Female не оказалось в результирующей выборке. "
   ]
  },
  {
   "cell_type": "markdown",
   "metadata": {},
   "source": [
    "#### Приведем признаки к одному масштабу с помощью метода StandardScaler"
   ]
  },
  {
   "cell_type": "code",
   "execution_count": 14,
   "metadata": {},
   "outputs": [],
   "source": [
    "scaler = StandardScaler()"
   ]
  },
  {
   "cell_type": "code",
   "execution_count": 17,
   "metadata": {},
   "outputs": [],
   "source": [
    "# Выберем признаки, которые будем масштабировать."
   ]
  },
  {
   "cell_type": "code",
   "execution_count": 15,
   "metadata": {},
   "outputs": [],
   "source": [
    "numeric = ['CreditScore', 'Age', 'Tenure', 'Balance', 'EstimatedSalary']"
   ]
  },
  {
   "cell_type": "code",
   "execution_count": 16,
   "metadata": {},
   "outputs": [
    {
     "data": {
      "text/plain": [
       "StandardScaler()"
      ]
     },
     "execution_count": 16,
     "metadata": {},
     "output_type": "execute_result"
    }
   ],
   "source": [
    "scaler.fit(data_ohe[numeric])"
   ]
  },
  {
   "cell_type": "code",
   "execution_count": 17,
   "metadata": {},
   "outputs": [],
   "source": [
    "data_ohe[numeric] = scaler.transform(data_ohe[numeric])"
   ]
  },
  {
   "cell_type": "code",
   "execution_count": 18,
   "metadata": {},
   "outputs": [
    {
     "data": {
      "text/html": [
       "<div>\n",
       "<style scoped>\n",
       "    .dataframe tbody tr th:only-of-type {\n",
       "        vertical-align: middle;\n",
       "    }\n",
       "\n",
       "    .dataframe tbody tr th {\n",
       "        vertical-align: top;\n",
       "    }\n",
       "\n",
       "    .dataframe thead th {\n",
       "        text-align: right;\n",
       "    }\n",
       "</style>\n",
       "<table border=\"1\" class=\"dataframe\">\n",
       "  <thead>\n",
       "    <tr style=\"text-align: right;\">\n",
       "      <th></th>\n",
       "      <th>CreditScore</th>\n",
       "      <th>Age</th>\n",
       "      <th>Tenure</th>\n",
       "      <th>Balance</th>\n",
       "      <th>NumOfProducts</th>\n",
       "      <th>HasCrCard</th>\n",
       "      <th>IsActiveMember</th>\n",
       "      <th>EstimatedSalary</th>\n",
       "      <th>Exited</th>\n",
       "      <th>Geography_Germany</th>\n",
       "      <th>Geography_Spain</th>\n",
       "      <th>Gender_Male</th>\n",
       "    </tr>\n",
       "  </thead>\n",
       "  <tbody>\n",
       "    <tr>\n",
       "      <th>0</th>\n",
       "      <td>-0.326221</td>\n",
       "      <td>0.293517</td>\n",
       "      <td>-1.086246</td>\n",
       "      <td>-1.225848</td>\n",
       "      <td>1</td>\n",
       "      <td>1</td>\n",
       "      <td>1</td>\n",
       "      <td>0.021886</td>\n",
       "      <td>1</td>\n",
       "      <td>0</td>\n",
       "      <td>0</td>\n",
       "      <td>0</td>\n",
       "    </tr>\n",
       "    <tr>\n",
       "      <th>1</th>\n",
       "      <td>-0.440036</td>\n",
       "      <td>0.198164</td>\n",
       "      <td>-1.448581</td>\n",
       "      <td>0.117350</td>\n",
       "      <td>1</td>\n",
       "      <td>0</td>\n",
       "      <td>1</td>\n",
       "      <td>0.216534</td>\n",
       "      <td>0</td>\n",
       "      <td>0</td>\n",
       "      <td>1</td>\n",
       "      <td>0</td>\n",
       "    </tr>\n",
       "    <tr>\n",
       "      <th>2</th>\n",
       "      <td>-1.536794</td>\n",
       "      <td>0.293517</td>\n",
       "      <td>1.087768</td>\n",
       "      <td>1.333053</td>\n",
       "      <td>3</td>\n",
       "      <td>1</td>\n",
       "      <td>0</td>\n",
       "      <td>0.240687</td>\n",
       "      <td>1</td>\n",
       "      <td>0</td>\n",
       "      <td>0</td>\n",
       "      <td>0</td>\n",
       "    </tr>\n",
       "    <tr>\n",
       "      <th>3</th>\n",
       "      <td>0.501521</td>\n",
       "      <td>0.007457</td>\n",
       "      <td>-1.448581</td>\n",
       "      <td>-1.225848</td>\n",
       "      <td>2</td>\n",
       "      <td>0</td>\n",
       "      <td>0</td>\n",
       "      <td>-0.108918</td>\n",
       "      <td>0</td>\n",
       "      <td>0</td>\n",
       "      <td>0</td>\n",
       "      <td>0</td>\n",
       "    </tr>\n",
       "    <tr>\n",
       "      <th>4</th>\n",
       "      <td>2.063884</td>\n",
       "      <td>0.388871</td>\n",
       "      <td>-1.086246</td>\n",
       "      <td>0.785728</td>\n",
       "      <td>1</td>\n",
       "      <td>1</td>\n",
       "      <td>1</td>\n",
       "      <td>-0.365276</td>\n",
       "      <td>0</td>\n",
       "      <td>0</td>\n",
       "      <td>1</td>\n",
       "      <td>0</td>\n",
       "    </tr>\n",
       "  </tbody>\n",
       "</table>\n",
       "</div>"
      ],
      "text/plain": [
       "   CreditScore       Age    Tenure   Balance  NumOfProducts  HasCrCard  \\\n",
       "0    -0.326221  0.293517 -1.086246 -1.225848              1          1   \n",
       "1    -0.440036  0.198164 -1.448581  0.117350              1          0   \n",
       "2    -1.536794  0.293517  1.087768  1.333053              3          1   \n",
       "3     0.501521  0.007457 -1.448581 -1.225848              2          0   \n",
       "4     2.063884  0.388871 -1.086246  0.785728              1          1   \n",
       "\n",
       "   IsActiveMember  EstimatedSalary  Exited  Geography_Germany  \\\n",
       "0               1         0.021886       1                  0   \n",
       "1               1         0.216534       0                  0   \n",
       "2               0         0.240687       1                  0   \n",
       "3               0        -0.108918       0                  0   \n",
       "4               1        -0.365276       0                  0   \n",
       "\n",
       "   Geography_Spain  Gender_Male  \n",
       "0                0            0  \n",
       "1                1            0  \n",
       "2                0            0  \n",
       "3                0            0  \n",
       "4                1            0  "
      ]
     },
     "execution_count": 18,
     "metadata": {},
     "output_type": "execute_result"
    }
   ],
   "source": [
    "data_ohe.head()"
   ]
  },
  {
   "cell_type": "markdown",
   "metadata": {},
   "source": [
    "#### Разобъем датасет на 3 выборки: тренировочную, валидационную, тестовую в пропорции 3:1:1"
   ]
  },
  {
   "cell_type": "code",
   "execution_count": 19,
   "metadata": {},
   "outputs": [
    {
     "data": {
      "text/html": [
       "<div>\n",
       "<style scoped>\n",
       "    .dataframe tbody tr th:only-of-type {\n",
       "        vertical-align: middle;\n",
       "    }\n",
       "\n",
       "    .dataframe tbody tr th {\n",
       "        vertical-align: top;\n",
       "    }\n",
       "\n",
       "    .dataframe thead th {\n",
       "        text-align: right;\n",
       "    }\n",
       "</style>\n",
       "<table border=\"1\" class=\"dataframe\">\n",
       "  <thead>\n",
       "    <tr style=\"text-align: right;\">\n",
       "      <th></th>\n",
       "      <th>CreditScore</th>\n",
       "      <th>Age</th>\n",
       "      <th>Tenure</th>\n",
       "      <th>Balance</th>\n",
       "      <th>NumOfProducts</th>\n",
       "      <th>HasCrCard</th>\n",
       "      <th>IsActiveMember</th>\n",
       "      <th>EstimatedSalary</th>\n",
       "      <th>Geography_Germany</th>\n",
       "      <th>Geography_Spain</th>\n",
       "      <th>Gender_Male</th>\n",
       "    </tr>\n",
       "  </thead>\n",
       "  <tbody>\n",
       "    <tr>\n",
       "      <th>0</th>\n",
       "      <td>-0.326221</td>\n",
       "      <td>0.293517</td>\n",
       "      <td>-1.086246</td>\n",
       "      <td>-1.225848</td>\n",
       "      <td>1</td>\n",
       "      <td>1</td>\n",
       "      <td>1</td>\n",
       "      <td>0.021886</td>\n",
       "      <td>0</td>\n",
       "      <td>0</td>\n",
       "      <td>0</td>\n",
       "    </tr>\n",
       "    <tr>\n",
       "      <th>1</th>\n",
       "      <td>-0.440036</td>\n",
       "      <td>0.198164</td>\n",
       "      <td>-1.448581</td>\n",
       "      <td>0.117350</td>\n",
       "      <td>1</td>\n",
       "      <td>0</td>\n",
       "      <td>1</td>\n",
       "      <td>0.216534</td>\n",
       "      <td>0</td>\n",
       "      <td>1</td>\n",
       "      <td>0</td>\n",
       "    </tr>\n",
       "    <tr>\n",
       "      <th>2</th>\n",
       "      <td>-1.536794</td>\n",
       "      <td>0.293517</td>\n",
       "      <td>1.087768</td>\n",
       "      <td>1.333053</td>\n",
       "      <td>3</td>\n",
       "      <td>1</td>\n",
       "      <td>0</td>\n",
       "      <td>0.240687</td>\n",
       "      <td>0</td>\n",
       "      <td>0</td>\n",
       "      <td>0</td>\n",
       "    </tr>\n",
       "    <tr>\n",
       "      <th>3</th>\n",
       "      <td>0.501521</td>\n",
       "      <td>0.007457</td>\n",
       "      <td>-1.448581</td>\n",
       "      <td>-1.225848</td>\n",
       "      <td>2</td>\n",
       "      <td>0</td>\n",
       "      <td>0</td>\n",
       "      <td>-0.108918</td>\n",
       "      <td>0</td>\n",
       "      <td>0</td>\n",
       "      <td>0</td>\n",
       "    </tr>\n",
       "    <tr>\n",
       "      <th>4</th>\n",
       "      <td>2.063884</td>\n",
       "      <td>0.388871</td>\n",
       "      <td>-1.086246</td>\n",
       "      <td>0.785728</td>\n",
       "      <td>1</td>\n",
       "      <td>1</td>\n",
       "      <td>1</td>\n",
       "      <td>-0.365276</td>\n",
       "      <td>0</td>\n",
       "      <td>1</td>\n",
       "      <td>0</td>\n",
       "    </tr>\n",
       "    <tr>\n",
       "      <th>...</th>\n",
       "      <td>...</td>\n",
       "      <td>...</td>\n",
       "      <td>...</td>\n",
       "      <td>...</td>\n",
       "      <td>...</td>\n",
       "      <td>...</td>\n",
       "      <td>...</td>\n",
       "      <td>...</td>\n",
       "      <td>...</td>\n",
       "      <td>...</td>\n",
       "      <td>...</td>\n",
       "    </tr>\n",
       "    <tr>\n",
       "      <th>9995</th>\n",
       "      <td>1.246488</td>\n",
       "      <td>0.007457</td>\n",
       "      <td>0.000761</td>\n",
       "      <td>-1.225848</td>\n",
       "      <td>2</td>\n",
       "      <td>1</td>\n",
       "      <td>0</td>\n",
       "      <td>-0.066419</td>\n",
       "      <td>0</td>\n",
       "      <td>0</td>\n",
       "      <td>1</td>\n",
       "    </tr>\n",
       "    <tr>\n",
       "      <th>9996</th>\n",
       "      <td>-1.391939</td>\n",
       "      <td>-0.373958</td>\n",
       "      <td>1.812439</td>\n",
       "      <td>-0.306379</td>\n",
       "      <td>1</td>\n",
       "      <td>1</td>\n",
       "      <td>1</td>\n",
       "      <td>0.027988</td>\n",
       "      <td>0</td>\n",
       "      <td>0</td>\n",
       "      <td>1</td>\n",
       "    </tr>\n",
       "    <tr>\n",
       "      <th>9997</th>\n",
       "      <td>0.604988</td>\n",
       "      <td>-0.278604</td>\n",
       "      <td>0.725432</td>\n",
       "      <td>-1.225848</td>\n",
       "      <td>1</td>\n",
       "      <td>0</td>\n",
       "      <td>1</td>\n",
       "      <td>-1.008643</td>\n",
       "      <td>0</td>\n",
       "      <td>0</td>\n",
       "      <td>0</td>\n",
       "    </tr>\n",
       "    <tr>\n",
       "      <th>9998</th>\n",
       "      <td>1.256835</td>\n",
       "      <td>0.293517</td>\n",
       "      <td>-0.723910</td>\n",
       "      <td>-0.022608</td>\n",
       "      <td>2</td>\n",
       "      <td>1</td>\n",
       "      <td>0</td>\n",
       "      <td>-0.125231</td>\n",
       "      <td>1</td>\n",
       "      <td>0</td>\n",
       "      <td>1</td>\n",
       "    </tr>\n",
       "    <tr>\n",
       "      <th>9999</th>\n",
       "      <td>1.463771</td>\n",
       "      <td>-1.041433</td>\n",
       "      <td>0.000761</td>\n",
       "      <td>0.859965</td>\n",
       "      <td>1</td>\n",
       "      <td>1</td>\n",
       "      <td>0</td>\n",
       "      <td>-1.076370</td>\n",
       "      <td>0</td>\n",
       "      <td>0</td>\n",
       "      <td>0</td>\n",
       "    </tr>\n",
       "  </tbody>\n",
       "</table>\n",
       "<p>10000 rows × 11 columns</p>\n",
       "</div>"
      ],
      "text/plain": [
       "      CreditScore       Age    Tenure   Balance  NumOfProducts  HasCrCard  \\\n",
       "0       -0.326221  0.293517 -1.086246 -1.225848              1          1   \n",
       "1       -0.440036  0.198164 -1.448581  0.117350              1          0   \n",
       "2       -1.536794  0.293517  1.087768  1.333053              3          1   \n",
       "3        0.501521  0.007457 -1.448581 -1.225848              2          0   \n",
       "4        2.063884  0.388871 -1.086246  0.785728              1          1   \n",
       "...           ...       ...       ...       ...            ...        ...   \n",
       "9995     1.246488  0.007457  0.000761 -1.225848              2          1   \n",
       "9996    -1.391939 -0.373958  1.812439 -0.306379              1          1   \n",
       "9997     0.604988 -0.278604  0.725432 -1.225848              1          0   \n",
       "9998     1.256835  0.293517 -0.723910 -0.022608              2          1   \n",
       "9999     1.463771 -1.041433  0.000761  0.859965              1          1   \n",
       "\n",
       "      IsActiveMember  EstimatedSalary  Geography_Germany  Geography_Spain  \\\n",
       "0                  1         0.021886                  0                0   \n",
       "1                  1         0.216534                  0                1   \n",
       "2                  0         0.240687                  0                0   \n",
       "3                  0        -0.108918                  0                0   \n",
       "4                  1        -0.365276                  0                1   \n",
       "...              ...              ...                ...              ...   \n",
       "9995               0        -0.066419                  0                0   \n",
       "9996               1         0.027988                  0                0   \n",
       "9997               1        -1.008643                  0                0   \n",
       "9998               0        -0.125231                  1                0   \n",
       "9999               0        -1.076370                  0                0   \n",
       "\n",
       "      Gender_Male  \n",
       "0               0  \n",
       "1               0  \n",
       "2               0  \n",
       "3               0  \n",
       "4               0  \n",
       "...           ...  \n",
       "9995            1  \n",
       "9996            1  \n",
       "9997            0  \n",
       "9998            1  \n",
       "9999            0  \n",
       "\n",
       "[10000 rows x 11 columns]"
      ]
     },
     "execution_count": 19,
     "metadata": {},
     "output_type": "execute_result"
    }
   ],
   "source": [
    "features = data_ohe.drop('Exited', axis=1)\n",
    "features"
   ]
  },
  {
   "cell_type": "code",
   "execution_count": 20,
   "metadata": {},
   "outputs": [
    {
     "data": {
      "text/plain": [
       "0       1\n",
       "1       0\n",
       "2       1\n",
       "3       0\n",
       "4       0\n",
       "       ..\n",
       "9995    0\n",
       "9996    0\n",
       "9997    1\n",
       "9998    1\n",
       "9999    0\n",
       "Name: Exited, Length: 10000, dtype: int64"
      ]
     },
     "execution_count": 20,
     "metadata": {},
     "output_type": "execute_result"
    }
   ],
   "source": [
    "target = data_ohe['Exited']\n",
    "target"
   ]
  },
  {
   "cell_type": "code",
   "execution_count": 21,
   "metadata": {},
   "outputs": [],
   "source": [
    "feature_train, feature_temp, target_train, target_temp = train_test_split(\n",
    "    features, target, test_size=0.4, random_state=12345) "
   ]
  },
  {
   "cell_type": "code",
   "execution_count": 22,
   "metadata": {},
   "outputs": [
    {
     "name": "stdout",
     "output_type": "stream",
     "text": [
      "(6000, 11)\n",
      "(4000, 11)\n",
      "(6000,)\n",
      "(4000,)\n"
     ]
    }
   ],
   "source": [
    "print(feature_train.shape)\n",
    "print(feature_temp.shape)\n",
    "print(target_train.shape)\n",
    "print(target_temp.shape)"
   ]
  },
  {
   "cell_type": "code",
   "execution_count": 23,
   "metadata": {},
   "outputs": [],
   "source": [
    "feature_valid, feature_test, target_valid, target_test = train_test_split(\n",
    "    feature_temp, target_temp, test_size=0.5, random_state=12345) "
   ]
  },
  {
   "cell_type": "code",
   "execution_count": 24,
   "metadata": {},
   "outputs": [
    {
     "name": "stdout",
     "output_type": "stream",
     "text": [
      "(2000, 11)\n",
      "(2000, 11)\n",
      "(2000,)\n",
      "(2000,)\n"
     ]
    }
   ],
   "source": [
    "print(feature_valid.shape)\n",
    "print(feature_test.shape)\n",
    "print(target_valid.shape)\n",
    "print(target_test.shape)"
   ]
  },
  {
   "cell_type": "markdown",
   "metadata": {},
   "source": [
    "# Вывод: \n",
    "    \n",
    "\n",
    "На данном этапе:   \n",
    "    1. Проверили датасет на наличие пустых значений и дублей  \n",
    "    2. Заменили пустые значение на 0  \n",
    "    3. С помощью OneHotEncoding преобразовали качественные признаки в количественные  \n",
    "    4. Масштабировали некоторые признаки  \n",
    "    5. Разбили датасет на 3 выборки - тренировочную, валидационную, тестовую в пропорции 3:1:1.  "
   ]
  },
  {
   "cell_type": "markdown",
   "metadata": {},
   "source": [
    "### 2. Исследуйте баланс классов, обучите модель без учёта дисбаланса. Кратко опишите выводы."
   ]
  },
  {
   "cell_type": "code",
   "execution_count": 25,
   "metadata": {},
   "outputs": [
    {
     "data": {
      "text/plain": [
       "0    79.63\n",
       "1    20.37\n",
       "Name: Exited, dtype: float64"
      ]
     },
     "execution_count": 25,
     "metadata": {},
     "output_type": "execute_result"
    }
   ],
   "source": [
    "data_ohe['Exited'].value_counts(normalize=True) * 100"
   ]
  },
  {
   "cell_type": "markdown",
   "metadata": {},
   "source": [
    "#### Класс 0 - 80% данных\n",
    "#### Класс 1 - 20%.  \n",
    "#### Явная несбалансированность классов."
   ]
  },
  {
   "cell_type": "markdown",
   "metadata": {},
   "source": [
    "### Найдем наиболее точную модель классификации(без изменения гиперпараметров)"
   ]
  },
  {
   "cell_type": "code",
   "execution_count": 29,
   "metadata": {},
   "outputs": [],
   "source": [
    "def get_best_model(model):\n",
    "    \n",
    "    model = model(random_state=12345)\n",
    "    model.fit(feature_train, target_train)\n",
    "    predicted_valid = model.predict(feature_valid)\n",
    "    \n",
    "    accuracy = accuracy_score(target_valid, predicted_valid)\n",
    "    recall = recall_score(target_valid, predicted_valid)\n",
    "    precision = precision_score(target_valid, predicted_valid)\n",
    "    f1 = f1_score(target_valid, predicted_valid)\n",
    "    ROC_AUC = roc_auc_score(target_valid, model.predict_proba(feature_valid)[:, 1])\n",
    "    \n",
    "    print(f'Модель - {model},\\n Accuracy = {accuracy},\\n F1_Score {f1}\\n')\n",
    "    print(f'recall = {recall},\\n precision={precision},\\n ROC_AUC={ROC_AUC}\\n')"
   ]
  },
  {
   "cell_type": "code",
   "execution_count": 30,
   "metadata": {},
   "outputs": [
    {
     "name": "stdout",
     "output_type": "stream",
     "text": [
      "Модель - DecisionTreeClassifier(random_state=12345),\n",
      " Accuracy = 0.7945,\n",
      " F1_Score 0.5030229746070133\n",
      "\n",
      "recall = 0.49760765550239233,\n",
      " precision=0.508557457212714,\n",
      " ROC_AUC=0.6852766469673781\n",
      "\n",
      "Модель - RandomForestClassifier(random_state=12345),\n",
      " Accuracy = 0.8575,\n",
      " F1_Score 0.5739910313901345\n",
      "\n",
      "recall = 0.45933014354066987,\n",
      " precision=0.7649402390438247,\n",
      " ROC_AUC=0.8399805829940902\n",
      "\n",
      "Модель - LogisticRegression(random_state=12345),\n",
      " Accuracy = 0.802,\n",
      " F1_Score 0.33108108108108103\n",
      "\n",
      "recall = 0.23444976076555024,\n",
      " precision=0.5632183908045977,\n",
      " ROC_AUC=0.75880872736951\n",
      "\n"
     ]
    }
   ],
   "source": [
    "get_best_model(DecisionTreeClassifier)\n",
    "get_best_model(RandomForestClassifier)\n",
    "get_best_model(LogisticRegression)"
   ]
  },
  {
   "cell_type": "markdown",
   "metadata": {},
   "source": [
    "### Напишем функцию расчета основных метрик и добавления их в сводную таблицу"
   ]
  },
  {
   "cell_type": "code",
   "execution_count": 26,
   "metadata": {},
   "outputs": [],
   "source": [
    "model = list()\n",
    "resample = list()\n",
    "accuracy = list()\n",
    "precision_0 = list()\n",
    "precision_1 = list()\n",
    "recall_0 = list()\n",
    "recall_1 = list()\n",
    "F1_score = list()\n",
    "AUC_ROC = list()"
   ]
  },
  {
   "cell_type": "code",
   "execution_count": 27,
   "metadata": {},
   "outputs": [],
   "source": [
    "def get_metrics(clf_model, feature_valid, target_valid, name_model=None, sample=None):\n",
    "    \n",
    "    target_prob=clf_model.predict_proba(feature_valid)[:, 1]\n",
    "    target_pred=clf_model.predict(feature_valid)\n",
    "\n",
    "    print('Confusion Matrix')\n",
    "    print('__'*30)\n",
    "    plot_confusion_matrix(clf_model, feature_valid, target_valid)  \n",
    "    plt.show() \n",
    "    print('Classification Report')\n",
    "    print('__'*30)\n",
    "    print(classification_report(target_valid, target_pred),\"\\n\")\n",
    "    print('f1_score')\n",
    "    print('__'*30)\n",
    "    print(f1_score(target_valid, target_pred))\n",
    "          \n",
    "    model.append(name_model)\n",
    "    accuracy.append(accuracy_score(target_valid, target_pred))\n",
    "    precision_0.append(precision_score(target_valid, target_pred, pos_label=0))\n",
    "    precision_1.append(precision_score(target_valid, target_pred, pos_label=1))\n",
    "    recall_0.append(recall_score(target_valid,target_pred, pos_label=0))\n",
    "    recall_1.append(recall_score(target_valid,target_pred, pos_label=1))\n",
    "    F1_score.append(f1_score(target_valid, target_pred))\n",
    "    AUC_ROC.append(roc_auc_score(target_valid, target_prob))\n",
    "    resample.append(sample)"
   ]
  },
  {
   "cell_type": "code",
   "execution_count": 28,
   "metadata": {},
   "outputs": [
    {
     "name": "stdout",
     "output_type": "stream",
     "text": [
      "Confusion Matrix\n",
      "____________________________________________________________\n"
     ]
    },
    {
     "data": {
      "image/png": "[encoded data removed]",
      "text/plain": [
       "<Figure size 432x288 with 2 Axes>"
      ]
     },
     "metadata": {
      "needs_background": "light"
     },
     "output_type": "display_data"
    },
    {
     "name": "stdout",
     "output_type": "stream",
     "text": [
      "Classification Report\n",
      "____________________________________________________________\n",
      "              precision    recall  f1-score   support\n",
      "\n",
      "           0       0.87      0.96      0.91      1582\n",
      "           1       0.76      0.46      0.57       418\n",
      "\n",
      "    accuracy                           0.86      2000\n",
      "   macro avg       0.82      0.71      0.74      2000\n",
      "weighted avg       0.85      0.86      0.84      2000\n",
      " \n",
      "\n",
      "f1_score\n",
      "____________________________________________________________\n",
      "0.5739910313901345\n"
     ]
    }
   ],
   "source": [
    "rfc_model = RandomForestClassifier(random_state=12345).fit(feature_train, target_train)\n",
    "get_metrics(rfc_model, feature_valid, target_valid, 'RandomForest', 'default')"
   ]
  },
  {
   "cell_type": "code",
   "execution_count": 29,
   "metadata": {},
   "outputs": [
    {
     "data": {
      "text/plain": [
       "<sklearn.metrics._plot.roc_curve.RocCurveDisplay at 0x2300c8572e0>"
      ]
     },
     "execution_count": 29,
     "metadata": {},
     "output_type": "execute_result"
    },
    {
     "data": {
      "image/png": "[encoded data removed]",
      "text/plain": [
       "<Figure size 1152x432 with 2 Axes>"
      ]
     },
     "metadata": {
      "needs_background": "light"
     },
     "output_type": "display_data"
    }
   ],
   "source": [
    "fig, (ax1, ax2) = plt.subplots(1, 2, figsize=(16, 6))\n",
    "\n",
    "plot_precision_recall_curve(rfc_model, feature_valid, target_valid, ax=ax1)\n",
    "plot_roc_curve(rfc_model, feature_valid, target_valid, ax=ax2)"
   ]
  },
  {
   "cell_type": "markdown",
   "metadata": {},
   "source": [
    "#### Построим график важности признаков для понимания какие признаки имеют наибольшую значимость при определении целевого признака."
   ]
  },
  {
   "cell_type": "code",
   "execution_count": 30,
   "metadata": {},
   "outputs": [
    {
     "data": {
      "image/png": "[encoded data removed]",
      "text/plain": [
       "<Figure size 432x288 with 1 Axes>"
      ]
     },
     "metadata": {
      "needs_background": "light"
     },
     "output_type": "display_data"
    }
   ],
   "source": [
    "feature_importances = (pd.Series(rfc_model.feature_importances_, \n",
    "                                index=feature_train.columns)\n",
    "                       .sort_values(ascending=False)\n",
    "                      )\n",
    "ax = sns.barplot(x=feature_importances, y=feature_importances.index)\n",
    "ax.set(xlabel='Важность признака', \n",
    "       ylabel='Признак')\n",
    "ax.set_title('График важности признаков');"
   ]
  },
  {
   "cell_type": "markdown",
   "metadata": {},
   "source": [
    "#### Признака Tenure имеет довольно высокую знаимость при определении целевого признака. Поэтому правильнее было заполнить медианное значение в пропусках вместо 0."
   ]
  },
  {
   "cell_type": "code",
   "execution_count": 32,
   "metadata": {},
   "outputs": [
    {
     "name": "stdout",
     "output_type": "stream",
     "text": [
      "Confusion Matrix\n",
      "____________________________________________________________\n"
     ]
    },
    {
     "data": {
      "image/png": "[encoded data removed]",
      "text/plain": [
       "<Figure size 432x288 with 2 Axes>"
      ]
     },
     "metadata": {
      "needs_background": "light"
     },
     "output_type": "display_data"
    },
    {
     "name": "stdout",
     "output_type": "stream",
     "text": [
      "Classification Report\n",
      "____________________________________________________________\n",
      "              precision    recall  f1-score   support\n",
      "\n",
      "           0       0.87      0.87      0.87      1582\n",
      "           1       0.51      0.50      0.50       418\n",
      "\n",
      "    accuracy                           0.79      2000\n",
      "   macro avg       0.69      0.69      0.69      2000\n",
      "weighted avg       0.79      0.79      0.79      2000\n",
      " \n",
      "\n",
      "f1_score\n",
      "____________________________________________________________\n",
      "0.5030229746070133\n"
     ]
    }
   ],
   "source": [
    "dtc_model = DecisionTreeClassifier(random_state=12345).fit(feature_train, target_train)\n",
    "get_metrics(dtc_model, feature_valid, target_valid, 'DecisionTree', 'default')"
   ]
  },
  {
   "cell_type": "code",
   "execution_count": 33,
   "metadata": {},
   "outputs": [
    {
     "data": {
      "text/plain": [
       "<sklearn.metrics._plot.roc_curve.RocCurveDisplay at 0x2300ca98c70>"
      ]
     },
     "execution_count": 33,
     "metadata": {},
     "output_type": "execute_result"
    },
    {
     "data": {
      "image/png": "[encoded data removed]",
      "text/plain": [
       "<Figure size 1152x432 with 2 Axes>"
      ]
     },
     "metadata": {
      "needs_background": "light"
     },
     "output_type": "display_data"
    }
   ],
   "source": [
    "fig, (ax1, ax2) = plt.subplots(1, 2, figsize=(16, 6))\n",
    "\n",
    "plot_precision_recall_curve(dtc_model, feature_valid, target_valid, ax=ax1)\n",
    "plot_roc_curve(dtc_model, feature_valid, target_valid, ax=ax2)"
   ]
  },
  {
   "cell_type": "code",
   "execution_count": 34,
   "metadata": {},
   "outputs": [
    {
     "name": "stdout",
     "output_type": "stream",
     "text": [
      "Confusion Matrix\n",
      "____________________________________________________________\n"
     ]
    },
    {
     "data": {
      "image/png": "[encoded data removed]",
      "text/plain": [
       "<Figure size 432x288 with 2 Axes>"
      ]
     },
     "metadata": {
      "needs_background": "light"
     },
     "output_type": "display_data"
    },
    {
     "name": "stdout",
     "output_type": "stream",
     "text": [
      "Classification Report\n",
      "____________________________________________________________\n",
      "              precision    recall  f1-score   support\n",
      "\n",
      "           0       0.82      0.95      0.88      1582\n",
      "           1       0.56      0.23      0.33       418\n",
      "\n",
      "    accuracy                           0.80      2000\n",
      "   macro avg       0.69      0.59      0.61      2000\n",
      "weighted avg       0.77      0.80      0.77      2000\n",
      " \n",
      "\n",
      "f1_score\n",
      "____________________________________________________________\n",
      "0.33108108108108103\n"
     ]
    }
   ],
   "source": [
    "lr_model = LogisticRegression(random_state=12345).fit(feature_train, target_train)\n",
    "get_metrics(lr_model, feature_valid, target_valid, 'LogisticRegression', 'default')"
   ]
  },
  {
   "cell_type": "code",
   "execution_count": 35,
   "metadata": {},
   "outputs": [
    {
     "data": {
      "text/plain": [
       "<sklearn.metrics._plot.roc_curve.RocCurveDisplay at 0x2300cd4a610>"
      ]
     },
     "execution_count": 35,
     "metadata": {},
     "output_type": "execute_result"
    },
    {
     "data": {
      "image/png": "[encoded data removed]",
      "text/plain": [
       "<Figure size 1152x432 with 2 Axes>"
      ]
     },
     "metadata": {
      "needs_background": "light"
     },
     "output_type": "display_data"
    }
   ],
   "source": [
    "fig, (ax1, ax2) = plt.subplots(1, 2, figsize=(16, 6))\n",
    "\n",
    "plot_precision_recall_curve(lr_model, feature_valid, target_valid, ax=ax1)\n",
    "plot_roc_curve(lr_model, feature_valid, target_valid, ax=ax2)"
   ]
  },
  {
   "cell_type": "markdown",
   "metadata": {},
   "source": [
    "### Подберем наилучшие параметры, а также сделаем стратификацию, для сглаживания дисбаланса классов"
   ]
  },
  {
   "cell_type": "markdown",
   "metadata": {},
   "source": [
    "#### LogisticRegression"
   ]
  },
  {
   "cell_type": "code",
   "execution_count": 46,
   "metadata": {},
   "outputs": [
    {
     "name": "stdout",
     "output_type": "stream",
     "text": [
      "Fitting 5 folds for each of 10 candidates, totalling 50 fits\n",
      "Best f1_score: 0.3124, with best C: {'C': 0.23}\n",
      "Wall time: 389 ms\n"
     ]
    }
   ],
   "source": [
    "%%time\n",
    "lr_best_params = LogisticRegression(random_state=12345)\n",
    "\n",
    "# Stratification\n",
    "cv = StratifiedShuffleSplit(n_splits=5, random_state=12345)\n",
    "\n",
    "params_lr = {'C': np.linspace(0.01, 1, 10)}\n",
    "\n",
    "# GridSearch\n",
    "\n",
    "clf_lr = GridSearchCV(\n",
    "    lr_best_params, params_lr, scoring='f1', cv=cv, n_jobs=-1, verbose=1)\n",
    "clf_lr.fit(feature_train, target_train)\n",
    "\n",
    "print('Best f1_score: {:.4}, with best C: {}'.format(\n",
    "    clf_lr.best_score_, clf_lr.best_params_))"
   ]
  },
  {
   "cell_type": "code",
   "execution_count": 47,
   "metadata": {},
   "outputs": [
    {
     "name": "stdout",
     "output_type": "stream",
     "text": [
      "Confusion Matrix\n",
      "____________________________________________________________\n"
     ]
    },
    {
     "data": {
      "image/png": "[encoded data removed]",
      "text/plain": [
       "<Figure size 432x288 with 2 Axes>"
      ]
     },
     "metadata": {
      "needs_background": "light"
     },
     "output_type": "display_data"
    },
    {
     "name": "stdout",
     "output_type": "stream",
     "text": [
      "Classification Report\n",
      "____________________________________________________________\n",
      "              precision    recall  f1-score   support\n",
      "\n",
      "           0       0.82      0.96      0.88      1582\n",
      "           1       0.57      0.23      0.33       418\n",
      "\n",
      "    accuracy                           0.80      2000\n",
      "   macro avg       0.70      0.59      0.61      2000\n",
      "weighted avg       0.77      0.80      0.77      2000\n",
      " \n",
      "\n",
      "f1_score\n",
      "____________________________________________________________\n",
      "0.3282051282051282\n"
     ]
    }
   ],
   "source": [
    "get_metrics(clf_lr, feature_valid, target_valid, 'LogisticRegression', 'best_params')"
   ]
  },
  {
   "cell_type": "markdown",
   "metadata": {},
   "source": [
    "#### При лучших гиперпараметрах f-мера не увеличилась на модели LogisticRegression"
   ]
  },
  {
   "cell_type": "markdown",
   "metadata": {},
   "source": [
    "### Построим график Precision-Recall"
   ]
  },
  {
   "cell_type": "code",
   "execution_count": 41,
   "metadata": {},
   "outputs": [
    {
     "data": {
      "image/png": "[encoded data removed]",
      "text/plain": [
       "<Figure size 432x432 with 1 Axes>"
      ]
     },
     "metadata": {
      "needs_background": "light"
     },
     "output_type": "display_data"
    }
   ],
   "source": [
    "precision, recall, thresholds = precision_recall_curve(target_valid, clf_lr.predict_proba(feature_valid)[:, 1])\n",
    "\n",
    "plt.figure(figsize=(6, 6))\n",
    "plt.step(recall, precision, where='post')\n",
    "plt.xlabel('Recall')\n",
    "plt.ylabel('Precision')\n",
    "plt.ylim([0.0, 0.8])\n",
    "plt.xlim([0.0, 1.05])\n",
    "plt.title('Кривая Precision-Recall')\n",
    "plt.grid()\n",
    "plt.show()"
   ]
  },
  {
   "cell_type": "markdown",
   "metadata": {},
   "source": [
    "#### RandomForestClassifier"
   ]
  },
  {
   "cell_type": "code",
   "execution_count": 48,
   "metadata": {},
   "outputs": [
    {
     "name": "stdout",
     "output_type": "stream",
     "text": [
      "Fitting 5 folds for each of 100 candidates, totalling 500 fits\n",
      "Best f1_score: 0.5898, with best parameters: {'max_depth': 17, 'n_estimators': 21}\n",
      "Wall time: 15.3 s\n"
     ]
    }
   ],
   "source": [
    "%%time\n",
    "rfc_best_params = RandomForestClassifier(random_state=12345)\n",
    "\n",
    "# Stratification\n",
    "cv = StratifiedShuffleSplit(n_splits=5, random_state=12345)\n",
    "\n",
    "params_rf = { 'n_estimators': range(1, 51, 10),\n",
    "            'max_depth': range(1,21)\n",
    "         }\n",
    "# GridSearch\n",
    "\n",
    "clf_rfc = GridSearchCV(\n",
    "    rfc_best_params, params_rf, scoring='f1', n_jobs=-1, cv=cv, verbose=1)\n",
    "clf_rfc.fit(feature_train, target_train)\n",
    "\n",
    "print('Best f1_score: {:.4}, with best parameters: {}'.format(\n",
    "    clf_rfc.best_score_, clf_rfc.best_params_))"
   ]
  },
  {
   "cell_type": "code",
   "execution_count": 49,
   "metadata": {},
   "outputs": [
    {
     "name": "stdout",
     "output_type": "stream",
     "text": [
      "Confusion Matrix\n",
      "____________________________________________________________\n"
     ]
    },
    {
     "data": {
      "image/png": "[encoded data removed]",
      "text/plain": [
       "<Figure size 432x288 with 2 Axes>"
      ]
     },
     "metadata": {
      "needs_background": "light"
     },
     "output_type": "display_data"
    },
    {
     "name": "stdout",
     "output_type": "stream",
     "text": [
      "Classification Report\n",
      "____________________________________________________________\n",
      "              precision    recall  f1-score   support\n",
      "\n",
      "           0       0.87      0.95      0.91      1582\n",
      "           1       0.72      0.47      0.57       418\n",
      "\n",
      "    accuracy                           0.85      2000\n",
      "   macro avg       0.80      0.71      0.74      2000\n",
      "weighted avg       0.84      0.85      0.84      2000\n",
      " \n",
      "\n",
      "f1_score\n",
      "____________________________________________________________\n",
      "0.5701881331403763\n"
     ]
    }
   ],
   "source": [
    "get_metrics(clf_rfc, feature_valid, target_valid, 'RandomForest', 'best_params')"
   ]
  },
  {
   "cell_type": "markdown",
   "metadata": {},
   "source": [
    "#### DecisionTreeClassifier"
   ]
  },
  {
   "cell_type": "code",
   "execution_count": 50,
   "metadata": {},
   "outputs": [
    {
     "name": "stdout",
     "output_type": "stream",
     "text": [
      "Fitting 5 folds for each of 20 candidates, totalling 100 fits\n",
      "Best f1_score: 0.55, with best parameters: {'max_depth': 7}\n",
      "Wall time: 769 ms\n"
     ]
    }
   ],
   "source": [
    "%%time\n",
    "dtc_best_params = DecisionTreeClassifier(random_state=12345)\n",
    "\n",
    "# Stratification\n",
    "cv = StratifiedShuffleSplit(n_splits=5, random_state=12345)\n",
    "\n",
    "params_tree = {'max_depth': range(1,21)\n",
    "         }\n",
    "# GridSearch\n",
    "\n",
    "clf_dtc = GridSearchCV(\n",
    "    dtc_best_params, params_tree, scoring='f1', n_jobs=-1, cv=cv, verbose=1)\n",
    "clf_dtc.fit(feature_train, target_train)\n",
    "\n",
    "print('Best f1_score: {:.4}, with best parameters: {}'.format(\n",
    "    clf_dtc.best_score_, clf_dtc.best_params_))"
   ]
  },
  {
   "cell_type": "code",
   "execution_count": 51,
   "metadata": {},
   "outputs": [
    {
     "name": "stdout",
     "output_type": "stream",
     "text": [
      "Confusion Matrix\n",
      "____________________________________________________________\n"
     ]
    },
    {
     "data": {
      "image/png": "[encoded data removed]",
      "text/plain": [
       "<Figure size 432x288 with 2 Axes>"
      ]
     },
     "metadata": {
      "needs_background": "light"
     },
     "output_type": "display_data"
    },
    {
     "name": "stdout",
     "output_type": "stream",
     "text": [
      "Classification Report\n",
      "____________________________________________________________\n",
      "              precision    recall  f1-score   support\n",
      "\n",
      "           0       0.86      0.97      0.91      1582\n",
      "           1       0.77      0.41      0.53       418\n",
      "\n",
      "    accuracy                           0.85      2000\n",
      "   macro avg       0.81      0.69      0.72      2000\n",
      "weighted avg       0.84      0.85      0.83      2000\n",
      " \n",
      "\n",
      "f1_score\n",
      "____________________________________________________________\n",
      "0.5320813771517998\n"
     ]
    }
   ],
   "source": [
    "get_metrics(clf_dtc, feature_valid, target_valid, 'DecisionTree', 'best_params')"
   ]
  },
  {
   "cell_type": "markdown",
   "metadata": {},
   "source": [
    "### C учетом баланса классов class_weight"
   ]
  },
  {
   "cell_type": "markdown",
   "metadata": {},
   "source": [
    "#### LogisticRegression"
   ]
  },
  {
   "cell_type": "code",
   "execution_count": 52,
   "metadata": {},
   "outputs": [
    {
     "name": "stdout",
     "output_type": "stream",
     "text": [
      "Fitting 5 folds for each of 10 candidates, totalling 50 fits\n",
      "Best f1_score: 0.5056, with best C: {'C': 0.23}\n",
      "Wall time: 371 ms\n"
     ]
    }
   ],
   "source": [
    "%%time\n",
    "lr_best_params_balanced = LogisticRegression(random_state=12345, class_weight='balanced')\n",
    "\n",
    "# Stratification\n",
    "cv = StratifiedShuffleSplit(n_splits=5, random_state=12345)\n",
    "\n",
    "params_lr = {'C': np.linspace(0.01, 1, 10)}\n",
    "\n",
    "# GridSearch\n",
    "\n",
    "clf_lr_balanced = GridSearchCV(\n",
    "    lr_best_params_balanced, params_lr, scoring='f1', n_jobs=-1, verbose=1, cv=cv)\n",
    "clf_lr_balanced.fit(feature_train, target_train)\n",
    "\n",
    "print('Best f1_score: {:.4}, with best C: {}'.format(\n",
    "    clf_lr_balanced.best_score_, clf_lr_balanced.best_params_))"
   ]
  },
  {
   "cell_type": "code",
   "execution_count": 53,
   "metadata": {},
   "outputs": [
    {
     "name": "stdout",
     "output_type": "stream",
     "text": [
      "Confusion Matrix\n",
      "____________________________________________________________\n"
     ]
    },
    {
     "data": {
      "image/png": "[encoded data removed]",
      "text/plain": [
       "<Figure size 432x288 with 2 Axes>"
      ]
     },
     "metadata": {
      "needs_background": "light"
     },
     "output_type": "display_data"
    },
    {
     "name": "stdout",
     "output_type": "stream",
     "text": [
      "Classification Report\n",
      "____________________________________________________________\n",
      "              precision    recall  f1-score   support\n",
      "\n",
      "           0       0.89      0.71      0.79      1582\n",
      "           1       0.38      0.68      0.49       418\n",
      "\n",
      "    accuracy                           0.70      2000\n",
      "   macro avg       0.64      0.70      0.64      2000\n",
      "weighted avg       0.79      0.70      0.73      2000\n",
      " \n",
      "\n",
      "f1_score\n",
      "____________________________________________________________\n",
      "0.4901456726649529\n"
     ]
    }
   ],
   "source": [
    "get_metrics(clf_lr_balanced, feature_valid, target_valid, 'LogisticRegression', 'best_params_balanced')"
   ]
  },
  {
   "cell_type": "markdown",
   "metadata": {},
   "source": [
    "#### При применении параметра class_weight, f1_score вырос с 0.33 до 0.49"
   ]
  },
  {
   "cell_type": "code",
   "execution_count": 54,
   "metadata": {},
   "outputs": [
    {
     "data": {
      "image/png": "[encoded data removed]",
      "text/plain": [
       "<Figure size 432x432 with 1 Axes>"
      ]
     },
     "metadata": {
      "needs_background": "light"
     },
     "output_type": "display_data"
    }
   ],
   "source": [
    "precision, recall, thresholds = precision_recall_curve(target_valid, clf_lr_balanced.predict_proba(feature_valid)[:, 1])\n",
    "\n",
    "plt.figure(figsize=(6, 6))\n",
    "plt.step(recall, precision, where='post')\n",
    "plt.xlabel('Recall')\n",
    "plt.ylabel('Precision')\n",
    "plt.ylim([0.0, 0.8])\n",
    "plt.xlim([0.0, 1.05])\n",
    "plt.title('Кривая Precision-Recall')\n",
    "plt.grid()\n",
    "plt.show()"
   ]
  },
  {
   "cell_type": "markdown",
   "metadata": {},
   "source": [
    "### RandomForest"
   ]
  },
  {
   "cell_type": "code",
   "execution_count": 55,
   "metadata": {},
   "outputs": [
    {
     "name": "stdout",
     "output_type": "stream",
     "text": [
      "Fitting 5 folds for each of 100 candidates, totalling 500 fits\n",
      "0.6189473684210526\n",
      "Best f1_score: 0.6403, with best parameters: {'max_depth': 7, 'n_estimators': 41} \n",
      "Wall time: 15.4 s\n"
     ]
    }
   ],
   "source": [
    "%%time\n",
    "rfc_best_params_balanced = RandomForestClassifier(random_state=12345, class_weight='balanced')\n",
    "\n",
    "# Stratification\n",
    "cv = StratifiedShuffleSplit(n_splits=5, random_state=12345)\n",
    "\n",
    "params_rf = { 'n_estimators': range(1, 51, 10),\n",
    "            'max_depth': range(1,21)\n",
    "         }\n",
    "# GridSearch\n",
    "\n",
    "clf_rfc_balanced = GridSearchCV(\n",
    "    rfc_best_params_balanced, params_rf, scoring='f1', n_jobs=-1, verbose=1, cv=cv)\n",
    "clf_rfc_balanced.fit(feature_train, target_train)\n",
    "clf_rfc_balanced_pred = clf_rfc_balanced.predict(feature_valid)\n",
    "print(f1_score(target_valid, clf_rfc_balanced_pred))\n",
    "\n",
    "print('Best f1_score: {:.4}, with best parameters: {} '.format(\n",
    "    clf_rfc_balanced.best_score_, clf_rfc_balanced.best_params_))"
   ]
  },
  {
   "cell_type": "code",
   "execution_count": 56,
   "metadata": {},
   "outputs": [
    {
     "name": "stdout",
     "output_type": "stream",
     "text": [
      "Confusion Matrix\n",
      "____________________________________________________________\n"
     ]
    },
    {
     "data": {
      "image/png": "[encoded data removed]",
      "text/plain": [
       "<Figure size 432x288 with 2 Axes>"
      ]
     },
     "metadata": {
      "needs_background": "light"
     },
     "output_type": "display_data"
    },
    {
     "name": "stdout",
     "output_type": "stream",
     "text": [
      "Classification Report\n",
      "____________________________________________________________\n",
      "              precision    recall  f1-score   support\n",
      "\n",
      "           0       0.92      0.85      0.88      1582\n",
      "           1       0.55      0.70      0.62       418\n",
      "\n",
      "    accuracy                           0.82      2000\n",
      "   macro avg       0.73      0.78      0.75      2000\n",
      "weighted avg       0.84      0.82      0.83      2000\n",
      " \n",
      "\n",
      "f1_score\n",
      "____________________________________________________________\n",
      "0.6189473684210526\n"
     ]
    }
   ],
   "source": [
    "get_metrics(clf_rfc_balanced, feature_valid, target_valid, 'RandomForest', 'best_params_balanced')"
   ]
  },
  {
   "cell_type": "markdown",
   "metadata": {},
   "source": [
    "#### При применении параметра class_weight, f1_score вырос с 0.57 до 0.61"
   ]
  },
  {
   "cell_type": "markdown",
   "metadata": {},
   "source": [
    "#### DecisionTree"
   ]
  },
  {
   "cell_type": "code",
   "execution_count": 57,
   "metadata": {},
   "outputs": [
    {
     "name": "stdout",
     "output_type": "stream",
     "text": [
      "Fitting 5 folds for each of 30 candidates, totalling 150 fits\n",
      "Best f1_score: 0.5753, with best parameters: {'max_depth': 6}\n",
      "Wall time: 1.18 s\n"
     ]
    }
   ],
   "source": [
    "%%time\n",
    "dtc_best_params_balanced = DecisionTreeClassifier(random_state=12345, class_weight='balanced')\n",
    "\n",
    "# Stratification\n",
    "cv = StratifiedShuffleSplit(n_splits=5, random_state=12345)\n",
    "\n",
    "params_tree = {'max_depth': range(1,31)\n",
    "         }\n",
    "# GridSearch\n",
    "\n",
    "clf_dtc_balanced = GridSearchCV(\n",
    "    dtc_best_params_balanced, params_tree, scoring='f1', n_jobs=-1, verbose=1, cv=cv)\n",
    "clf_dtc_balanced.fit(feature_train, target_train)\n",
    "\n",
    "print('Best f1_score: {:.4}, with best parameters: {}'.format(\n",
    "    clf_dtc_balanced.best_score_, clf_dtc_balanced.best_params_))"
   ]
  },
  {
   "cell_type": "code",
   "execution_count": 58,
   "metadata": {},
   "outputs": [
    {
     "name": "stdout",
     "output_type": "stream",
     "text": [
      "Confusion Matrix\n",
      "____________________________________________________________\n"
     ]
    },
    {
     "data": {
      "image/png": "[encoded data removed]",
      "text/plain": [
       "<Figure size 432x288 with 2 Axes>"
      ]
     },
     "metadata": {
      "needs_background": "light"
     },
     "output_type": "display_data"
    },
    {
     "name": "stdout",
     "output_type": "stream",
     "text": [
      "Classification Report\n",
      "____________________________________________________________\n",
      "              precision    recall  f1-score   support\n",
      "\n",
      "           0       0.91      0.78      0.84      1582\n",
      "           1       0.46      0.71      0.56       418\n",
      "\n",
      "    accuracy                           0.77      2000\n",
      "   macro avg       0.69      0.74      0.70      2000\n",
      "weighted avg       0.82      0.77      0.78      2000\n",
      " \n",
      "\n",
      "f1_score\n",
      "____________________________________________________________\n",
      "0.5581835383159887\n"
     ]
    }
   ],
   "source": [
    "get_metrics(clf_dtc_balanced, feature_valid, target_valid, 'DecisionTree', 'best_params_balanced')"
   ]
  },
  {
   "cell_type": "markdown",
   "metadata": {},
   "source": [
    "#### При применении параметра class_weight, f1_score вырос с 0.53 до 0.55"
   ]
  },
  {
   "cell_type": "markdown",
   "metadata": {},
   "source": [
    "### Общий вывод: f1 score после настройки гиперпараметров и применения стандартной балансировки с 0.573991 до 0.618947 на наилучшей модели RandomForest.\n",
    "### При этом произошло снижение accuracy с 0.8575 до 0.8190, precision_1 с 0.764940 до 0.552632, recall_1. Вырос recall_1 с 0.459330 до 0.703349. AUC_ROC получили самый высокий показатель 0.852360 именно при настройке параметров."
   ]
  },
  {
   "cell_type": "markdown",
   "metadata": {},
   "source": [
    "### Построим кривую ROC_AUC для 3-х моделей по валидационной выборке"
   ]
  },
  {
   "cell_type": "code",
   "execution_count": 59,
   "metadata": {},
   "outputs": [],
   "source": [
    "predict_proba_tree = clf_dtc_balanced.predict_proba(feature_valid)[:, 1]"
   ]
  },
  {
   "cell_type": "code",
   "execution_count": 60,
   "metadata": {},
   "outputs": [],
   "source": [
    "predict_proba_rf = clf_rfc_balanced.predict_proba(feature_valid)[:, 1]"
   ]
  },
  {
   "cell_type": "code",
   "execution_count": 61,
   "metadata": {},
   "outputs": [],
   "source": [
    "predict_proba_lr = clf_lr_balanced.predict_proba(feature_valid)[:, 1]"
   ]
  },
  {
   "cell_type": "code",
   "execution_count": 62,
   "metadata": {},
   "outputs": [
    {
     "name": "stdout",
     "output_type": "stream",
     "text": [
      "ROC-AUC_score_DecisionTree: 0.7999473744699641\n",
      "ROC-AUC_score_RandomForest: 0.8523596803755165\n",
      "ROC-AUC_score_LogisticRegression: 0.7640531336386017\n"
     ]
    },
    {
     "data": {
      "image/png": "[encoded data removed]",
      "text/plain": [
       "<Figure size 1152x864 with 1 Axes>"
      ]
     },
     "metadata": {
      "needs_background": "light"
     },
     "output_type": "display_data"
    }
   ],
   "source": [
    "plt.figure(figsize=(16, 12))\n",
    "\n",
    "fpr_tree, tpr_tree, thresholds_tree = roc_curve(target_valid, predict_proba_tree)\n",
    "plt.plot(fpr_tree, tpr_tree, label='DecisionTree')\n",
    "print('ROC-AUC_score_DecisionTree:', roc_auc_score(target_valid, predict_proba_tree))\n",
    "\n",
    "fpr_forest, tpr_forest, thresholds_forest = roc_curve(target_valid, predict_proba_rf)\n",
    "plt.plot(fpr_forest, tpr_forest, label='RandomForest')\n",
    "print('ROC-AUC_score_RandomForest:', roc_auc_score(target_valid, predict_proba_rf))\n",
    "\n",
    "fpr_logistic, tpr_logistic, thresholds_logistic = roc_curve(target_valid, predict_proba_lr)\n",
    "plt.plot(fpr_logistic, tpr_logistic, label='LogisticRegression')\n",
    "print('ROC-AUC_score_LogisticRegression:', roc_auc_score(target_valid, predict_proba_lr))\n",
    "\n",
    "# ROC-кривая случайной модели (выглядит как прямая)\n",
    "plt.plot([0, 1], [0, 1], linestyle='--')\n",
    "\n",
    "#   Установим границы осей от 0 до 1 \n",
    "plt.xlim(0, 1)\n",
    "plt.ylim(0, 1)\n",
    "\n",
    "plt.xlabel('False Positive Rate')\n",
    "plt.ylabel('True Positive Rate')\n",
    "plt.legend(loc='lower right', fontsize='x-large')\n",
    "\n",
    "plt.title('ROC-кривая')\n",
    "plt.show()"
   ]
  },
  {
   "cell_type": "markdown",
   "metadata": {},
   "source": [
    "### Увеличим размер выборки методом undersapling"
   ]
  },
  {
   "cell_type": "markdown",
   "metadata": {},
   "source": [
    "Напишем функцию, которая будет принимать на вход аргументы: оцениваемые признаки, целевой признак, количество повторений и увеличивать размера выборки по меньшему классу."
   ]
  },
  {
   "cell_type": "code",
   "execution_count": 58,
   "metadata": {},
   "outputs": [],
   "source": [
    "def upsampling(feature, target, repeat):\n",
    "        \n",
    "    \"\"\"\n",
    "    Функция формирует новую выборку по исходной, увеличивая элементы меньшего класса в количество раз, \n",
    "    указанное в переменной repeat.\n",
    "    \n",
    "    Выполнение происходит в несколько этапов:\n",
    "    \n",
    "    1. Обучающая выборка разделяется на отрицательные и положительные объекты;\n",
    "    2. Элементы меньшего класса умножаются на переменную repeat;\n",
    "    3. Из полученных данных создается новая выборка;\n",
    "    4. Выборка перемешивается.\n",
    "    \"\"\"\n",
    "    features_ones = feature[target == 1]\n",
    "    features_zeroes = feature[target == 0]\n",
    "    target_ones = target[target == 1]\n",
    "    target_zeroes = target[target == 0]\n",
    "    \n",
    "    features_upsampled = pd.concat([features_zeroes] + [features_ones] * repeat)\n",
    "    target_upsampled = pd.concat([target_zeroes] + [target_ones] * repeat)\n",
    "    \n",
    "    features_upsampled, target_upsampled = shuffle(\n",
    "        features_upsampled, target_upsampled, random_state=12345)\n",
    "    \n",
    "    return features_upsampled, target_upsampled"
   ]
  },
  {
   "cell_type": "code",
   "execution_count": 59,
   "metadata": {},
   "outputs": [],
   "source": [
    "features_upsampled, target_upsampled = upsampling(feature_train, target_train, 4)"
   ]
  },
  {
   "cell_type": "markdown",
   "metadata": {},
   "source": [
    "#### Проверим выборки по размеру"
   ]
  },
  {
   "cell_type": "code",
   "execution_count": 60,
   "metadata": {},
   "outputs": [
    {
     "name": "stdout",
     "output_type": "stream",
     "text": [
      "(9588, 11)\n",
      "(9588,)\n"
     ]
    }
   ],
   "source": [
    "print(features_upsampled.shape)\n",
    "print(target_upsampled.shape)"
   ]
  },
  {
   "cell_type": "code",
   "execution_count": 61,
   "metadata": {},
   "outputs": [
    {
     "data": {
      "text/plain": [
       "0    0.501043\n",
       "1    0.498957\n",
       "Name: Exited, dtype: float64"
      ]
     },
     "execution_count": 61,
     "metadata": {},
     "output_type": "execute_result"
    }
   ],
   "source": [
    "target_upsampled.value_counts(normalize=True)\n",
    "# Выборки практически равные"
   ]
  },
  {
   "cell_type": "markdown",
   "metadata": {},
   "source": [
    "**LogisticRegression**"
   ]
  },
  {
   "cell_type": "code",
   "execution_count": 62,
   "metadata": {},
   "outputs": [
    {
     "name": "stdout",
     "output_type": "stream",
     "text": [
      "Best f1_score: 0.7088, with best C: {'C': 0.12}\n",
      "Wall time: 1.14 s\n"
     ]
    }
   ],
   "source": [
    "%%time\n",
    "lr_upsampled = LogisticRegression(random_state=12345, class_weight='balanced')\n",
    "\n",
    "# Stratification\n",
    "cv = StratifiedShuffleSplit(n_splits=5, random_state=12345)\n",
    "\n",
    "params = {'C': np.linspace(0.01, 1, 10)}\n",
    "\n",
    "# GridSearch\n",
    "\n",
    "clf_lr_upsampled  = GridSearchCV(\n",
    "    lr_upsampled, params, scoring='f1', refit=True, cv=cv)\n",
    "clf_lr_upsampled.fit(features_upsampled, target_upsampled)\n",
    "\n",
    "print('Best f1_score: {:.4}, with best C: {}'.format(\n",
    "    clf_lr_upsampled.best_score_, clf_lr_upsampled.best_params_))"
   ]
  },
  {
   "cell_type": "code",
   "execution_count": 63,
   "metadata": {},
   "outputs": [
    {
     "name": "stdout",
     "output_type": "stream",
     "text": [
      "Confusion Matrix\n",
      "____________________________________________________________\n"
     ]
    },
    {
     "data": {
      "image/png": "[encoded data removed]",
      "text/plain": [
       "<Figure size 432x288 with 2 Axes>"
      ]
     },
     "metadata": {
      "needs_background": "light"
     },
     "output_type": "display_data"
    },
    {
     "name": "stdout",
     "output_type": "stream",
     "text": [
      "Classification Report\n",
      "____________________________________________________________\n",
      "              precision    recall  f1-score   support\n",
      "\n",
      "           0       0.89      0.71      0.79      1582\n",
      "           1       0.38      0.68      0.49       418\n",
      "\n",
      "    accuracy                           0.70      2000\n",
      "   macro avg       0.64      0.70      0.64      2000\n",
      "weighted avg       0.79      0.70      0.73      2000\n",
      " \n",
      "\n",
      "f1_score\n",
      "____________________________________________________________\n",
      "0.4901456726649529\n"
     ]
    }
   ],
   "source": [
    "get_metrics(clf_lr_upsampled, feature_valid, target_valid, 'LogisticRegression', 'upsampled')"
   ]
  },
  {
   "cell_type": "markdown",
   "metadata": {},
   "source": [
    "**RandomForest**"
   ]
  },
  {
   "cell_type": "code",
   "execution_count": 64,
   "metadata": {},
   "outputs": [
    {
     "name": "stdout",
     "output_type": "stream",
     "text": [
      "Best f1_score: 0.9609, with best parameters: {'max_depth': 20, 'n_estimators': 31}\n",
      "Wall time: 1min 19s\n"
     ]
    }
   ],
   "source": [
    "%%time\n",
    "rfc_upsampled = RandomForestClassifier(random_state=12345, class_weight='balanced')\n",
    "\n",
    "# Stratification\n",
    "cv = StratifiedShuffleSplit(n_splits=5, random_state=12345)\n",
    "\n",
    "params = { 'n_estimators': range(1, 51, 10),\n",
    "            'max_depth': range(1,21)\n",
    "         }\n",
    "# GridSearch\n",
    "\n",
    "clf_rfc_upsampled  = GridSearchCV(\n",
    "    rfc_upsampled, params, scoring='f1', refit=True, cv=cv)\n",
    "clf_rfc_upsampled.fit(features_upsampled, target_upsampled)\n",
    "\n",
    "print('Best f1_score: {:.4}, with best parameters: {}'.format(\n",
    "    clf_rfc_upsampled.best_score_, clf_rfc_upsampled.best_params_))"
   ]
  },
  {
   "cell_type": "code",
   "execution_count": 66,
   "metadata": {},
   "outputs": [
    {
     "name": "stdout",
     "output_type": "stream",
     "text": [
      "Confusion Matrix\n",
      "____________________________________________________________\n"
     ]
    },
    {
     "data": {
      "image/png": "[encoded data removed]",
      "text/plain": [
       "<Figure size 432x288 with 2 Axes>"
      ]
     },
     "metadata": {
      "needs_background": "light"
     },
     "output_type": "display_data"
    },
    {
     "name": "stdout",
     "output_type": "stream",
     "text": [
      "Classification Report\n",
      "____________________________________________________________\n",
      "              precision    recall  f1-score   support\n",
      "\n",
      "           0       0.89      0.92      0.91      1582\n",
      "           1       0.66      0.56      0.60       418\n",
      "\n",
      "    accuracy                           0.85      2000\n",
      "   macro avg       0.77      0.74      0.75      2000\n",
      "weighted avg       0.84      0.85      0.84      2000\n",
      " \n",
      "\n",
      "f1_score\n",
      "____________________________________________________________\n",
      "0.6046511627906977\n"
     ]
    }
   ],
   "source": [
    "get_metrics(clf_rfc_upsampled, feature_valid, target_valid, 'RandomForest', 'upsampled')"
   ]
  },
  {
   "cell_type": "markdown",
   "metadata": {},
   "source": [
    "**DecisionTree**"
   ]
  },
  {
   "cell_type": "code",
   "execution_count": 75,
   "metadata": {},
   "outputs": [
    {
     "name": "stdout",
     "output_type": "stream",
     "text": [
      "Best f1_score: 0.9367, with best parameters: {'max_depth': 19}\n",
      "Wall time: 3.1 s\n"
     ]
    }
   ],
   "source": [
    "%%time\n",
    "dtc_upsampled = DecisionTreeClassifier(random_state=12345, class_weight='balanced')\n",
    "\n",
    "# Stratification\n",
    "cv = StratifiedShuffleSplit(n_splits=5, random_state=12345)\n",
    "\n",
    "params = {'max_depth': range(1,21)\n",
    "         }\n",
    "# GridSearch\n",
    "\n",
    "clf_dtc_upsampled = GridSearchCV(\n",
    "    dtc_upsampled, params, scoring='f1', refit=True, cv=cv)\n",
    "clf_dtc_upsampled.fit(features_upsampled, target_upsampled)\n",
    "\n",
    "print('Best f1_score: {:.4}, with best parameters: {}'.format(\n",
    "    clf_dtc_upsampled.best_score_, clf_dtc_upsampled.best_params_))"
   ]
  },
  {
   "cell_type": "code",
   "execution_count": 76,
   "metadata": {},
   "outputs": [
    {
     "name": "stdout",
     "output_type": "stream",
     "text": [
      "Confusion Matrix\n",
      "____________________________________________________________\n"
     ]
    },
    {
     "data": {
      "image/png": "[encoded data removed]",
      "text/plain": [
       "<Figure size 432x288 with 2 Axes>"
      ]
     },
     "metadata": {
      "needs_background": "light"
     },
     "output_type": "display_data"
    },
    {
     "name": "stdout",
     "output_type": "stream",
     "text": [
      "Classification Report\n",
      "____________________________________________________________\n",
      "              precision    recall  f1-score   support\n",
      "\n",
      "           0       0.86      0.87      0.87      1582\n",
      "           1       0.50      0.48      0.49       418\n",
      "\n",
      "    accuracy                           0.79      2000\n",
      "   macro avg       0.68      0.68      0.68      2000\n",
      "weighted avg       0.79      0.79      0.79      2000\n",
      " \n",
      "\n",
      "f1_score\n",
      "____________________________________________________________\n",
      "0.4878640776699029\n"
     ]
    }
   ],
   "source": [
    "get_metrics(clf_dtc_upsampled, feature_valid, target_valid, 'DecisionTree', 'upsampled')"
   ]
  },
  {
   "cell_type": "code",
   "execution_count": 70,
   "metadata": {},
   "outputs": [
    {
     "data": {
      "text/html": [
       "<div>\n",
       "<style scoped>\n",
       "    .dataframe tbody tr th:only-of-type {\n",
       "        vertical-align: middle;\n",
       "    }\n",
       "\n",
       "    .dataframe tbody tr th {\n",
       "        vertical-align: top;\n",
       "    }\n",
       "\n",
       "    .dataframe thead th {\n",
       "        text-align: right;\n",
       "    }\n",
       "</style>\n",
       "<table border=\"1\" class=\"dataframe\">\n",
       "  <thead>\n",
       "    <tr style=\"text-align: right;\">\n",
       "      <th></th>\n",
       "      <th>model</th>\n",
       "      <th>resample</th>\n",
       "      <th>accuracy</th>\n",
       "      <th>precision_0</th>\n",
       "      <th>precision_1</th>\n",
       "      <th>recall_0</th>\n",
       "      <th>recall_1</th>\n",
       "      <th>f1-score</th>\n",
       "      <th>AUC-ROC</th>\n",
       "    </tr>\n",
       "  </thead>\n",
       "  <tbody>\n",
       "    <tr>\n",
       "      <th>1</th>\n",
       "      <td>DecisionTree</td>\n",
       "      <td>default</td>\n",
       "      <td>0.7945</td>\n",
       "      <td>0.868008</td>\n",
       "      <td>0.508557</td>\n",
       "      <td>0.872946</td>\n",
       "      <td>0.497608</td>\n",
       "      <td>0.503023</td>\n",
       "      <td>0.685277</td>\n",
       "    </tr>\n",
       "    <tr>\n",
       "      <th>5</th>\n",
       "      <td>DecisionTree</td>\n",
       "      <td>best_params</td>\n",
       "      <td>0.8505</td>\n",
       "      <td>0.860596</td>\n",
       "      <td>0.769231</td>\n",
       "      <td>0.967762</td>\n",
       "      <td>0.406699</td>\n",
       "      <td>0.532081</td>\n",
       "      <td>0.813853</td>\n",
       "    </tr>\n",
       "    <tr>\n",
       "      <th>8</th>\n",
       "      <td>DecisionTree</td>\n",
       "      <td>best_params_balanced</td>\n",
       "      <td>0.7665</td>\n",
       "      <td>0.909625</td>\n",
       "      <td>0.461659</td>\n",
       "      <td>0.782554</td>\n",
       "      <td>0.705742</td>\n",
       "      <td>0.558184</td>\n",
       "      <td>0.799947</td>\n",
       "    </tr>\n",
       "    <tr>\n",
       "      <th>12</th>\n",
       "      <td>DecisionTree</td>\n",
       "      <td>upsampled</td>\n",
       "      <td>0.7910</td>\n",
       "      <td>0.863750</td>\n",
       "      <td>0.500000</td>\n",
       "      <td>0.873578</td>\n",
       "      <td>0.478469</td>\n",
       "      <td>0.488998</td>\n",
       "      <td>0.676477</td>\n",
       "    </tr>\n",
       "    <tr>\n",
       "      <th>2</th>\n",
       "      <td>LogisticRegression</td>\n",
       "      <td>default</td>\n",
       "      <td>0.8020</td>\n",
       "      <td>0.824754</td>\n",
       "      <td>0.563218</td>\n",
       "      <td>0.951960</td>\n",
       "      <td>0.234450</td>\n",
       "      <td>0.331081</td>\n",
       "      <td>0.758809</td>\n",
       "    </tr>\n",
       "    <tr>\n",
       "      <th>3</th>\n",
       "      <td>LogisticRegression</td>\n",
       "      <td>best_params</td>\n",
       "      <td>0.8035</td>\n",
       "      <td>0.824332</td>\n",
       "      <td>0.574850</td>\n",
       "      <td>0.955120</td>\n",
       "      <td>0.229665</td>\n",
       "      <td>0.328205</td>\n",
       "      <td>0.759451</td>\n",
       "    </tr>\n",
       "    <tr>\n",
       "      <th>6</th>\n",
       "      <td>LogisticRegression</td>\n",
       "      <td>best_params_balanced</td>\n",
       "      <td>0.7025</td>\n",
       "      <td>0.894484</td>\n",
       "      <td>0.381842</td>\n",
       "      <td>0.707332</td>\n",
       "      <td>0.684211</td>\n",
       "      <td>0.490146</td>\n",
       "      <td>0.764053</td>\n",
       "    </tr>\n",
       "    <tr>\n",
       "      <th>9</th>\n",
       "      <td>LogisticRegression</td>\n",
       "      <td>upsampled</td>\n",
       "      <td>0.7025</td>\n",
       "      <td>0.894484</td>\n",
       "      <td>0.381842</td>\n",
       "      <td>0.707332</td>\n",
       "      <td>0.684211</td>\n",
       "      <td>0.490146</td>\n",
       "      <td>0.764154</td>\n",
       "    </tr>\n",
       "    <tr>\n",
       "      <th>0</th>\n",
       "      <td>RandomForest</td>\n",
       "      <td>default</td>\n",
       "      <td>0.8575</td>\n",
       "      <td>0.870783</td>\n",
       "      <td>0.764940</td>\n",
       "      <td>0.962705</td>\n",
       "      <td>0.459330</td>\n",
       "      <td>0.573991</td>\n",
       "      <td>0.839981</td>\n",
       "    </tr>\n",
       "    <tr>\n",
       "      <th>4</th>\n",
       "      <td>RandomForest</td>\n",
       "      <td>best_params</td>\n",
       "      <td>0.8515</td>\n",
       "      <td>0.872032</td>\n",
       "      <td>0.721612</td>\n",
       "      <td>0.951960</td>\n",
       "      <td>0.471292</td>\n",
       "      <td>0.570188</td>\n",
       "      <td>0.828354</td>\n",
       "    </tr>\n",
       "    <tr>\n",
       "      <th>7</th>\n",
       "      <td>RandomForest</td>\n",
       "      <td>best_params_balanced</td>\n",
       "      <td>0.8190</td>\n",
       "      <td>0.915531</td>\n",
       "      <td>0.552632</td>\n",
       "      <td>0.849558</td>\n",
       "      <td>0.703349</td>\n",
       "      <td>0.618947</td>\n",
       "      <td>0.852360</td>\n",
       "    </tr>\n",
       "    <tr>\n",
       "      <th>10</th>\n",
       "      <td>RandomForest</td>\n",
       "      <td>upsampled</td>\n",
       "      <td>0.8470</td>\n",
       "      <td>0.888078</td>\n",
       "      <td>0.657303</td>\n",
       "      <td>0.922882</td>\n",
       "      <td>0.559809</td>\n",
       "      <td>0.604651</td>\n",
       "      <td>0.840406</td>\n",
       "    </tr>\n",
       "    <tr>\n",
       "      <th>11</th>\n",
       "      <td>RandomForest</td>\n",
       "      <td>upsampled</td>\n",
       "      <td>0.8470</td>\n",
       "      <td>0.888078</td>\n",
       "      <td>0.657303</td>\n",
       "      <td>0.922882</td>\n",
       "      <td>0.559809</td>\n",
       "      <td>0.604651</td>\n",
       "      <td>0.840406</td>\n",
       "    </tr>\n",
       "  </tbody>\n",
       "</table>\n",
       "</div>"
      ],
      "text/plain": [
       "                 model              resample  accuracy  precision_0  \\\n",
       "1         DecisionTree               default    0.7945     0.868008   \n",
       "5         DecisionTree           best_params    0.8505     0.860596   \n",
       "8         DecisionTree  best_params_balanced    0.7665     0.909625   \n",
       "12        DecisionTree             upsampled    0.7910     0.863750   \n",
       "2   LogisticRegression               default    0.8020     0.824754   \n",
       "3   LogisticRegression           best_params    0.8035     0.824332   \n",
       "6   LogisticRegression  best_params_balanced    0.7025     0.894484   \n",
       "9   LogisticRegression             upsampled    0.7025     0.894484   \n",
       "0         RandomForest               default    0.8575     0.870783   \n",
       "4         RandomForest           best_params    0.8515     0.872032   \n",
       "7         RandomForest  best_params_balanced    0.8190     0.915531   \n",
       "10        RandomForest             upsampled    0.8470     0.888078   \n",
       "11        RandomForest             upsampled    0.8470     0.888078   \n",
       "\n",
       "    precision_1  recall_0  recall_1  f1-score   AUC-ROC  \n",
       "1      0.508557  0.872946  0.497608  0.503023  0.685277  \n",
       "5      0.769231  0.967762  0.406699  0.532081  0.813853  \n",
       "8      0.461659  0.782554  0.705742  0.558184  0.799947  \n",
       "12     0.500000  0.873578  0.478469  0.488998  0.676477  \n",
       "2      0.563218  0.951960  0.234450  0.331081  0.758809  \n",
       "3      0.574850  0.955120  0.229665  0.328205  0.759451  \n",
       "6      0.381842  0.707332  0.684211  0.490146  0.764053  \n",
       "9      0.381842  0.707332  0.684211  0.490146  0.764154  \n",
       "0      0.764940  0.962705  0.459330  0.573991  0.839981  \n",
       "4      0.721612  0.951960  0.471292  0.570188  0.828354  \n",
       "7      0.552632  0.849558  0.703349  0.618947  0.852360  \n",
       "10     0.657303  0.922882  0.559809  0.604651  0.840406  \n",
       "11     0.657303  0.922882  0.559809  0.604651  0.840406  "
      ]
     },
     "execution_count": 70,
     "metadata": {},
     "output_type": "execute_result"
    }
   ],
   "source": []
  },
  {
   "cell_type": "markdown",
   "metadata": {},
   "source": [
    "#### Увеличение класса помогло повысить f-меру до 0.604651 (больше чем на 3% от ненастроенной модели), но при этом лучшей модель остается RandomForest с настроенными гиперпараметрами и балансировкой классов.\n",
    "#### В то же время увеличение меньшего класса помогло повысить метрику accuracy на ~ 3% относительной лучшей модели астроенными гиперпараметрами и балансировкой классов. Также повысилась метрика precision_1\tдо 0.657303, recall_1 до 0.559809.  \n"
   ]
  },
  {
   "cell_type": "markdown",
   "metadata": {},
   "source": [
    "### Попробуем добавить объектов недостающего класса c помощью метода RandomOverSampler"
   ]
  },
  {
   "cell_type": "code",
   "execution_count": 63,
   "metadata": {},
   "outputs": [],
   "source": [
    "oversample = RandomOverSampler(sampling_strategy=1.0)\n",
    "feature_over, target_over = oversample.fit_resample(feature_train, target_train)"
   ]
  },
  {
   "cell_type": "code",
   "execution_count": 64,
   "metadata": {},
   "outputs": [
    {
     "data": {
      "text/plain": [
       "((9608, 11), (9608,))"
      ]
     },
     "execution_count": 64,
     "metadata": {},
     "output_type": "execute_result"
    }
   ],
   "source": [
    "feature_over.shape, target_over.shape"
   ]
  },
  {
   "cell_type": "markdown",
   "metadata": {},
   "source": [
    "**RandomForest**"
   ]
  },
  {
   "cell_type": "code",
   "execution_count": 65,
   "metadata": {},
   "outputs": [
    {
     "name": "stdout",
     "output_type": "stream",
     "text": [
      "Fitting 5 folds for each of 100 candidates, totalling 500 fits\n",
      "Best f1_score: 0.964, with best parameters: {'max_depth': 20, 'n_estimators': 41}\n",
      "Wall time: 28.1 s\n"
     ]
    }
   ],
   "source": [
    "%%time\n",
    "rfc_oversampled = RandomForestClassifier(random_state=12345)\n",
    "\n",
    "# Stratification\n",
    "cv = StratifiedShuffleSplit(n_splits=5, random_state=12345)\n",
    "\n",
    "params_rf = { 'n_estimators': range(1, 51, 10),\n",
    "            'max_depth': range(1,21)\n",
    "         }\n",
    "# GridSearch\n",
    "\n",
    "clf_rfc_oversampled  = GridSearchCV(\n",
    "    rfc_oversampled, params_rf, scoring='f1', n_jobs=-1, verbose=1, cv=cv)\n",
    "clf_rfc_oversampled.fit(feature_over, target_over)\n",
    "\n",
    "print('Best f1_score: {:.4}, with best parameters: {}'.format(\n",
    "    clf_rfc_oversampled.best_score_, clf_rfc_oversampled.best_params_))"
   ]
  },
  {
   "cell_type": "code",
   "execution_count": 66,
   "metadata": {},
   "outputs": [
    {
     "name": "stdout",
     "output_type": "stream",
     "text": [
      "Confusion Matrix\n",
      "____________________________________________________________\n"
     ]
    },
    {
     "data": {
      "image/png": "[encoded data removed]",
      "text/plain": [
       "<Figure size 432x288 with 2 Axes>"
      ]
     },
     "metadata": {
      "needs_background": "light"
     },
     "output_type": "display_data"
    },
    {
     "name": "stdout",
     "output_type": "stream",
     "text": [
      "Classification Report\n",
      "____________________________________________________________\n",
      "              precision    recall  f1-score   support\n",
      "\n",
      "           0       0.88      0.93      0.91      1582\n",
      "           1       0.67      0.54      0.60       418\n",
      "\n",
      "    accuracy                           0.85      2000\n",
      "   macro avg       0.78      0.73      0.75      2000\n",
      "weighted avg       0.84      0.85      0.84      2000\n",
      " \n",
      "\n",
      "f1_score\n",
      "____________________________________________________________\n",
      "0.5960264900662252\n"
     ]
    }
   ],
   "source": [
    "get_metrics(clf_rfc_oversampled, feature_valid, target_valid, 'RandomForest', 'oversampled')"
   ]
  },
  {
   "cell_type": "markdown",
   "metadata": {},
   "source": [
    "**DecisionTree**"
   ]
  },
  {
   "cell_type": "code",
   "execution_count": 67,
   "metadata": {},
   "outputs": [
    {
     "name": "stdout",
     "output_type": "stream",
     "text": [
      "Fitting 5 folds for each of 20 candidates, totalling 100 fits\n",
      "Best f1_score: 0.9401, with best parameters: {'max_depth': 20}\n",
      "Wall time: 948 ms\n"
     ]
    }
   ],
   "source": [
    "%%time\n",
    "dtc_oversampled = DecisionTreeClassifier(random_state=12345)\n",
    "\n",
    "# Stratification\n",
    "cv = StratifiedShuffleSplit(n_splits=5, random_state=12345)\n",
    "\n",
    "params_tree = {'max_depth': range(1,21)\n",
    "         }\n",
    "# GridSearch\n",
    "\n",
    "clf_dtc_oversampled = GridSearchCV(\n",
    "    dtc_oversampled, params_tree, scoring='f1', n_jobs=-1, verbose=1, cv=cv)\n",
    "clf_dtc_oversampled.fit(feature_over, target_over)\n",
    "\n",
    "print('Best f1_score: {:.4}, with best parameters: {}'.format(\n",
    "    clf_dtc_oversampled.best_score_, clf_dtc_oversampled.best_params_))"
   ]
  },
  {
   "cell_type": "code",
   "execution_count": 68,
   "metadata": {},
   "outputs": [
    {
     "name": "stdout",
     "output_type": "stream",
     "text": [
      "Confusion Matrix\n",
      "____________________________________________________________\n"
     ]
    },
    {
     "data": {
      "image/png": "[encoded data removed]",
      "text/plain": [
       "<Figure size 432x288 with 2 Axes>"
      ]
     },
     "metadata": {
      "needs_background": "light"
     },
     "output_type": "display_data"
    },
    {
     "name": "stdout",
     "output_type": "stream",
     "text": [
      "Classification Report\n",
      "____________________________________________________________\n",
      "              precision    recall  f1-score   support\n",
      "\n",
      "           0       0.86      0.87      0.87      1582\n",
      "           1       0.50      0.49      0.49       418\n",
      "\n",
      "    accuracy                           0.79      2000\n",
      "   macro avg       0.68      0.68      0.68      2000\n",
      "weighted avg       0.79      0.79      0.79      2000\n",
      " \n",
      "\n",
      "f1_score\n",
      "____________________________________________________________\n",
      "0.49033816425120774\n"
     ]
    }
   ],
   "source": [
    "get_metrics(clf_dtc_oversampled, feature_valid, target_valid, 'DecisionTree', 'oversampled')"
   ]
  },
  {
   "cell_type": "markdown",
   "metadata": {},
   "source": [
    "**LogisticRegression**"
   ]
  },
  {
   "cell_type": "code",
   "execution_count": 69,
   "metadata": {},
   "outputs": [
    {
     "name": "stdout",
     "output_type": "stream",
     "text": [
      "Fitting 5 folds for each of 10 candidates, totalling 50 fits\n",
      "Best f1_score: 0.7163, with best C: {'C': 0.12}\n",
      "Wall time: 486 ms\n"
     ]
    }
   ],
   "source": [
    "%%time\n",
    "lr_oversampled = LogisticRegression(random_state=12345)\n",
    "\n",
    "# Stratification\n",
    "cv = StratifiedShuffleSplit(n_splits=5, random_state=12345)\n",
    "\n",
    "params_lr = {'C': np.linspace(0.01, 1, 10)}\n",
    "\n",
    "# GridSearch\n",
    "\n",
    "clf_lr_oversampled   = GridSearchCV(\n",
    "    lr_oversampled, params_lr, scoring='f1', n_jobs=-1, verbose=1, cv=cv)\n",
    "clf_lr_oversampled.fit(feature_over, target_over)\n",
    "\n",
    "print('Best f1_score: {:.4}, with best C: {}'.format(\n",
    "    clf_lr_oversampled.best_score_, clf_lr_oversampled.best_params_))"
   ]
  },
  {
   "cell_type": "code",
   "execution_count": 70,
   "metadata": {},
   "outputs": [
    {
     "name": "stdout",
     "output_type": "stream",
     "text": [
      "Confusion Matrix\n",
      "____________________________________________________________\n"
     ]
    },
    {
     "data": {
      "image/png": "[encoded data removed]",
      "text/plain": [
       "<Figure size 432x288 with 2 Axes>"
      ]
     },
     "metadata": {
      "needs_background": "light"
     },
     "output_type": "display_data"
    },
    {
     "name": "stdout",
     "output_type": "stream",
     "text": [
      "Classification Report\n",
      "____________________________________________________________\n",
      "              precision    recall  f1-score   support\n",
      "\n",
      "           0       0.89      0.71      0.79      1582\n",
      "           1       0.38      0.68      0.49       418\n",
      "\n",
      "    accuracy                           0.70      2000\n",
      "   macro avg       0.64      0.69      0.64      2000\n",
      "weighted avg       0.79      0.70      0.73      2000\n",
      " \n",
      "\n",
      "f1_score\n",
      "____________________________________________________________\n",
      "0.48793103448275865\n"
     ]
    }
   ],
   "source": [
    "get_metrics(clf_lr_oversampled, feature_valid, target_valid, 'LogisticRegression', 'oversampled')"
   ]
  },
  {
   "cell_type": "markdown",
   "metadata": {},
   "source": [
    "#### В моделях RF и DecisionTree видим снижение f-меры по сравнению со значениями полученными при применении баланса классов с помощью class_weight"
   ]
  },
  {
   "cell_type": "code",
   "execution_count": 71,
   "metadata": {},
   "outputs": [
    {
     "data": {
      "text/html": [
       "<div>\n",
       "<style scoped>\n",
       "    .dataframe tbody tr th:only-of-type {\n",
       "        vertical-align: middle;\n",
       "    }\n",
       "\n",
       "    .dataframe tbody tr th {\n",
       "        vertical-align: top;\n",
       "    }\n",
       "\n",
       "    .dataframe thead th {\n",
       "        text-align: right;\n",
       "    }\n",
       "</style>\n",
       "<table border=\"1\" class=\"dataframe\">\n",
       "  <thead>\n",
       "    <tr style=\"text-align: right;\">\n",
       "      <th></th>\n",
       "      <th>model</th>\n",
       "      <th>resample</th>\n",
       "      <th>accuracy</th>\n",
       "      <th>precision_0</th>\n",
       "      <th>precision_1</th>\n",
       "      <th>recall_0</th>\n",
       "      <th>recall_1</th>\n",
       "      <th>f1-score</th>\n",
       "      <th>AUC-ROC</th>\n",
       "    </tr>\n",
       "  </thead>\n",
       "  <tbody>\n",
       "    <tr>\n",
       "      <th>1</th>\n",
       "      <td>DecisionTree</td>\n",
       "      <td>default</td>\n",
       "      <td>0.7945</td>\n",
       "      <td>0.868008</td>\n",
       "      <td>0.508557</td>\n",
       "      <td>0.872946</td>\n",
       "      <td>0.497608</td>\n",
       "      <td>0.503023</td>\n",
       "      <td>0.685277</td>\n",
       "    </tr>\n",
       "    <tr>\n",
       "      <th>2</th>\n",
       "      <td>DecisionTree</td>\n",
       "      <td>default</td>\n",
       "      <td>0.7945</td>\n",
       "      <td>0.868008</td>\n",
       "      <td>0.508557</td>\n",
       "      <td>0.872946</td>\n",
       "      <td>0.497608</td>\n",
       "      <td>0.503023</td>\n",
       "      <td>0.685277</td>\n",
       "    </tr>\n",
       "    <tr>\n",
       "      <th>6</th>\n",
       "      <td>DecisionTree</td>\n",
       "      <td>best_params</td>\n",
       "      <td>0.8505</td>\n",
       "      <td>0.860596</td>\n",
       "      <td>0.769231</td>\n",
       "      <td>0.967762</td>\n",
       "      <td>0.406699</td>\n",
       "      <td>0.532081</td>\n",
       "      <td>0.813853</td>\n",
       "    </tr>\n",
       "    <tr>\n",
       "      <th>9</th>\n",
       "      <td>DecisionTree</td>\n",
       "      <td>best_params</td>\n",
       "      <td>0.8505</td>\n",
       "      <td>0.860596</td>\n",
       "      <td>0.769231</td>\n",
       "      <td>0.967762</td>\n",
       "      <td>0.406699</td>\n",
       "      <td>0.532081</td>\n",
       "      <td>0.813853</td>\n",
       "    </tr>\n",
       "    <tr>\n",
       "      <th>12</th>\n",
       "      <td>DecisionTree</td>\n",
       "      <td>best_params_balanced</td>\n",
       "      <td>0.7665</td>\n",
       "      <td>0.909625</td>\n",
       "      <td>0.461659</td>\n",
       "      <td>0.782554</td>\n",
       "      <td>0.705742</td>\n",
       "      <td>0.558184</td>\n",
       "      <td>0.799947</td>\n",
       "    </tr>\n",
       "    <tr>\n",
       "      <th>14</th>\n",
       "      <td>DecisionTree</td>\n",
       "      <td>oversampled</td>\n",
       "      <td>0.7890</td>\n",
       "      <td>0.864780</td>\n",
       "      <td>0.495122</td>\n",
       "      <td>0.869153</td>\n",
       "      <td>0.485646</td>\n",
       "      <td>0.490338</td>\n",
       "      <td>0.678743</td>\n",
       "    </tr>\n",
       "    <tr>\n",
       "      <th>3</th>\n",
       "      <td>LogisticRegression</td>\n",
       "      <td>default</td>\n",
       "      <td>0.8020</td>\n",
       "      <td>0.824754</td>\n",
       "      <td>0.563218</td>\n",
       "      <td>0.951960</td>\n",
       "      <td>0.234450</td>\n",
       "      <td>0.331081</td>\n",
       "      <td>0.758809</td>\n",
       "    </tr>\n",
       "    <tr>\n",
       "      <th>4</th>\n",
       "      <td>LogisticRegression</td>\n",
       "      <td>best_params</td>\n",
       "      <td>0.8035</td>\n",
       "      <td>0.824332</td>\n",
       "      <td>0.574850</td>\n",
       "      <td>0.955120</td>\n",
       "      <td>0.229665</td>\n",
       "      <td>0.328205</td>\n",
       "      <td>0.759451</td>\n",
       "    </tr>\n",
       "    <tr>\n",
       "      <th>7</th>\n",
       "      <td>LogisticRegression</td>\n",
       "      <td>best_params</td>\n",
       "      <td>0.8035</td>\n",
       "      <td>0.824332</td>\n",
       "      <td>0.574850</td>\n",
       "      <td>0.955120</td>\n",
       "      <td>0.229665</td>\n",
       "      <td>0.328205</td>\n",
       "      <td>0.759451</td>\n",
       "    </tr>\n",
       "    <tr>\n",
       "      <th>10</th>\n",
       "      <td>LogisticRegression</td>\n",
       "      <td>best_params_balanced</td>\n",
       "      <td>0.7025</td>\n",
       "      <td>0.894484</td>\n",
       "      <td>0.381842</td>\n",
       "      <td>0.707332</td>\n",
       "      <td>0.684211</td>\n",
       "      <td>0.490146</td>\n",
       "      <td>0.764053</td>\n",
       "    </tr>\n",
       "    <tr>\n",
       "      <th>15</th>\n",
       "      <td>LogisticRegression</td>\n",
       "      <td>oversampled</td>\n",
       "      <td>0.7030</td>\n",
       "      <td>0.892687</td>\n",
       "      <td>0.381402</td>\n",
       "      <td>0.709861</td>\n",
       "      <td>0.677033</td>\n",
       "      <td>0.487931</td>\n",
       "      <td>0.763146</td>\n",
       "    </tr>\n",
       "    <tr>\n",
       "      <th>0</th>\n",
       "      <td>RandomForest</td>\n",
       "      <td>default</td>\n",
       "      <td>0.8575</td>\n",
       "      <td>0.870783</td>\n",
       "      <td>0.764940</td>\n",
       "      <td>0.962705</td>\n",
       "      <td>0.459330</td>\n",
       "      <td>0.573991</td>\n",
       "      <td>0.839981</td>\n",
       "    </tr>\n",
       "    <tr>\n",
       "      <th>5</th>\n",
       "      <td>RandomForest</td>\n",
       "      <td>best_params</td>\n",
       "      <td>0.8515</td>\n",
       "      <td>0.872032</td>\n",
       "      <td>0.721612</td>\n",
       "      <td>0.951960</td>\n",
       "      <td>0.471292</td>\n",
       "      <td>0.570188</td>\n",
       "      <td>0.828354</td>\n",
       "    </tr>\n",
       "    <tr>\n",
       "      <th>8</th>\n",
       "      <td>RandomForest</td>\n",
       "      <td>best_params</td>\n",
       "      <td>0.8515</td>\n",
       "      <td>0.872032</td>\n",
       "      <td>0.721612</td>\n",
       "      <td>0.951960</td>\n",
       "      <td>0.471292</td>\n",
       "      <td>0.570188</td>\n",
       "      <td>0.828354</td>\n",
       "    </tr>\n",
       "    <tr>\n",
       "      <th>11</th>\n",
       "      <td>RandomForest</td>\n",
       "      <td>best_params_balanced</td>\n",
       "      <td>0.8190</td>\n",
       "      <td>0.915531</td>\n",
       "      <td>0.552632</td>\n",
       "      <td>0.849558</td>\n",
       "      <td>0.703349</td>\n",
       "      <td>0.618947</td>\n",
       "      <td>0.852360</td>\n",
       "    </tr>\n",
       "    <tr>\n",
       "      <th>13</th>\n",
       "      <td>RandomForest</td>\n",
       "      <td>oversampled</td>\n",
       "      <td>0.8475</td>\n",
       "      <td>0.883945</td>\n",
       "      <td>0.667656</td>\n",
       "      <td>0.929204</td>\n",
       "      <td>0.538278</td>\n",
       "      <td>0.596026</td>\n",
       "      <td>0.834401</td>\n",
       "    </tr>\n",
       "  </tbody>\n",
       "</table>\n",
       "</div>"
      ],
      "text/plain": [
       "                 model              resample  accuracy  precision_0  \\\n",
       "1         DecisionTree               default    0.7945     0.868008   \n",
       "2         DecisionTree               default    0.7945     0.868008   \n",
       "6         DecisionTree           best_params    0.8505     0.860596   \n",
       "9         DecisionTree           best_params    0.8505     0.860596   \n",
       "12        DecisionTree  best_params_balanced    0.7665     0.909625   \n",
       "14        DecisionTree           oversampled    0.7890     0.864780   \n",
       "3   LogisticRegression               default    0.8020     0.824754   \n",
       "4   LogisticRegression           best_params    0.8035     0.824332   \n",
       "7   LogisticRegression           best_params    0.8035     0.824332   \n",
       "10  LogisticRegression  best_params_balanced    0.7025     0.894484   \n",
       "15  LogisticRegression           oversampled    0.7030     0.892687   \n",
       "0         RandomForest               default    0.8575     0.870783   \n",
       "5         RandomForest           best_params    0.8515     0.872032   \n",
       "8         RandomForest           best_params    0.8515     0.872032   \n",
       "11        RandomForest  best_params_balanced    0.8190     0.915531   \n",
       "13        RandomForest           oversampled    0.8475     0.883945   \n",
       "\n",
       "    precision_1  recall_0  recall_1  f1-score   AUC-ROC  \n",
       "1      0.508557  0.872946  0.497608  0.503023  0.685277  \n",
       "2      0.508557  0.872946  0.497608  0.503023  0.685277  \n",
       "6      0.769231  0.967762  0.406699  0.532081  0.813853  \n",
       "9      0.769231  0.967762  0.406699  0.532081  0.813853  \n",
       "12     0.461659  0.782554  0.705742  0.558184  0.799947  \n",
       "14     0.495122  0.869153  0.485646  0.490338  0.678743  \n",
       "3      0.563218  0.951960  0.234450  0.331081  0.758809  \n",
       "4      0.574850  0.955120  0.229665  0.328205  0.759451  \n",
       "7      0.574850  0.955120  0.229665  0.328205  0.759451  \n",
       "10     0.381842  0.707332  0.684211  0.490146  0.764053  \n",
       "15     0.381402  0.709861  0.677033  0.487931  0.763146  \n",
       "0      0.764940  0.962705  0.459330  0.573991  0.839981  \n",
       "5      0.721612  0.951960  0.471292  0.570188  0.828354  \n",
       "8      0.721612  0.951960  0.471292  0.570188  0.828354  \n",
       "11     0.552632  0.849558  0.703349  0.618947  0.852360  \n",
       "13     0.667656  0.929204  0.538278  0.596026  0.834401  "
      ]
     },
     "execution_count": 71,
     "metadata": {},
     "output_type": "execute_result"
    }
   ],
   "source": [
    "metrics_report = pd.DataFrame({'model':model,\n",
    "                            'resample':resample,\n",
    "                            'accuracy':accuracy,\n",
    "                            'precision_0':precision_0,\n",
    "                            'precision_1':precision_1,\n",
    "                            'recall_0':recall_0,\n",
    "                            'recall_1':recall_1,\n",
    "                            'f1-score':F1_score,\n",
    "                            'AUC-ROC':AUC_ROC})\n",
    "metrics_report.sort_values('model')"
   ]
  },
  {
   "cell_type": "markdown",
   "metadata": {},
   "source": [
    "#### Моделирование при помощи RandomOverSampler не улучшило метрики модели на валидационной выборке по сравнению с oversampled"
   ]
  },
  {
   "cell_type": "markdown",
   "metadata": {},
   "source": [
    "# 4. Проведите финальное тестирование."
   ]
  },
  {
   "cell_type": "markdown",
   "metadata": {},
   "source": [
    "#### Возьмем модель с лучшими гиперпараметрами и проверим ее на тестовых данных."
   ]
  },
  {
   "cell_type": "code",
   "execution_count": 72,
   "metadata": {},
   "outputs": [
    {
     "name": "stdout",
     "output_type": "stream",
     "text": [
      "Fitting 5 folds for each of 100 candidates, totalling 500 fits\n",
      "0.6024844720496895\n",
      "Best f1_score: 0.6403, with best parameters: {'max_depth': 7, 'n_estimators': 41} \n",
      "Wall time: 15.4 s\n"
     ]
    }
   ],
   "source": [
    "%%time\n",
    "rfc_test = RandomForestClassifier(random_state=12345, class_weight='balanced')\n",
    "\n",
    "# Stratification\n",
    "cv = StratifiedShuffleSplit(n_splits=5, random_state=12345)\n",
    "\n",
    "params_rf = { 'n_estimators': range(1, 51, 10),\n",
    "            'max_depth': range(1,21)\n",
    "            }\n",
    "\n",
    "# GridSearch\n",
    "clf_rfc_test = GridSearchCV(\n",
    "    rfc_test, params_rf, scoring='f1', n_jobs=-1, verbose=1, cv=cv)\n",
    "clf_rfc_test.fit(feature_train, target_train)\n",
    "clf_rfc_test_pred = clf_rfc_test.predict(feature_test)\n",
    "clf_rfc_test_proba_one = clf_rfc_test.predict_proba(feature_test)[:,1]\n",
    "print(f1_score(target_test, clf_rfc_test_pred))\n",
    "\n",
    "print('Best f1_score: {:.4}, with best parameters: {} '.format(\n",
    "    clf_rfc_test.best_score_, clf_rfc_test.best_params_))"
   ]
  },
  {
   "cell_type": "code",
   "execution_count": 74,
   "metadata": {},
   "outputs": [
    {
     "name": "stdout",
     "output_type": "stream",
     "text": [
      "Confusion Matrix\n",
      "____________________________________________________________\n"
     ]
    },
    {
     "data": {
      "image/png": "[encoded data removed]",
      "text/plain": [
       "<Figure size 432x288 with 2 Axes>"
      ]
     },
     "metadata": {
      "needs_background": "light"
     },
     "output_type": "display_data"
    },
    {
     "name": "stdout",
     "output_type": "stream",
     "text": [
      "Classification Report\n",
      "____________________________________________________________\n",
      "              precision    recall  f1-score   support\n",
      "\n",
      "           0       0.91      0.84      0.87      1577\n",
      "           1       0.54      0.69      0.60       423\n",
      "\n",
      "    accuracy                           0.81      2000\n",
      "   macro avg       0.72      0.76      0.74      2000\n",
      "weighted avg       0.83      0.81      0.82      2000\n",
      " \n",
      "\n",
      "f1_score\n",
      "____________________________________________________________\n",
      "0.6024844720496895\n"
     ]
    }
   ],
   "source": [
    "get_metrics(clf_rfc_test, feature_test, target_test, 'RandomForest', 'final_test')"
   ]
  },
  {
   "cell_type": "markdown",
   "metadata": {},
   "source": [
    "#### Метрика f1 достигла целевого уровня 0.59 на тестовых данных при использовании модели RF c наилучшими гиперпараметрами и балансом классов (параметр class_weight='balanced')"
   ]
  },
  {
   "cell_type": "markdown",
   "metadata": {},
   "source": [
    "#### Попытаемся переобучить модель по увеличенной выборке."
   ]
  },
  {
   "cell_type": "code",
   "execution_count": 75,
   "metadata": {},
   "outputs": [
    {
     "name": "stdout",
     "output_type": "stream",
     "text": [
      "Fitting 5 folds for each of 100 candidates, totalling 500 fits\n",
      "0.5893333333333334\n",
      "Best f1_score: 0.964, with best parameters: {'max_depth': 20, 'n_estimators': 41} \n",
      "Wall time: 21.6 s\n"
     ]
    }
   ],
   "source": [
    "%%time\n",
    "rfc_test2 = RandomForestClassifier(random_state=12345)\n",
    "\n",
    "# Stratification\n",
    "cv = StratifiedShuffleSplit(n_splits=5, random_state=12345)\n",
    "\n",
    "params = {'n_estimators': range(1, 51, 10),\n",
    "          'max_depth': range(1,21)\n",
    "         }\n",
    "\n",
    "# GridSearch\n",
    "clf_rfc_test2 = GridSearchCV(\n",
    "    rfc_test2, params, scoring='f1', n_jobs=-1, verbose=1, cv=cv)\n",
    "clf_rfc_test2.fit(feature_over, target_over)\n",
    "clf_rfc_test_pred2 = clf_rfc_test2.predict(feature_test)\n",
    "clf_rfc_test_proba_one2 = clf_rfc_test2.predict_proba(feature_test)[:,1]\n",
    "print(f1_score(target_test, clf_rfc_test_pred2))\n",
    "\n",
    "print('Best f1_score: {:.4}, with best parameters: {} '.format(\n",
    "    clf_rfc_test2.best_score_, clf_rfc_test2.best_params_))"
   ]
  },
  {
   "cell_type": "code",
   "execution_count": 76,
   "metadata": {},
   "outputs": [
    {
     "name": "stdout",
     "output_type": "stream",
     "text": [
      "Confusion Matrix\n",
      "____________________________________________________________\n"
     ]
    },
    {
     "data": {
      "image/png": "[encoded data removed]",
      "text/plain": [
       "<Figure size 432x288 with 2 Axes>"
      ]
     },
     "metadata": {
      "needs_background": "light"
     },
     "output_type": "display_data"
    },
    {
     "name": "stdout",
     "output_type": "stream",
     "text": [
      "Classification Report\n",
      "____________________________________________________________\n",
      "              precision    recall  f1-score   support\n",
      "\n",
      "           0       0.88      0.93      0.91      1577\n",
      "           1       0.68      0.52      0.59       423\n",
      "\n",
      "    accuracy                           0.85      2000\n",
      "   macro avg       0.78      0.73      0.75      2000\n",
      "weighted avg       0.84      0.85      0.84      2000\n",
      " \n",
      "\n",
      "f1_score\n",
      "____________________________________________________________\n",
      "0.5893333333333334\n"
     ]
    }
   ],
   "source": [
    "get_metrics(clf_rfc_test2, feature_test, target_test, 'RandomForest', 'test_oversampled')"
   ]
  },
  {
   "cell_type": "code",
   "execution_count": 77,
   "metadata": {},
   "outputs": [
    {
     "data": {
      "text/html": [
       "<div>\n",
       "<style scoped>\n",
       "    .dataframe tbody tr th:only-of-type {\n",
       "        vertical-align: middle;\n",
       "    }\n",
       "\n",
       "    .dataframe tbody tr th {\n",
       "        vertical-align: top;\n",
       "    }\n",
       "\n",
       "    .dataframe thead th {\n",
       "        text-align: right;\n",
       "    }\n",
       "</style>\n",
       "<table border=\"1\" class=\"dataframe\">\n",
       "  <thead>\n",
       "    <tr style=\"text-align: right;\">\n",
       "      <th></th>\n",
       "      <th>model</th>\n",
       "      <th>resample</th>\n",
       "      <th>accuracy</th>\n",
       "      <th>precision_0</th>\n",
       "      <th>precision_1</th>\n",
       "      <th>recall_0</th>\n",
       "      <th>recall_1</th>\n",
       "      <th>f1-score</th>\n",
       "      <th>AUC-ROC</th>\n",
       "    </tr>\n",
       "  </thead>\n",
       "  <tbody>\n",
       "    <tr>\n",
       "      <th>1</th>\n",
       "      <td>DecisionTree</td>\n",
       "      <td>default</td>\n",
       "      <td>0.7945</td>\n",
       "      <td>0.868008</td>\n",
       "      <td>0.508557</td>\n",
       "      <td>0.872946</td>\n",
       "      <td>0.497608</td>\n",
       "      <td>0.503023</td>\n",
       "      <td>0.685277</td>\n",
       "    </tr>\n",
       "    <tr>\n",
       "      <th>2</th>\n",
       "      <td>DecisionTree</td>\n",
       "      <td>default</td>\n",
       "      <td>0.7945</td>\n",
       "      <td>0.868008</td>\n",
       "      <td>0.508557</td>\n",
       "      <td>0.872946</td>\n",
       "      <td>0.497608</td>\n",
       "      <td>0.503023</td>\n",
       "      <td>0.685277</td>\n",
       "    </tr>\n",
       "    <tr>\n",
       "      <th>6</th>\n",
       "      <td>DecisionTree</td>\n",
       "      <td>best_params</td>\n",
       "      <td>0.8505</td>\n",
       "      <td>0.860596</td>\n",
       "      <td>0.769231</td>\n",
       "      <td>0.967762</td>\n",
       "      <td>0.406699</td>\n",
       "      <td>0.532081</td>\n",
       "      <td>0.813853</td>\n",
       "    </tr>\n",
       "    <tr>\n",
       "      <th>14</th>\n",
       "      <td>DecisionTree</td>\n",
       "      <td>oversampled</td>\n",
       "      <td>0.7890</td>\n",
       "      <td>0.864780</td>\n",
       "      <td>0.495122</td>\n",
       "      <td>0.869153</td>\n",
       "      <td>0.485646</td>\n",
       "      <td>0.490338</td>\n",
       "      <td>0.678743</td>\n",
       "    </tr>\n",
       "    <tr>\n",
       "      <th>9</th>\n",
       "      <td>DecisionTree</td>\n",
       "      <td>best_params</td>\n",
       "      <td>0.8505</td>\n",
       "      <td>0.860596</td>\n",
       "      <td>0.769231</td>\n",
       "      <td>0.967762</td>\n",
       "      <td>0.406699</td>\n",
       "      <td>0.532081</td>\n",
       "      <td>0.813853</td>\n",
       "    </tr>\n",
       "    <tr>\n",
       "      <th>12</th>\n",
       "      <td>DecisionTree</td>\n",
       "      <td>best_params_balanced</td>\n",
       "      <td>0.7665</td>\n",
       "      <td>0.909625</td>\n",
       "      <td>0.461659</td>\n",
       "      <td>0.782554</td>\n",
       "      <td>0.705742</td>\n",
       "      <td>0.558184</td>\n",
       "      <td>0.799947</td>\n",
       "    </tr>\n",
       "    <tr>\n",
       "      <th>3</th>\n",
       "      <td>LogisticRegression</td>\n",
       "      <td>default</td>\n",
       "      <td>0.8020</td>\n",
       "      <td>0.824754</td>\n",
       "      <td>0.563218</td>\n",
       "      <td>0.951960</td>\n",
       "      <td>0.234450</td>\n",
       "      <td>0.331081</td>\n",
       "      <td>0.758809</td>\n",
       "    </tr>\n",
       "    <tr>\n",
       "      <th>4</th>\n",
       "      <td>LogisticRegression</td>\n",
       "      <td>best_params</td>\n",
       "      <td>0.8035</td>\n",
       "      <td>0.824332</td>\n",
       "      <td>0.574850</td>\n",
       "      <td>0.955120</td>\n",
       "      <td>0.229665</td>\n",
       "      <td>0.328205</td>\n",
       "      <td>0.759451</td>\n",
       "    </tr>\n",
       "    <tr>\n",
       "      <th>15</th>\n",
       "      <td>LogisticRegression</td>\n",
       "      <td>oversampled</td>\n",
       "      <td>0.7030</td>\n",
       "      <td>0.892687</td>\n",
       "      <td>0.381402</td>\n",
       "      <td>0.709861</td>\n",
       "      <td>0.677033</td>\n",
       "      <td>0.487931</td>\n",
       "      <td>0.763146</td>\n",
       "    </tr>\n",
       "    <tr>\n",
       "      <th>7</th>\n",
       "      <td>LogisticRegression</td>\n",
       "      <td>best_params</td>\n",
       "      <td>0.8035</td>\n",
       "      <td>0.824332</td>\n",
       "      <td>0.574850</td>\n",
       "      <td>0.955120</td>\n",
       "      <td>0.229665</td>\n",
       "      <td>0.328205</td>\n",
       "      <td>0.759451</td>\n",
       "    </tr>\n",
       "    <tr>\n",
       "      <th>10</th>\n",
       "      <td>LogisticRegression</td>\n",
       "      <td>best_params_balanced</td>\n",
       "      <td>0.7025</td>\n",
       "      <td>0.894484</td>\n",
       "      <td>0.381842</td>\n",
       "      <td>0.707332</td>\n",
       "      <td>0.684211</td>\n",
       "      <td>0.490146</td>\n",
       "      <td>0.764053</td>\n",
       "    </tr>\n",
       "    <tr>\n",
       "      <th>0</th>\n",
       "      <td>RandomForest</td>\n",
       "      <td>default</td>\n",
       "      <td>0.8575</td>\n",
       "      <td>0.870783</td>\n",
       "      <td>0.764940</td>\n",
       "      <td>0.962705</td>\n",
       "      <td>0.459330</td>\n",
       "      <td>0.573991</td>\n",
       "      <td>0.839981</td>\n",
       "    </tr>\n",
       "    <tr>\n",
       "      <th>13</th>\n",
       "      <td>RandomForest</td>\n",
       "      <td>oversampled</td>\n",
       "      <td>0.8475</td>\n",
       "      <td>0.883945</td>\n",
       "      <td>0.667656</td>\n",
       "      <td>0.929204</td>\n",
       "      <td>0.538278</td>\n",
       "      <td>0.596026</td>\n",
       "      <td>0.834401</td>\n",
       "    </tr>\n",
       "    <tr>\n",
       "      <th>8</th>\n",
       "      <td>RandomForest</td>\n",
       "      <td>best_params</td>\n",
       "      <td>0.8515</td>\n",
       "      <td>0.872032</td>\n",
       "      <td>0.721612</td>\n",
       "      <td>0.951960</td>\n",
       "      <td>0.471292</td>\n",
       "      <td>0.570188</td>\n",
       "      <td>0.828354</td>\n",
       "    </tr>\n",
       "    <tr>\n",
       "      <th>16</th>\n",
       "      <td>RandomForest</td>\n",
       "      <td>final_test</td>\n",
       "      <td>0.8080</td>\n",
       "      <td>0.909403</td>\n",
       "      <td>0.535912</td>\n",
       "      <td>0.840203</td>\n",
       "      <td>0.687943</td>\n",
       "      <td>0.602484</td>\n",
       "      <td>0.852007</td>\n",
       "    </tr>\n",
       "    <tr>\n",
       "      <th>5</th>\n",
       "      <td>RandomForest</td>\n",
       "      <td>best_params</td>\n",
       "      <td>0.8515</td>\n",
       "      <td>0.872032</td>\n",
       "      <td>0.721612</td>\n",
       "      <td>0.951960</td>\n",
       "      <td>0.471292</td>\n",
       "      <td>0.570188</td>\n",
       "      <td>0.828354</td>\n",
       "    </tr>\n",
       "    <tr>\n",
       "      <th>11</th>\n",
       "      <td>RandomForest</td>\n",
       "      <td>best_params_balanced</td>\n",
       "      <td>0.8190</td>\n",
       "      <td>0.915531</td>\n",
       "      <td>0.552632</td>\n",
       "      <td>0.849558</td>\n",
       "      <td>0.703349</td>\n",
       "      <td>0.618947</td>\n",
       "      <td>0.852360</td>\n",
       "    </tr>\n",
       "    <tr>\n",
       "      <th>17</th>\n",
       "      <td>RandomForest</td>\n",
       "      <td>test_oversampled</td>\n",
       "      <td>0.8460</td>\n",
       "      <td>0.879259</td>\n",
       "      <td>0.675841</td>\n",
       "      <td>0.932784</td>\n",
       "      <td>0.522459</td>\n",
       "      <td>0.589333</td>\n",
       "      <td>0.846910</td>\n",
       "    </tr>\n",
       "  </tbody>\n",
       "</table>\n",
       "</div>"
      ],
      "text/plain": [
       "                 model              resample  accuracy  precision_0  \\\n",
       "1         DecisionTree               default    0.7945     0.868008   \n",
       "2         DecisionTree               default    0.7945     0.868008   \n",
       "6         DecisionTree           best_params    0.8505     0.860596   \n",
       "14        DecisionTree           oversampled    0.7890     0.864780   \n",
       "9         DecisionTree           best_params    0.8505     0.860596   \n",
       "12        DecisionTree  best_params_balanced    0.7665     0.909625   \n",
       "3   LogisticRegression               default    0.8020     0.824754   \n",
       "4   LogisticRegression           best_params    0.8035     0.824332   \n",
       "15  LogisticRegression           oversampled    0.7030     0.892687   \n",
       "7   LogisticRegression           best_params    0.8035     0.824332   \n",
       "10  LogisticRegression  best_params_balanced    0.7025     0.894484   \n",
       "0         RandomForest               default    0.8575     0.870783   \n",
       "13        RandomForest           oversampled    0.8475     0.883945   \n",
       "8         RandomForest           best_params    0.8515     0.872032   \n",
       "16        RandomForest            final_test    0.8080     0.909403   \n",
       "5         RandomForest           best_params    0.8515     0.872032   \n",
       "11        RandomForest  best_params_balanced    0.8190     0.915531   \n",
       "17        RandomForest      test_oversampled    0.8460     0.879259   \n",
       "\n",
       "    precision_1  recall_0  recall_1  f1-score   AUC-ROC  \n",
       "1      0.508557  0.872946  0.497608  0.503023  0.685277  \n",
       "2      0.508557  0.872946  0.497608  0.503023  0.685277  \n",
       "6      0.769231  0.967762  0.406699  0.532081  0.813853  \n",
       "14     0.495122  0.869153  0.485646  0.490338  0.678743  \n",
       "9      0.769231  0.967762  0.406699  0.532081  0.813853  \n",
       "12     0.461659  0.782554  0.705742  0.558184  0.799947  \n",
       "3      0.563218  0.951960  0.234450  0.331081  0.758809  \n",
       "4      0.574850  0.955120  0.229665  0.328205  0.759451  \n",
       "15     0.381402  0.709861  0.677033  0.487931  0.763146  \n",
       "7      0.574850  0.955120  0.229665  0.328205  0.759451  \n",
       "10     0.381842  0.707332  0.684211  0.490146  0.764053  \n",
       "0      0.764940  0.962705  0.459330  0.573991  0.839981  \n",
       "13     0.667656  0.929204  0.538278  0.596026  0.834401  \n",
       "8      0.721612  0.951960  0.471292  0.570188  0.828354  \n",
       "16     0.535912  0.840203  0.687943  0.602484  0.852007  \n",
       "5      0.721612  0.951960  0.471292  0.570188  0.828354  \n",
       "11     0.552632  0.849558  0.703349  0.618947  0.852360  \n",
       "17     0.675841  0.932784  0.522459  0.589333  0.846910  "
      ]
     },
     "execution_count": 77,
     "metadata": {},
     "output_type": "execute_result"
    }
   ],
   "source": [
    "metrics_report = pd.DataFrame({'model':model,\n",
    "                            'resample':resample,\n",
    "                            'accuracy':accuracy,\n",
    "                            'precision_0':precision_0,\n",
    "                            'precision_1':precision_1,\n",
    "                            'recall_0':recall_0,\n",
    "                            'recall_1':recall_1,\n",
    "                            'f1-score':F1_score,\n",
    "                            'AUC-ROC':AUC_ROC})\n",
    "metrics_report.sort_values('model')"
   ]
  },
  {
   "cell_type": "code",
   "execution_count": 78,
   "metadata": {},
   "outputs": [
    {
     "data": {
      "text/html": [
       "<div>\n",
       "<style scoped>\n",
       "    .dataframe tbody tr th:only-of-type {\n",
       "        vertical-align: middle;\n",
       "    }\n",
       "\n",
       "    .dataframe tbody tr th {\n",
       "        vertical-align: top;\n",
       "    }\n",
       "\n",
       "    .dataframe thead th {\n",
       "        text-align: right;\n",
       "    }\n",
       "</style>\n",
       "<table border=\"1\" class=\"dataframe\">\n",
       "  <thead>\n",
       "    <tr style=\"text-align: right;\">\n",
       "      <th></th>\n",
       "      <th>model</th>\n",
       "      <th>resample</th>\n",
       "      <th>accuracy</th>\n",
       "      <th>precision_0</th>\n",
       "      <th>precision_1</th>\n",
       "      <th>recall_0</th>\n",
       "      <th>recall_1</th>\n",
       "      <th>f1-score</th>\n",
       "      <th>AUC-ROC</th>\n",
       "    </tr>\n",
       "  </thead>\n",
       "  <tbody>\n",
       "    <tr>\n",
       "      <th>1</th>\n",
       "      <td>DecisionTree</td>\n",
       "      <td>default</td>\n",
       "      <td>0.7945</td>\n",
       "      <td>0.868008</td>\n",
       "      <td>0.508557</td>\n",
       "      <td>0.872946</td>\n",
       "      <td>0.497608</td>\n",
       "      <td>0.503023</td>\n",
       "      <td>0.685277</td>\n",
       "    </tr>\n",
       "    <tr>\n",
       "      <th>2</th>\n",
       "      <td>DecisionTree</td>\n",
       "      <td>default</td>\n",
       "      <td>0.7945</td>\n",
       "      <td>0.868008</td>\n",
       "      <td>0.508557</td>\n",
       "      <td>0.872946</td>\n",
       "      <td>0.497608</td>\n",
       "      <td>0.503023</td>\n",
       "      <td>0.685277</td>\n",
       "    </tr>\n",
       "    <tr>\n",
       "      <th>6</th>\n",
       "      <td>DecisionTree</td>\n",
       "      <td>best_params</td>\n",
       "      <td>0.8505</td>\n",
       "      <td>0.860596</td>\n",
       "      <td>0.769231</td>\n",
       "      <td>0.967762</td>\n",
       "      <td>0.406699</td>\n",
       "      <td>0.532081</td>\n",
       "      <td>0.813853</td>\n",
       "    </tr>\n",
       "    <tr>\n",
       "      <th>14</th>\n",
       "      <td>DecisionTree</td>\n",
       "      <td>oversampled</td>\n",
       "      <td>0.7890</td>\n",
       "      <td>0.864780</td>\n",
       "      <td>0.495122</td>\n",
       "      <td>0.869153</td>\n",
       "      <td>0.485646</td>\n",
       "      <td>0.490338</td>\n",
       "      <td>0.678743</td>\n",
       "    </tr>\n",
       "    <tr>\n",
       "      <th>9</th>\n",
       "      <td>DecisionTree</td>\n",
       "      <td>best_params</td>\n",
       "      <td>0.8505</td>\n",
       "      <td>0.860596</td>\n",
       "      <td>0.769231</td>\n",
       "      <td>0.967762</td>\n",
       "      <td>0.406699</td>\n",
       "      <td>0.532081</td>\n",
       "      <td>0.813853</td>\n",
       "    </tr>\n",
       "    <tr>\n",
       "      <th>12</th>\n",
       "      <td>DecisionTree</td>\n",
       "      <td>best_params_balanced</td>\n",
       "      <td>0.7665</td>\n",
       "      <td>0.909625</td>\n",
       "      <td>0.461659</td>\n",
       "      <td>0.782554</td>\n",
       "      <td>0.705742</td>\n",
       "      <td>0.558184</td>\n",
       "      <td>0.799947</td>\n",
       "    </tr>\n",
       "    <tr>\n",
       "      <th>3</th>\n",
       "      <td>LogisticRegression</td>\n",
       "      <td>default</td>\n",
       "      <td>0.8020</td>\n",
       "      <td>0.824754</td>\n",
       "      <td>0.563218</td>\n",
       "      <td>0.951960</td>\n",
       "      <td>0.234450</td>\n",
       "      <td>0.331081</td>\n",
       "      <td>0.758809</td>\n",
       "    </tr>\n",
       "    <tr>\n",
       "      <th>4</th>\n",
       "      <td>LogisticRegression</td>\n",
       "      <td>best_params</td>\n",
       "      <td>0.8035</td>\n",
       "      <td>0.824332</td>\n",
       "      <td>0.574850</td>\n",
       "      <td>0.955120</td>\n",
       "      <td>0.229665</td>\n",
       "      <td>0.328205</td>\n",
       "      <td>0.759451</td>\n",
       "    </tr>\n",
       "    <tr>\n",
       "      <th>15</th>\n",
       "      <td>LogisticRegression</td>\n",
       "      <td>oversampled</td>\n",
       "      <td>0.7030</td>\n",
       "      <td>0.892687</td>\n",
       "      <td>0.381402</td>\n",
       "      <td>0.709861</td>\n",
       "      <td>0.677033</td>\n",
       "      <td>0.487931</td>\n",
       "      <td>0.763146</td>\n",
       "    </tr>\n",
       "    <tr>\n",
       "      <th>7</th>\n",
       "      <td>LogisticRegression</td>\n",
       "      <td>best_params</td>\n",
       "      <td>0.8035</td>\n",
       "      <td>0.824332</td>\n",
       "      <td>0.574850</td>\n",
       "      <td>0.955120</td>\n",
       "      <td>0.229665</td>\n",
       "      <td>0.328205</td>\n",
       "      <td>0.759451</td>\n",
       "    </tr>\n",
       "    <tr>\n",
       "      <th>10</th>\n",
       "      <td>LogisticRegression</td>\n",
       "      <td>best_params_balanced</td>\n",
       "      <td>0.7025</td>\n",
       "      <td>0.894484</td>\n",
       "      <td>0.381842</td>\n",
       "      <td>0.707332</td>\n",
       "      <td>0.684211</td>\n",
       "      <td>0.490146</td>\n",
       "      <td>0.764053</td>\n",
       "    </tr>\n",
       "    <tr>\n",
       "      <th>0</th>\n",
       "      <td>RandomForest</td>\n",
       "      <td>default</td>\n",
       "      <td>0.8575</td>\n",
       "      <td>0.870783</td>\n",
       "      <td>0.764940</td>\n",
       "      <td>0.962705</td>\n",
       "      <td>0.459330</td>\n",
       "      <td>0.573991</td>\n",
       "      <td>0.839981</td>\n",
       "    </tr>\n",
       "    <tr>\n",
       "      <th>13</th>\n",
       "      <td>RandomForest</td>\n",
       "      <td>oversampled</td>\n",
       "      <td>0.8475</td>\n",
       "      <td>0.883945</td>\n",
       "      <td>0.667656</td>\n",
       "      <td>0.929204</td>\n",
       "      <td>0.538278</td>\n",
       "      <td>0.596026</td>\n",
       "      <td>0.834401</td>\n",
       "    </tr>\n",
       "    <tr>\n",
       "      <th>8</th>\n",
       "      <td>RandomForest</td>\n",
       "      <td>best_params</td>\n",
       "      <td>0.8515</td>\n",
       "      <td>0.872032</td>\n",
       "      <td>0.721612</td>\n",
       "      <td>0.951960</td>\n",
       "      <td>0.471292</td>\n",
       "      <td>0.570188</td>\n",
       "      <td>0.828354</td>\n",
       "    </tr>\n",
       "    <tr>\n",
       "      <th>16</th>\n",
       "      <td>RandomForest</td>\n",
       "      <td>final_test</td>\n",
       "      <td>0.8080</td>\n",
       "      <td>0.909403</td>\n",
       "      <td>0.535912</td>\n",
       "      <td>0.840203</td>\n",
       "      <td>0.687943</td>\n",
       "      <td>0.602484</td>\n",
       "      <td>0.852007</td>\n",
       "    </tr>\n",
       "    <tr>\n",
       "      <th>5</th>\n",
       "      <td>RandomForest</td>\n",
       "      <td>best_params</td>\n",
       "      <td>0.8515</td>\n",
       "      <td>0.872032</td>\n",
       "      <td>0.721612</td>\n",
       "      <td>0.951960</td>\n",
       "      <td>0.471292</td>\n",
       "      <td>0.570188</td>\n",
       "      <td>0.828354</td>\n",
       "    </tr>\n",
       "    <tr>\n",
       "      <th>11</th>\n",
       "      <td>RandomForest</td>\n",
       "      <td>best_params_balanced</td>\n",
       "      <td>0.8190</td>\n",
       "      <td>0.915531</td>\n",
       "      <td>0.552632</td>\n",
       "      <td>0.849558</td>\n",
       "      <td>0.703349</td>\n",
       "      <td>0.618947</td>\n",
       "      <td>0.852360</td>\n",
       "    </tr>\n",
       "    <tr>\n",
       "      <th>17</th>\n",
       "      <td>RandomForest</td>\n",
       "      <td>test_oversampled</td>\n",
       "      <td>0.8460</td>\n",
       "      <td>0.879259</td>\n",
       "      <td>0.675841</td>\n",
       "      <td>0.932784</td>\n",
       "      <td>0.522459</td>\n",
       "      <td>0.589333</td>\n",
       "      <td>0.846910</td>\n",
       "    </tr>\n",
       "  </tbody>\n",
       "</table>\n",
       "</div>"
      ],
      "text/plain": [
       "                 model              resample  accuracy  precision_0  \\\n",
       "1         DecisionTree               default    0.7945     0.868008   \n",
       "2         DecisionTree               default    0.7945     0.868008   \n",
       "6         DecisionTree           best_params    0.8505     0.860596   \n",
       "14        DecisionTree           oversampled    0.7890     0.864780   \n",
       "9         DecisionTree           best_params    0.8505     0.860596   \n",
       "12        DecisionTree  best_params_balanced    0.7665     0.909625   \n",
       "3   LogisticRegression               default    0.8020     0.824754   \n",
       "4   LogisticRegression           best_params    0.8035     0.824332   \n",
       "15  LogisticRegression           oversampled    0.7030     0.892687   \n",
       "7   LogisticRegression           best_params    0.8035     0.824332   \n",
       "10  LogisticRegression  best_params_balanced    0.7025     0.894484   \n",
       "0         RandomForest               default    0.8575     0.870783   \n",
       "13        RandomForest           oversampled    0.8475     0.883945   \n",
       "8         RandomForest           best_params    0.8515     0.872032   \n",
       "16        RandomForest            final_test    0.8080     0.909403   \n",
       "5         RandomForest           best_params    0.8515     0.872032   \n",
       "11        RandomForest  best_params_balanced    0.8190     0.915531   \n",
       "17        RandomForest      test_oversampled    0.8460     0.879259   \n",
       "\n",
       "    precision_1  recall_0  recall_1  f1-score   AUC-ROC  \n",
       "1      0.508557  0.872946  0.497608  0.503023  0.685277  \n",
       "2      0.508557  0.872946  0.497608  0.503023  0.685277  \n",
       "6      0.769231  0.967762  0.406699  0.532081  0.813853  \n",
       "14     0.495122  0.869153  0.485646  0.490338  0.678743  \n",
       "9      0.769231  0.967762  0.406699  0.532081  0.813853  \n",
       "12     0.461659  0.782554  0.705742  0.558184  0.799947  \n",
       "3      0.563218  0.951960  0.234450  0.331081  0.758809  \n",
       "4      0.574850  0.955120  0.229665  0.328205  0.759451  \n",
       "15     0.381402  0.709861  0.677033  0.487931  0.763146  \n",
       "7      0.574850  0.955120  0.229665  0.328205  0.759451  \n",
       "10     0.381842  0.707332  0.684211  0.490146  0.764053  \n",
       "0      0.764940  0.962705  0.459330  0.573991  0.839981  \n",
       "13     0.667656  0.929204  0.538278  0.596026  0.834401  \n",
       "8      0.721612  0.951960  0.471292  0.570188  0.828354  \n",
       "16     0.535912  0.840203  0.687943  0.602484  0.852007  \n",
       "5      0.721612  0.951960  0.471292  0.570188  0.828354  \n",
       "11     0.552632  0.849558  0.703349  0.618947  0.852360  \n",
       "17     0.675841  0.932784  0.522459  0.589333  0.846910  "
      ]
     },
     "execution_count": 78,
     "metadata": {},
     "output_type": "execute_result"
    }
   ],
   "source": [
    "metrics_report.sort_values('model')"
   ]
  },
  {
   "cell_type": "markdown",
   "metadata": {},
   "source": [
    "#### f1_score и AUC_ROC уменьшились относительно прогноза по валидационной выборке. . При этом f1 score превысило 0.59."
   ]
  },
  {
   "cell_type": "markdown",
   "metadata": {},
   "source": [
    "### Построим ROC-кривую по тестовой выборке."
   ]
  },
  {
   "cell_type": "code",
   "execution_count": 81,
   "metadata": {
    "scrolled": true
   },
   "outputs": [
    {
     "data": {
      "image/png": "[encoded data removed]",
      "text/plain": [
       "<Figure size 864x576 with 1 Axes>"
      ]
     },
     "metadata": {
      "needs_background": "light"
     },
     "output_type": "display_data"
    },
    {
     "name": "stdout",
     "output_type": "stream",
     "text": [
      "ROC-AUC_score:  0.8520067579013331\n"
     ]
    }
   ],
   "source": [
    "fpr_rf_test, tpr_rf_test, threshold_rf_test = roc_curve(target_test, clf_rfc_test_proba_one)\n",
    "\n",
    "plt.figure(figsize=(12, 8))\n",
    "plt.plot(fpr_rf_test, tpr_rf_test, label='ROC-кривая по тестовой выборке данных')\n",
    "plt.plot([0, 1], [0, 1], linestyle='--')\n",
    "plt.legend()\n",
    "plt.ylim([0.0, 1.0])\n",
    "plt.xlim([0.0, 1.0])\n",
    "plt.xlabel('False Positive Rate')\n",
    "plt.ylabel('True Positive Rate')\n",
    "plt.title('ROC-кривая модели RandomForestClassifier')\n",
    "plt.show()\n",
    "\n",
    "print('ROC-AUC_score: ', roc_auc_score(target_test, clf_rfc_test_proba_one))"
   ]
  },
  {
   "cell_type": "markdown",
   "metadata": {},
   "source": [
    "#### Влияние признаков на целевой признак на тестовой выборке"
   ]
  },
  {
   "cell_type": "code",
   "execution_count": 90,
   "metadata": {},
   "outputs": [],
   "source": [
    "permutation = PermutationImportance(clf_rfc_test, scoring='f1').fit(feature_test, target_test)"
   ]
  },
  {
   "cell_type": "code",
   "execution_count": 91,
   "metadata": {},
   "outputs": [
    {
     "data": {
      "text/html": [
       "\n",
       "    <style>\n",
       "    table.eli5-weights tr:hover {\n",
       "        filter: brightness(85%);\n",
       "    }\n",
       "</style>\n",
       "\n",
       "\n",
       "\n",
       "    \n",
       "\n",
       "    \n",
       "\n",
       "    \n",
       "\n",
       "    \n",
       "\n",
       "    \n",
       "\n",
       "    \n",
       "\n",
       "\n",
       "    \n",
       "\n",
       "    \n",
       "\n",
       "    \n",
       "\n",
       "    \n",
       "\n",
       "    \n",
       "\n",
       "    \n",
       "\n",
       "\n",
       "    \n",
       "\n",
       "    \n",
       "\n",
       "    \n",
       "\n",
       "    \n",
       "\n",
       "    \n",
       "        <table class=\"eli5-weights eli5-feature-importances\" style=\"border-collapse: collapse; border: none; margin-top: 0em; table-layout: auto;\">\n",
       "    <thead>\n",
       "    <tr style=\"border: none;\">\n",
       "        <th style=\"padding: 0 1em 0 0.5em; text-align: right; border: none;\">Weight</th>\n",
       "        <th style=\"padding: 0 0.5em 0 0.5em; text-align: left; border: none;\">Feature</th>\n",
       "    </tr>\n",
       "    </thead>\n",
       "    <tbody>\n",
       "    \n",
       "        <tr style=\"background-color: hsl(120, 100.00%, 80.00%); border: none;\">\n",
       "            <td style=\"padding: 0 1em 0 0.5em; text-align: right; border: none;\">\n",
       "                0.1811\n",
       "                \n",
       "                    &plusmn; 0.0244\n",
       "                \n",
       "            </td>\n",
       "            <td style=\"padding: 0 0.5em 0 0.5em; text-align: left; border: none;\">\n",
       "                Age\n",
       "            </td>\n",
       "        </tr>\n",
       "    \n",
       "        <tr style=\"background-color: hsl(120, 100.00%, 86.10%); border: none;\">\n",
       "            <td style=\"padding: 0 1em 0 0.5em; text-align: right; border: none;\">\n",
       "                0.1077\n",
       "                \n",
       "                    &plusmn; 0.0076\n",
       "                \n",
       "            </td>\n",
       "            <td style=\"padding: 0 0.5em 0 0.5em; text-align: left; border: none;\">\n",
       "                NumOfProducts\n",
       "            </td>\n",
       "        </tr>\n",
       "    \n",
       "        <tr style=\"background-color: hsl(120, 100.00%, 93.23%); border: none;\">\n",
       "            <td style=\"padding: 0 1em 0 0.5em; text-align: right; border: none;\">\n",
       "                0.0385\n",
       "                \n",
       "                    &plusmn; 0.0123\n",
       "                \n",
       "            </td>\n",
       "            <td style=\"padding: 0 0.5em 0 0.5em; text-align: left; border: none;\">\n",
       "                Geography_Germany\n",
       "            </td>\n",
       "        </tr>\n",
       "    \n",
       "        <tr style=\"background-color: hsl(120, 100.00%, 93.78%); border: none;\">\n",
       "            <td style=\"padding: 0 1em 0 0.5em; text-align: right; border: none;\">\n",
       "                0.0341\n",
       "                \n",
       "                    &plusmn; 0.0125\n",
       "                \n",
       "            </td>\n",
       "            <td style=\"padding: 0 0.5em 0 0.5em; text-align: left; border: none;\">\n",
       "                Balance\n",
       "            </td>\n",
       "        </tr>\n",
       "    \n",
       "        <tr style=\"background-color: hsl(120, 100.00%, 94.26%); border: none;\">\n",
       "            <td style=\"padding: 0 1em 0 0.5em; text-align: right; border: none;\">\n",
       "                0.0304\n",
       "                \n",
       "                    &plusmn; 0.0084\n",
       "                \n",
       "            </td>\n",
       "            <td style=\"padding: 0 0.5em 0 0.5em; text-align: left; border: none;\">\n",
       "                IsActiveMember\n",
       "            </td>\n",
       "        </tr>\n",
       "    \n",
       "        <tr style=\"background-color: hsl(120, 100.00%, 99.55%); border: none;\">\n",
       "            <td style=\"padding: 0 1em 0 0.5em; text-align: right; border: none;\">\n",
       "                0.0008\n",
       "                \n",
       "                    &plusmn; 0.0102\n",
       "                \n",
       "            </td>\n",
       "            <td style=\"padding: 0 0.5em 0 0.5em; text-align: left; border: none;\">\n",
       "                Gender_Male\n",
       "            </td>\n",
       "        </tr>\n",
       "    \n",
       "        <tr style=\"background-color: hsl(0, 100.00%, 99.68%); border: none;\">\n",
       "            <td style=\"padding: 0 1em 0 0.5em; text-align: right; border: none;\">\n",
       "                -0.0005\n",
       "                \n",
       "                    &plusmn; 0.0023\n",
       "                \n",
       "            </td>\n",
       "            <td style=\"padding: 0 0.5em 0 0.5em; text-align: left; border: none;\">\n",
       "                Geography_Spain\n",
       "            </td>\n",
       "        </tr>\n",
       "    \n",
       "        <tr style=\"background-color: hsl(0, 100.00%, 99.53%); border: none;\">\n",
       "            <td style=\"padding: 0 1em 0 0.5em; text-align: right; border: none;\">\n",
       "                -0.0008\n",
       "                \n",
       "                    &plusmn; 0.0080\n",
       "                \n",
       "            </td>\n",
       "            <td style=\"padding: 0 0.5em 0 0.5em; text-align: left; border: none;\">\n",
       "                Tenure\n",
       "            </td>\n",
       "        </tr>\n",
       "    \n",
       "        <tr style=\"background-color: hsl(0, 100.00%, 99.00%); border: none;\">\n",
       "            <td style=\"padding: 0 1em 0 0.5em; text-align: right; border: none;\">\n",
       "                -0.0025\n",
       "                \n",
       "                    &plusmn; 0.0048\n",
       "                \n",
       "            </td>\n",
       "            <td style=\"padding: 0 0.5em 0 0.5em; text-align: left; border: none;\">\n",
       "                HasCrCard\n",
       "            </td>\n",
       "        </tr>\n",
       "    \n",
       "        <tr style=\"background-color: hsl(0, 100.00%, 98.49%); border: none;\">\n",
       "            <td style=\"padding: 0 1em 0 0.5em; text-align: right; border: none;\">\n",
       "                -0.0045\n",
       "                \n",
       "                    &plusmn; 0.0063\n",
       "                \n",
       "            </td>\n",
       "            <td style=\"padding: 0 0.5em 0 0.5em; text-align: left; border: none;\">\n",
       "                EstimatedSalary\n",
       "            </td>\n",
       "        </tr>\n",
       "    \n",
       "        <tr style=\"background-color: hsl(0, 100.00%, 98.07%); border: none;\">\n",
       "            <td style=\"padding: 0 1em 0 0.5em; text-align: right; border: none;\">\n",
       "                -0.0064\n",
       "                \n",
       "                    &plusmn; 0.0064\n",
       "                \n",
       "            </td>\n",
       "            <td style=\"padding: 0 0.5em 0 0.5em; text-align: left; border: none;\">\n",
       "                CreditScore\n",
       "            </td>\n",
       "        </tr>\n",
       "    \n",
       "    \n",
       "    </tbody>\n",
       "</table>\n",
       "    \n",
       "\n",
       "    \n",
       "\n",
       "\n",
       "    \n",
       "\n",
       "    \n",
       "\n",
       "    \n",
       "\n",
       "    \n",
       "\n",
       "    \n",
       "\n",
       "    \n",
       "\n",
       "\n",
       "\n"
      ],
      "text/plain": [
       "<IPython.core.display.HTML object>"
      ]
     },
     "execution_count": 91,
     "metadata": {},
     "output_type": "execute_result"
    }
   ],
   "source": [
    "eli5.show_weights(permutation, feature_names=feature_test.columns.tolist())"
   ]
  },
  {
   "cell_type": "markdown",
   "metadata": {},
   "source": [
    "# Вывод:\n",
    "    Самые высокие значения по f1 и roc_auc_score получили при применении oversampling к валидационной выборке.\n",
    "    f1-score превысил целевое значение на тестоввой выборке и достиг значения - 0.602484.\n",
    "    "
   ]
  }
 ],
 "metadata": {
  "kernelspec": {
   "display_name": "Python 3",
   "language": "python",
   "name": "python3"
  },
  "language_info": {
   "codemirror_mode": {
    "name": "ipython",
    "version": 3
   },
   "file_extension": ".py",
   "mimetype": "text/x-python",
   "name": "python",
   "nbconvert_exporter": "python",
   "pygments_lexer": "ipython3",
   "version": "3.8.5"
  },
  "toc": {
   "base_numbering": 1,
   "nav_menu": {},
   "number_sections": true,
   "sideBar": true,
   "skip_h1_title": false,
   "title_cell": "Table of Contents",
   "title_sidebar": "Contents",
   "toc_cell": false,
   "toc_position": {},
   "toc_section_display": true,
   "toc_window_display": false
  }
 },
 "nbformat": 4,
 "nbformat_minor": 4
}
