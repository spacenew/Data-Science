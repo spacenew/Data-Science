{
 "cells": [
  {
   "cell_type": "markdown",
   "metadata": {},
   "source": [
    "# Описание проекта"
   ]
  },
  {
   "cell_type": "markdown",
   "metadata": {},
   "source": [
    "Допустим, вы работаете в добывающей компании «ГлавРосГосНефть». Нужно решить, где бурить новую скважину.\n",
    "Шаги для выбора локации обычно такие:\n",
    "\n",
    "- В избранном регионе собирают характеристики для скважин: качество нефти и объём её запасов;\n",
    "- Строят модель для предсказания объёма запасов в новых скважинах;\n",
    "- Выбирают скважины с самыми высокими оценками значений;\n",
    "- Определяют регион с максимальной суммарной прибылью отобранных скважин.\n",
    "\n",
    "Вам предоставлены пробы нефти в трёх регионах. Характеристики для каждой скважины в регионе уже известны. Постройте модель для определения региона, где добыча принесёт наибольшую прибыль. Проанализируйте возможную прибыль и риски техникой Bootstrap."
   ]
  },
  {
   "cell_type": "markdown",
   "metadata": {},
   "source": [
    "## Инструкция по выполнению проекта"
   ]
  },
  {
   "cell_type": "markdown",
   "metadata": {},
   "source": [
    " **1. Загрузите и подготовьте данные. Поясните порядок действий.**  \n",
    " **2. Обучите и проверьте модель для каждого региона:**      \n",
    "    2.1. Разбейте данные на обучающую и валидационную выборки в соотношении 75:25.  \n",
    "    2.2. Обучите модель и сделайте предсказания на валидационной выборке.  \n",
    "    2.3. Сохраните предсказания и правильные ответы на валидационной выборке.  \n",
    "    2.4. Напечатайте на экране средний запас предсказанного сырья и RMSE модели.  \n",
    "    2.5. Проанализируйте результаты.  \n",
    " **3. Подготовьтесь к расчёту прибыли:**        \n",
    "    3.1. Все ключевые значения для расчётов сохраните в отдельных переменных.    \n",
    "    3.2. Рассчитайте достаточный объём сырья для безубыточной разработки новой скважины. Сравните полученный объём сырья со средним запасом в каждом регионе.  \n",
    "    3.3. Напишите выводы по этапу подготовки расчёта прибыли.  \n",
    " **4. Напишите функцию для расчёта прибыли по выбранным скважинам и предсказаниям модели:**    \n",
    "    4.1. Выберите скважины с максимальными значениями предсказаний.  \n",
    "    4.2. Просуммируйте целевое значение объёма сырья, соответствующее этим предсказаниям.  \n",
    "    4.3. Рассчитайте прибыль для полученного объёма сырья.  \n",
    " **5. Посчитайте риски и прибыль для каждого региона:**    \n",
    "    5.1. Примените технику Bootstrap с 1000 выборок, чтобы найти распределение прибыли.  \n",
    "    5.2. Найдите среднюю прибыль, 95%-й доверительный интервал и риск убытков. Убыток — это отрицательная прибыль.  \n",
    "    5.3. Напишите выводы: предложите регион для разработки скважин и обоснуйте выбор."
   ]
  },
  {
   "cell_type": "markdown",
   "metadata": {},
   "source": [
    "### Описание данных"
   ]
  },
  {
   "cell_type": "markdown",
   "metadata": {},
   "source": [
    "Данные геологоразведки трёх регионов находятся в файлах:\n",
    "\n",
    "- id — уникальный идентификатор скважины;\n",
    "- f0, f1, f2 — три признака точек (неважно, что они означают, но сами признаки значимы);\n",
    "- product — объём запасов в скважине (тыс. баррелей)."
   ]
  },
  {
   "cell_type": "markdown",
   "metadata": {},
   "source": [
    "#### Условия задачи:\n",
    "\n",
    " -  > Для обучения модели подходит только линейная регрессия (остальные — недостаточно предсказуемые).  \n",
    " -  >  При разведке региона исследуют 500 точек, из которых с помощью машинного обучения выбирают 200 лучших для разработки.  \n",
    " -  >  Бюджет на разработку скважин в регионе — 10 млрд рублей.  \n",
    " -  >  При нынешних ценах один баррель сырья приносит 450 рублей дохода. Доход с каждой единицы продукта составляет 450 тыс. рублей, поскольку объём указан в тысячах баррелей.  \n",
    " -  >  После оценки рисков нужно оставить лишь те регионы, в которых вероятность убытков меньше 2.5%. Среди них выбирают регион с наибольшей средней прибылью.  \n",
    "\n",
    "Данные синтетические: детали контрактов и характеристики месторождений не разглашаются."
   ]
  },
  {
   "cell_type": "markdown",
   "metadata": {},
   "source": [
    "### Libs"
   ]
  },
  {
   "cell_type": "code",
   "execution_count": 1,
   "metadata": {},
   "outputs": [],
   "source": [
    "import pandas as pd\n",
    "import numpy as np\n",
    "from matplotlib import pyplot as plt\n",
    "import seaborn as sns\n",
    "from sklearn.model_selection import train_test_split\n",
    "from sklearn.linear_model import LinearRegression\n",
    "from sklearn.metrics import mean_squared_error, accuracy_score, precision_score, recall_score, f1_score\n",
    "from sklearn.metrics import roc_auc_score, r2_score\n",
    "from sklearn.preprocessing import StandardScaler\n",
    "import scipy.stats as st\n",
    "%matplotlib inline\n",
    "import warnings\n",
    "warnings.filterwarnings('ignore')"
   ]
  },
  {
   "cell_type": "markdown",
   "metadata": {},
   "source": [
    "### 1. Загрузите и подготовьте данные. Поясните порядок действий."
   ]
  },
  {
   "cell_type": "code",
   "execution_count": 2,
   "metadata": {},
   "outputs": [
    {
     "data": {
      "text/html": [
       "<div>\n",
       "<style scoped>\n",
       "    .dataframe tbody tr th:only-of-type {\n",
       "        vertical-align: middle;\n",
       "    }\n",
       "\n",
       "    .dataframe tbody tr th {\n",
       "        vertical-align: top;\n",
       "    }\n",
       "\n",
       "    .dataframe thead th {\n",
       "        text-align: right;\n",
       "    }\n",
       "</style>\n",
       "<table border=\"1\" class=\"dataframe\">\n",
       "  <thead>\n",
       "    <tr style=\"text-align: right;\">\n",
       "      <th></th>\n",
       "      <th>id</th>\n",
       "      <th>f0</th>\n",
       "      <th>f1</th>\n",
       "      <th>f2</th>\n",
       "      <th>product</th>\n",
       "    </tr>\n",
       "  </thead>\n",
       "  <tbody>\n",
       "    <tr>\n",
       "      <th>0</th>\n",
       "      <td>txEyH</td>\n",
       "      <td>0.705745</td>\n",
       "      <td>-0.497823</td>\n",
       "      <td>1.221170</td>\n",
       "      <td>105.280062</td>\n",
       "    </tr>\n",
       "    <tr>\n",
       "      <th>1</th>\n",
       "      <td>2acmU</td>\n",
       "      <td>1.334711</td>\n",
       "      <td>-0.340164</td>\n",
       "      <td>4.365080</td>\n",
       "      <td>73.037750</td>\n",
       "    </tr>\n",
       "    <tr>\n",
       "      <th>2</th>\n",
       "      <td>409Wp</td>\n",
       "      <td>1.022732</td>\n",
       "      <td>0.151990</td>\n",
       "      <td>1.419926</td>\n",
       "      <td>85.265647</td>\n",
       "    </tr>\n",
       "    <tr>\n",
       "      <th>3</th>\n",
       "      <td>iJLyR</td>\n",
       "      <td>-0.032172</td>\n",
       "      <td>0.139033</td>\n",
       "      <td>2.978566</td>\n",
       "      <td>168.620776</td>\n",
       "    </tr>\n",
       "    <tr>\n",
       "      <th>4</th>\n",
       "      <td>Xdl7t</td>\n",
       "      <td>1.988431</td>\n",
       "      <td>0.155413</td>\n",
       "      <td>4.751769</td>\n",
       "      <td>154.036647</td>\n",
       "    </tr>\n",
       "  </tbody>\n",
       "</table>\n",
       "</div>"
      ],
      "text/plain": [
       "      id        f0        f1        f2     product\n",
       "0  txEyH  0.705745 -0.497823  1.221170  105.280062\n",
       "1  2acmU  1.334711 -0.340164  4.365080   73.037750\n",
       "2  409Wp  1.022732  0.151990  1.419926   85.265647\n",
       "3  iJLyR -0.032172  0.139033  2.978566  168.620776\n",
       "4  Xdl7t  1.988431  0.155413  4.751769  154.036647"
      ]
     },
     "execution_count": 2,
     "metadata": {},
     "output_type": "execute_result"
    }
   ],
   "source": [
    "geo_0 = pd.read_csv('geo_data_0.csv')\n",
    "geo_0.head()"
   ]
  },
  {
   "cell_type": "code",
   "execution_count": 3,
   "metadata": {},
   "outputs": [
    {
     "data": {
      "text/html": [
       "<div>\n",
       "<style scoped>\n",
       "    .dataframe tbody tr th:only-of-type {\n",
       "        vertical-align: middle;\n",
       "    }\n",
       "\n",
       "    .dataframe tbody tr th {\n",
       "        vertical-align: top;\n",
       "    }\n",
       "\n",
       "    .dataframe thead th {\n",
       "        text-align: right;\n",
       "    }\n",
       "</style>\n",
       "<table border=\"1\" class=\"dataframe\">\n",
       "  <thead>\n",
       "    <tr style=\"text-align: right;\">\n",
       "      <th></th>\n",
       "      <th>id</th>\n",
       "      <th>f0</th>\n",
       "      <th>f1</th>\n",
       "      <th>f2</th>\n",
       "      <th>product</th>\n",
       "    </tr>\n",
       "  </thead>\n",
       "  <tbody>\n",
       "    <tr>\n",
       "      <th>0</th>\n",
       "      <td>kBEdx</td>\n",
       "      <td>-15.001348</td>\n",
       "      <td>-8.276000</td>\n",
       "      <td>-0.005876</td>\n",
       "      <td>3.179103</td>\n",
       "    </tr>\n",
       "    <tr>\n",
       "      <th>1</th>\n",
       "      <td>62mP7</td>\n",
       "      <td>14.272088</td>\n",
       "      <td>-3.475083</td>\n",
       "      <td>0.999183</td>\n",
       "      <td>26.953261</td>\n",
       "    </tr>\n",
       "    <tr>\n",
       "      <th>2</th>\n",
       "      <td>vyE1P</td>\n",
       "      <td>6.263187</td>\n",
       "      <td>-5.948386</td>\n",
       "      <td>5.001160</td>\n",
       "      <td>134.766305</td>\n",
       "    </tr>\n",
       "    <tr>\n",
       "      <th>3</th>\n",
       "      <td>KcrkZ</td>\n",
       "      <td>-13.081196</td>\n",
       "      <td>-11.506057</td>\n",
       "      <td>4.999415</td>\n",
       "      <td>137.945408</td>\n",
       "    </tr>\n",
       "    <tr>\n",
       "      <th>4</th>\n",
       "      <td>AHL4O</td>\n",
       "      <td>12.702195</td>\n",
       "      <td>-8.147433</td>\n",
       "      <td>5.004363</td>\n",
       "      <td>134.766305</td>\n",
       "    </tr>\n",
       "  </tbody>\n",
       "</table>\n",
       "</div>"
      ],
      "text/plain": [
       "      id         f0         f1        f2     product\n",
       "0  kBEdx -15.001348  -8.276000 -0.005876    3.179103\n",
       "1  62mP7  14.272088  -3.475083  0.999183   26.953261\n",
       "2  vyE1P   6.263187  -5.948386  5.001160  134.766305\n",
       "3  KcrkZ -13.081196 -11.506057  4.999415  137.945408\n",
       "4  AHL4O  12.702195  -8.147433  5.004363  134.766305"
      ]
     },
     "execution_count": 3,
     "metadata": {},
     "output_type": "execute_result"
    }
   ],
   "source": [
    "geo_1 = pd.read_csv('geo_data_1.csv')\n",
    "geo_1.head()"
   ]
  },
  {
   "cell_type": "code",
   "execution_count": 4,
   "metadata": {},
   "outputs": [
    {
     "data": {
      "text/html": [
       "<div>\n",
       "<style scoped>\n",
       "    .dataframe tbody tr th:only-of-type {\n",
       "        vertical-align: middle;\n",
       "    }\n",
       "\n",
       "    .dataframe tbody tr th {\n",
       "        vertical-align: top;\n",
       "    }\n",
       "\n",
       "    .dataframe thead th {\n",
       "        text-align: right;\n",
       "    }\n",
       "</style>\n",
       "<table border=\"1\" class=\"dataframe\">\n",
       "  <thead>\n",
       "    <tr style=\"text-align: right;\">\n",
       "      <th></th>\n",
       "      <th>id</th>\n",
       "      <th>f0</th>\n",
       "      <th>f1</th>\n",
       "      <th>f2</th>\n",
       "      <th>product</th>\n",
       "    </tr>\n",
       "  </thead>\n",
       "  <tbody>\n",
       "    <tr>\n",
       "      <th>0</th>\n",
       "      <td>fwXo0</td>\n",
       "      <td>-1.146987</td>\n",
       "      <td>0.963328</td>\n",
       "      <td>-0.828965</td>\n",
       "      <td>27.758673</td>\n",
       "    </tr>\n",
       "    <tr>\n",
       "      <th>1</th>\n",
       "      <td>WJtFt</td>\n",
       "      <td>0.262778</td>\n",
       "      <td>0.269839</td>\n",
       "      <td>-2.530187</td>\n",
       "      <td>56.069697</td>\n",
       "    </tr>\n",
       "    <tr>\n",
       "      <th>2</th>\n",
       "      <td>ovLUW</td>\n",
       "      <td>0.194587</td>\n",
       "      <td>0.289035</td>\n",
       "      <td>-5.586433</td>\n",
       "      <td>62.871910</td>\n",
       "    </tr>\n",
       "    <tr>\n",
       "      <th>3</th>\n",
       "      <td>q6cA6</td>\n",
       "      <td>2.236060</td>\n",
       "      <td>-0.553760</td>\n",
       "      <td>0.930038</td>\n",
       "      <td>114.572842</td>\n",
       "    </tr>\n",
       "    <tr>\n",
       "      <th>4</th>\n",
       "      <td>WPMUX</td>\n",
       "      <td>-0.515993</td>\n",
       "      <td>1.716266</td>\n",
       "      <td>5.899011</td>\n",
       "      <td>149.600746</td>\n",
       "    </tr>\n",
       "  </tbody>\n",
       "</table>\n",
       "</div>"
      ],
      "text/plain": [
       "      id        f0        f1        f2     product\n",
       "0  fwXo0 -1.146987  0.963328 -0.828965   27.758673\n",
       "1  WJtFt  0.262778  0.269839 -2.530187   56.069697\n",
       "2  ovLUW  0.194587  0.289035 -5.586433   62.871910\n",
       "3  q6cA6  2.236060 -0.553760  0.930038  114.572842\n",
       "4  WPMUX -0.515993  1.716266  5.899011  149.600746"
      ]
     },
     "execution_count": 4,
     "metadata": {},
     "output_type": "execute_result"
    }
   ],
   "source": [
    "geo_2 = pd.read_csv('geo_data_2.csv')\n",
    "geo_2.head()"
   ]
  },
  {
   "cell_type": "markdown",
   "metadata": {},
   "source": [
    "#### Посмотрим подробную информацию о каждом датасете"
   ]
  },
  {
   "cell_type": "markdown",
   "metadata": {},
   "source": [
    "##### geo_0"
   ]
  },
  {
   "cell_type": "code",
   "execution_count": 5,
   "metadata": {},
   "outputs": [
    {
     "name": "stdout",
     "output_type": "stream",
     "text": [
      "<class 'pandas.core.frame.DataFrame'>\n",
      "RangeIndex: 100000 entries, 0 to 99999\n",
      "Data columns (total 5 columns):\n",
      " #   Column   Non-Null Count   Dtype  \n",
      "---  ------   --------------   -----  \n",
      " 0   id       100000 non-null  object \n",
      " 1   f0       100000 non-null  float64\n",
      " 2   f1       100000 non-null  float64\n",
      " 3   f2       100000 non-null  float64\n",
      " 4   product  100000 non-null  float64\n",
      "dtypes: float64(4), object(1)\n",
      "memory usage: 3.8+ MB\n"
     ]
    }
   ],
   "source": [
    "geo_0.info()"
   ]
  },
  {
   "cell_type": "code",
   "execution_count": 6,
   "metadata": {},
   "outputs": [
    {
     "data": {
      "text/html": [
       "<div>\n",
       "<style scoped>\n",
       "    .dataframe tbody tr th:only-of-type {\n",
       "        vertical-align: middle;\n",
       "    }\n",
       "\n",
       "    .dataframe tbody tr th {\n",
       "        vertical-align: top;\n",
       "    }\n",
       "\n",
       "    .dataframe thead th {\n",
       "        text-align: right;\n",
       "    }\n",
       "</style>\n",
       "<table border=\"1\" class=\"dataframe\">\n",
       "  <thead>\n",
       "    <tr style=\"text-align: right;\">\n",
       "      <th></th>\n",
       "      <th>f0</th>\n",
       "      <th>f1</th>\n",
       "      <th>f2</th>\n",
       "      <th>product</th>\n",
       "    </tr>\n",
       "  </thead>\n",
       "  <tbody>\n",
       "    <tr>\n",
       "      <th>count</th>\n",
       "      <td>100000.000000</td>\n",
       "      <td>100000.000000</td>\n",
       "      <td>100000.000000</td>\n",
       "      <td>100000.000000</td>\n",
       "    </tr>\n",
       "    <tr>\n",
       "      <th>mean</th>\n",
       "      <td>0.500419</td>\n",
       "      <td>0.250143</td>\n",
       "      <td>2.502647</td>\n",
       "      <td>92.500000</td>\n",
       "    </tr>\n",
       "    <tr>\n",
       "      <th>std</th>\n",
       "      <td>0.871832</td>\n",
       "      <td>0.504433</td>\n",
       "      <td>3.248248</td>\n",
       "      <td>44.288691</td>\n",
       "    </tr>\n",
       "    <tr>\n",
       "      <th>min</th>\n",
       "      <td>-1.408605</td>\n",
       "      <td>-0.848218</td>\n",
       "      <td>-12.088328</td>\n",
       "      <td>0.000000</td>\n",
       "    </tr>\n",
       "    <tr>\n",
       "      <th>25%</th>\n",
       "      <td>-0.072580</td>\n",
       "      <td>-0.200881</td>\n",
       "      <td>0.287748</td>\n",
       "      <td>56.497507</td>\n",
       "    </tr>\n",
       "    <tr>\n",
       "      <th>50%</th>\n",
       "      <td>0.502360</td>\n",
       "      <td>0.250252</td>\n",
       "      <td>2.515969</td>\n",
       "      <td>91.849972</td>\n",
       "    </tr>\n",
       "    <tr>\n",
       "      <th>75%</th>\n",
       "      <td>1.073581</td>\n",
       "      <td>0.700646</td>\n",
       "      <td>4.715088</td>\n",
       "      <td>128.564089</td>\n",
       "    </tr>\n",
       "    <tr>\n",
       "      <th>max</th>\n",
       "      <td>2.362331</td>\n",
       "      <td>1.343769</td>\n",
       "      <td>16.003790</td>\n",
       "      <td>185.364347</td>\n",
       "    </tr>\n",
       "  </tbody>\n",
       "</table>\n",
       "</div>"
      ],
      "text/plain": [
       "                  f0             f1             f2        product\n",
       "count  100000.000000  100000.000000  100000.000000  100000.000000\n",
       "mean        0.500419       0.250143       2.502647      92.500000\n",
       "std         0.871832       0.504433       3.248248      44.288691\n",
       "min        -1.408605      -0.848218     -12.088328       0.000000\n",
       "25%        -0.072580      -0.200881       0.287748      56.497507\n",
       "50%         0.502360       0.250252       2.515969      91.849972\n",
       "75%         1.073581       0.700646       4.715088     128.564089\n",
       "max         2.362331       1.343769      16.003790     185.364347"
      ]
     },
     "execution_count": 6,
     "metadata": {},
     "output_type": "execute_result"
    }
   ],
   "source": [
    "geo_0.describe()"
   ]
  },
  {
   "cell_type": "markdown",
   "metadata": {},
   "source": [
    "###### Пропущенных значений нет.  Изменять типы не требуется."
   ]
  },
  {
   "cell_type": "code",
   "execution_count": 7,
   "metadata": {},
   "outputs": [
    {
     "data": {
      "text/plain": [
       "id          99990\n",
       "f0         100000\n",
       "f1         100000\n",
       "f2         100000\n",
       "product    100000\n",
       "dtype: int64"
      ]
     },
     "execution_count": 7,
     "metadata": {},
     "output_type": "execute_result"
    }
   ],
   "source": [
    "geo_0.nunique()"
   ]
  },
  {
   "cell_type": "markdown",
   "metadata": {},
   "source": [
    "##### geo_1"
   ]
  },
  {
   "cell_type": "code",
   "execution_count": 8,
   "metadata": {},
   "outputs": [
    {
     "name": "stdout",
     "output_type": "stream",
     "text": [
      "<class 'pandas.core.frame.DataFrame'>\n",
      "RangeIndex: 100000 entries, 0 to 99999\n",
      "Data columns (total 5 columns):\n",
      " #   Column   Non-Null Count   Dtype  \n",
      "---  ------   --------------   -----  \n",
      " 0   id       100000 non-null  object \n",
      " 1   f0       100000 non-null  float64\n",
      " 2   f1       100000 non-null  float64\n",
      " 3   f2       100000 non-null  float64\n",
      " 4   product  100000 non-null  float64\n",
      "dtypes: float64(4), object(1)\n",
      "memory usage: 3.8+ MB\n"
     ]
    }
   ],
   "source": [
    "geo_1.info()"
   ]
  },
  {
   "cell_type": "markdown",
   "metadata": {},
   "source": [
    "###### Пропущенных значений нет.  Изменять типы не требуется."
   ]
  },
  {
   "cell_type": "code",
   "execution_count": 9,
   "metadata": {},
   "outputs": [
    {
     "data": {
      "text/html": [
       "<div>\n",
       "<style scoped>\n",
       "    .dataframe tbody tr th:only-of-type {\n",
       "        vertical-align: middle;\n",
       "    }\n",
       "\n",
       "    .dataframe tbody tr th {\n",
       "        vertical-align: top;\n",
       "    }\n",
       "\n",
       "    .dataframe thead th {\n",
       "        text-align: right;\n",
       "    }\n",
       "</style>\n",
       "<table border=\"1\" class=\"dataframe\">\n",
       "  <thead>\n",
       "    <tr style=\"text-align: right;\">\n",
       "      <th></th>\n",
       "      <th>f0</th>\n",
       "      <th>f1</th>\n",
       "      <th>f2</th>\n",
       "      <th>product</th>\n",
       "    </tr>\n",
       "  </thead>\n",
       "  <tbody>\n",
       "    <tr>\n",
       "      <th>count</th>\n",
       "      <td>100000.000000</td>\n",
       "      <td>100000.000000</td>\n",
       "      <td>100000.000000</td>\n",
       "      <td>100000.000000</td>\n",
       "    </tr>\n",
       "    <tr>\n",
       "      <th>mean</th>\n",
       "      <td>1.141296</td>\n",
       "      <td>-4.796579</td>\n",
       "      <td>2.494541</td>\n",
       "      <td>68.825000</td>\n",
       "    </tr>\n",
       "    <tr>\n",
       "      <th>std</th>\n",
       "      <td>8.965932</td>\n",
       "      <td>5.119872</td>\n",
       "      <td>1.703572</td>\n",
       "      <td>45.944423</td>\n",
       "    </tr>\n",
       "    <tr>\n",
       "      <th>min</th>\n",
       "      <td>-31.609576</td>\n",
       "      <td>-26.358598</td>\n",
       "      <td>-0.018144</td>\n",
       "      <td>0.000000</td>\n",
       "    </tr>\n",
       "    <tr>\n",
       "      <th>25%</th>\n",
       "      <td>-6.298551</td>\n",
       "      <td>-8.267985</td>\n",
       "      <td>1.000021</td>\n",
       "      <td>26.953261</td>\n",
       "    </tr>\n",
       "    <tr>\n",
       "      <th>50%</th>\n",
       "      <td>1.153055</td>\n",
       "      <td>-4.813172</td>\n",
       "      <td>2.011479</td>\n",
       "      <td>57.085625</td>\n",
       "    </tr>\n",
       "    <tr>\n",
       "      <th>75%</th>\n",
       "      <td>8.621015</td>\n",
       "      <td>-1.332816</td>\n",
       "      <td>3.999904</td>\n",
       "      <td>107.813044</td>\n",
       "    </tr>\n",
       "    <tr>\n",
       "      <th>max</th>\n",
       "      <td>29.421755</td>\n",
       "      <td>18.734063</td>\n",
       "      <td>5.019721</td>\n",
       "      <td>137.945408</td>\n",
       "    </tr>\n",
       "  </tbody>\n",
       "</table>\n",
       "</div>"
      ],
      "text/plain": [
       "                  f0             f1             f2        product\n",
       "count  100000.000000  100000.000000  100000.000000  100000.000000\n",
       "mean        1.141296      -4.796579       2.494541      68.825000\n",
       "std         8.965932       5.119872       1.703572      45.944423\n",
       "min       -31.609576     -26.358598      -0.018144       0.000000\n",
       "25%        -6.298551      -8.267985       1.000021      26.953261\n",
       "50%         1.153055      -4.813172       2.011479      57.085625\n",
       "75%         8.621015      -1.332816       3.999904     107.813044\n",
       "max        29.421755      18.734063       5.019721     137.945408"
      ]
     },
     "execution_count": 9,
     "metadata": {},
     "output_type": "execute_result"
    }
   ],
   "source": [
    "geo_1.describe()"
   ]
  },
  {
   "cell_type": "code",
   "execution_count": 10,
   "metadata": {},
   "outputs": [
    {
     "data": {
      "text/plain": [
       "id          99996\n",
       "f0         100000\n",
       "f1         100000\n",
       "f2         100000\n",
       "product        12\n",
       "dtype: int64"
      ]
     },
     "execution_count": 10,
     "metadata": {},
     "output_type": "execute_result"
    }
   ],
   "source": [
    "geo_1.nunique()"
   ]
  },
  {
   "cell_type": "markdown",
   "metadata": {},
   "source": [
    "##### geo_2"
   ]
  },
  {
   "cell_type": "code",
   "execution_count": 11,
   "metadata": {},
   "outputs": [
    {
     "name": "stdout",
     "output_type": "stream",
     "text": [
      "<class 'pandas.core.frame.DataFrame'>\n",
      "RangeIndex: 100000 entries, 0 to 99999\n",
      "Data columns (total 5 columns):\n",
      " #   Column   Non-Null Count   Dtype  \n",
      "---  ------   --------------   -----  \n",
      " 0   id       100000 non-null  object \n",
      " 1   f0       100000 non-null  float64\n",
      " 2   f1       100000 non-null  float64\n",
      " 3   f2       100000 non-null  float64\n",
      " 4   product  100000 non-null  float64\n",
      "dtypes: float64(4), object(1)\n",
      "memory usage: 3.8+ MB\n"
     ]
    }
   ],
   "source": [
    "geo_2.info()"
   ]
  },
  {
   "cell_type": "code",
   "execution_count": 12,
   "metadata": {},
   "outputs": [
    {
     "data": {
      "text/html": [
       "<div>\n",
       "<style scoped>\n",
       "    .dataframe tbody tr th:only-of-type {\n",
       "        vertical-align: middle;\n",
       "    }\n",
       "\n",
       "    .dataframe tbody tr th {\n",
       "        vertical-align: top;\n",
       "    }\n",
       "\n",
       "    .dataframe thead th {\n",
       "        text-align: right;\n",
       "    }\n",
       "</style>\n",
       "<table border=\"1\" class=\"dataframe\">\n",
       "  <thead>\n",
       "    <tr style=\"text-align: right;\">\n",
       "      <th></th>\n",
       "      <th>f0</th>\n",
       "      <th>f1</th>\n",
       "      <th>f2</th>\n",
       "      <th>product</th>\n",
       "    </tr>\n",
       "  </thead>\n",
       "  <tbody>\n",
       "    <tr>\n",
       "      <th>count</th>\n",
       "      <td>100000.000000</td>\n",
       "      <td>100000.000000</td>\n",
       "      <td>100000.000000</td>\n",
       "      <td>100000.000000</td>\n",
       "    </tr>\n",
       "    <tr>\n",
       "      <th>mean</th>\n",
       "      <td>0.002023</td>\n",
       "      <td>-0.002081</td>\n",
       "      <td>2.495128</td>\n",
       "      <td>95.000000</td>\n",
       "    </tr>\n",
       "    <tr>\n",
       "      <th>std</th>\n",
       "      <td>1.732045</td>\n",
       "      <td>1.730417</td>\n",
       "      <td>3.473445</td>\n",
       "      <td>44.749921</td>\n",
       "    </tr>\n",
       "    <tr>\n",
       "      <th>min</th>\n",
       "      <td>-8.760004</td>\n",
       "      <td>-7.084020</td>\n",
       "      <td>-11.970335</td>\n",
       "      <td>0.000000</td>\n",
       "    </tr>\n",
       "    <tr>\n",
       "      <th>25%</th>\n",
       "      <td>-1.162288</td>\n",
       "      <td>-1.174820</td>\n",
       "      <td>0.130359</td>\n",
       "      <td>59.450441</td>\n",
       "    </tr>\n",
       "    <tr>\n",
       "      <th>50%</th>\n",
       "      <td>0.009424</td>\n",
       "      <td>-0.009482</td>\n",
       "      <td>2.484236</td>\n",
       "      <td>94.925613</td>\n",
       "    </tr>\n",
       "    <tr>\n",
       "      <th>75%</th>\n",
       "      <td>1.158535</td>\n",
       "      <td>1.163678</td>\n",
       "      <td>4.858794</td>\n",
       "      <td>130.595027</td>\n",
       "    </tr>\n",
       "    <tr>\n",
       "      <th>max</th>\n",
       "      <td>7.238262</td>\n",
       "      <td>7.844801</td>\n",
       "      <td>16.739402</td>\n",
       "      <td>190.029838</td>\n",
       "    </tr>\n",
       "  </tbody>\n",
       "</table>\n",
       "</div>"
      ],
      "text/plain": [
       "                  f0             f1             f2        product\n",
       "count  100000.000000  100000.000000  100000.000000  100000.000000\n",
       "mean        0.002023      -0.002081       2.495128      95.000000\n",
       "std         1.732045       1.730417       3.473445      44.749921\n",
       "min        -8.760004      -7.084020     -11.970335       0.000000\n",
       "25%        -1.162288      -1.174820       0.130359      59.450441\n",
       "50%         0.009424      -0.009482       2.484236      94.925613\n",
       "75%         1.158535       1.163678       4.858794     130.595027\n",
       "max         7.238262       7.844801      16.739402     190.029838"
      ]
     },
     "execution_count": 12,
     "metadata": {},
     "output_type": "execute_result"
    }
   ],
   "source": [
    "geo_2.describe()"
   ]
  },
  {
   "cell_type": "code",
   "execution_count": 13,
   "metadata": {},
   "outputs": [
    {
     "data": {
      "text/plain": [
       "id          99996\n",
       "f0         100000\n",
       "f1         100000\n",
       "f2         100000\n",
       "product    100000\n",
       "dtype: int64"
      ]
     },
     "execution_count": 13,
     "metadata": {},
     "output_type": "execute_result"
    }
   ],
   "source": [
    "geo_2.nunique()"
   ]
  },
  {
   "cell_type": "markdown",
   "metadata": {},
   "source": [
    "\n",
    "###### Пропущенных значений нет.  Изменять типы не требуется."
   ]
  },
  {
   "cell_type": "markdown",
   "metadata": {},
   "source": [
    "##### Проверим наличие дублей."
   ]
  },
  {
   "cell_type": "code",
   "execution_count": 14,
   "metadata": {},
   "outputs": [
    {
     "name": "stdout",
     "output_type": "stream",
     "text": [
      "0\n",
      "0\n",
      "0\n"
     ]
    }
   ],
   "source": [
    "print(geo_0.duplicated().sum())\n",
    "print(geo_1.duplicated().sum())\n",
    "print(geo_2.duplicated().sum())"
   ]
  },
  {
   "cell_type": "code",
   "execution_count": 15,
   "metadata": {},
   "outputs": [
    {
     "data": {
      "text/plain": [
       "<Figure size 864x576 with 0 Axes>"
      ]
     },
     "metadata": {},
     "output_type": "display_data"
    },
    {
     "data": {
      "image/png": "[encoded data removed]",
      "text/plain": [
       "<Figure size 1440x864 with 9 Axes>"
      ]
     },
     "metadata": {
      "needs_background": "light"
     },
     "output_type": "display_data"
    }
   ],
   "source": [
    "plt.figure(figsize=(12, 8))\n",
    "\n",
    "fig, axes = plt.subplots(3, 3, figsize=(20,12))\n",
    "\n",
    "sns.distplot(geo_0['f0'], ax = axes[0,0]).set_title('geo_0')\n",
    "sns.distplot(geo_0['f1'], ax = axes[0,1]).set_title('geo_0')\n",
    "sns.distplot(geo_0['f2'], ax = axes[0,2]).set_title('geo_0')\n",
    "\n",
    "sns.distplot(geo_1['f0'], ax = axes[1,0], color = 'r').set_title('geo_1')\n",
    "sns.distplot(geo_1['f1'], ax = axes[1,1], color = 'r').set_title('geo_1')\n",
    "sns.distplot(geo_1['f2'], ax = axes[1,2], color = 'r').set_title('geo_1')\n",
    "\n",
    "sns.distplot(geo_2['f0'], ax = axes[2,0], color = 'g').set_title('geo_2')\n",
    "sns.distplot(geo_2['f1'], ax = axes[2,1], color = 'g').set_title('geo_2')\n",
    "sns.distplot(geo_2['f2'], ax = axes[2,2], color = 'g').set_title('geo_2')\n",
    "\n",
    "fig.subplots_adjust(hspace=.3)\n",
    "plt.show()"
   ]
  },
  {
   "cell_type": "code",
   "execution_count": 16,
   "metadata": {},
   "outputs": [
    {
     "data": {
      "image/png": "[encoded data removed]",
      "text/plain": [
       "<Figure size 432x288 with 1 Axes>"
      ]
     },
     "metadata": {
      "needs_background": "light"
     },
     "output_type": "display_data"
    },
    {
     "data": {
      "image/png": "[encoded data removed]",
      "text/plain": [
       "<Figure size 432x288 with 1 Axes>"
      ]
     },
     "metadata": {
      "needs_background": "light"
     },
     "output_type": "display_data"
    },
    {
     "data": {
      "image/png": "[encoded data removed]",
      "text/plain": [
       "<Figure size 432x288 with 1 Axes>"
      ]
     },
     "metadata": {
      "needs_background": "light"
     },
     "output_type": "display_data"
    }
   ],
   "source": [
    "dataset_product = [geo_0['product'], geo_1['product'], geo_2['product']]\n",
    "\n",
    "i = 0\n",
    "\n",
    "for dataset in dataset_product:\n",
    "    ax = dataset.hist(bins=50);\n",
    "    ax.set_title(\"Гистограмма объема запасов в скважинах региона - {}\".format(i))\n",
    "    ax.set_xlabel(\"Тыс. баррелей\")\n",
    "    ax.set_ylabel(\"Количество\")\n",
    "    plt.show()\n",
    "    i += 1"
   ]
  },
  {
   "cell_type": "markdown",
   "metadata": {},
   "source": [
    "#### Построим матрицу корреляций для каждого датасета."
   ]
  },
  {
   "cell_type": "code",
   "execution_count": 17,
   "metadata": {},
   "outputs": [
    {
     "data": {
      "image/png": "[encoded data removed]",
      "text/plain": [
       "<Figure size 864x576 with 2 Axes>"
      ]
     },
     "metadata": {
      "needs_background": "light"
     },
     "output_type": "display_data"
    },
    {
     "data": {
      "image/png": "[encoded data removed]",
      "text/plain": [
       "<Figure size 864x576 with 2 Axes>"
      ]
     },
     "metadata": {
      "needs_background": "light"
     },
     "output_type": "display_data"
    },
    {
     "data": {
      "image/png": "[encoded data removed]",
      "text/plain": [
       "<Figure size 864x576 with 2 Axes>"
      ]
     },
     "metadata": {
      "needs_background": "light"
     },
     "output_type": "display_data"
    }
   ],
   "source": [
    "for dataset in geo_0, geo_1, geo_2:\n",
    "    plt.figure(figsize=(12, 8))\n",
    "    sns.heatmap(dataset.corr(), annot=True, linewidths=.1, fmt= '.2f', cmap=\"YlGnBu\")\n",
    "    plt.title(f'Матрица корреляций значений датасета ');"
   ]
  },
  {
   "cell_type": "markdown",
   "metadata": {},
   "source": [
    "#### Признак f2 для региона 1 прямо коррелирует с признаком product. Уберем этот признак из датасета для упрощения обучения модели."
   ]
  },
  {
   "cell_type": "markdown",
   "metadata": {},
   "source": [
    "2. Обучите и проверьте модель для каждого региона:  \n",
    "    2.1. Разбейте данные на обучающую и валидационную выборки в соотношении 75:25.  \n",
    "    2.2. Обучите модель и сделайте предсказания на валидационной выборке.  \n",
    "    2.3. Сохраните предсказания и правильные ответы на валидационной выборке.  \n",
    "    2.4. Напечатайте на экране средний запас предсказанного сырья и RMSE модели.  \n",
    "    2.5. Проанализируйте результаты.  "
   ]
  },
  {
   "cell_type": "markdown",
   "metadata": {},
   "source": [
    "##### Уберем колонку id, для построения модели она нам не нужна."
   ]
  },
  {
   "cell_type": "code",
   "execution_count": 18,
   "metadata": {},
   "outputs": [],
   "source": [
    "for data in geo_0, geo_1, geo_2:\n",
    "    data.drop('id', axis=1, inplace=True)"
   ]
  },
  {
   "cell_type": "markdown",
   "metadata": {},
   "source": [
    "#### Напишем функцию для построения модели"
   ]
  },
  {
   "cell_type": "code",
   "execution_count": 222,
   "metadata": {},
   "outputs": [],
   "source": [
    "result = []"
   ]
  },
  {
   "cell_type": "code",
   "execution_count": 223,
   "metadata": {},
   "outputs": [],
   "source": [
    "def train_model(data, print_shape=False):\n",
    "    \n",
    "    # Выделим признаки\n",
    "    feature = data.drop('product', axis=1)\n",
    "    target = data['product']\n",
    "    \n",
    "    # Разделим датасет на тренировочную и валидационную выборки\n",
    "    feature_train, feature_valid, target_train, target_valid = train_test_split(\n",
    "        feature, target, test_size=.25, random_state=2021)\n",
    "    \n",
    "    # Обучим модель\n",
    "    lr = LinearRegression()\n",
    "    lr.fit(feature_train, target_train)\n",
    "    lr_predict = lr.predict(feature_valid)\n",
    "    \n",
    "    predict_mean = lr_predict.mean()\n",
    "    valid_mean = target_valid.mean()\n",
    "    rmse = mean_squared_error(target_valid, lr_predict) ** .5\n",
    "    mse = mean_squared_error(target_valid, lr_predict)\n",
    "    r2_train = lr.score(feature_train, target_train)\n",
    "    r2_valid = r2_score(target_valid, lr_predict)\n",
    "    result.append([rmse, mse, r2_train, r2_valid, predict_mean, valid_mean])\n",
    "    \n",
    "    print('=='*30)\n",
    "    print('Cредний запас предсказанного сырья: {:.4f}'.format(predict_mean))\n",
    "    print('Cредний фактический запас сырья: {:.4f}'.format(valid_mean))\n",
    "    print('RMSE модели: {:.4f}'.format(rmse))\n",
    "    print('Cредняя квадратичная ошибка (MSE) модели: {:.4f}'.format(mse))\n",
    "    print('Коэффициент детерминации (R2) модели по валидационным данным: {:.4f}'.format(r2_valid))\n",
    "    print('Коэффициент детерминации (R2) модели по тренировочным данным: {:.4f}'.format(r2_train))\n",
    "    \n",
    "    if print_shape:\n",
    "        print('=='*30)\n",
    "        print('Размер тестовых данных', feature_train.shape[0], target_train.shape[0])\n",
    "        print('Размер валидационных  данных', feature_valid.shape[0], target_valid.shape[0])\n",
    "    \n",
    "    return pd.DataFrame({'predicted_valid': lr_predict, 'target_valid': target_valid})                  "
   ]
  },
  {
   "cell_type": "code",
   "execution_count": 224,
   "metadata": {},
   "outputs": [
    {
     "name": "stdout",
     "output_type": "stream",
     "text": [
      "============================================================\n",
      "Cредний запас предсказанного сырья: 92.6759\n",
      "Cредний фактический запас сырья: 92.5915\n",
      "RMSE модели: 37.5849\n",
      "Cредняя квадратичная ошибка (MSE) модели: 1412.6244\n",
      "Коэффициент детерминации (R2) модели по валидационным данным: 0.2742\n",
      "Коэффициент детерминации (R2) модели по тренировочным данным: 0.2762\n",
      "============================================================\n",
      "Cредний запас предсказанного сырья: 68.8387\n",
      "Cредний фактический запас сырья: 68.8295\n",
      "RMSE модели: 0.8903\n",
      "Cредняя квадратичная ошибка (MSE) модели: 0.7927\n",
      "Коэффициент детерминации (R2) модели по валидационным данным: 0.9996\n",
      "Коэффициент детерминации (R2) модели по тренировочным данным: 0.9996\n",
      "============================================================\n",
      "Cредний запас предсказанного сырья: 94.9891\n",
      "Cредний фактический запас сырья: 94.8782\n",
      "RMSE модели: 39.9954\n",
      "Cредняя квадратичная ошибка (MSE) модели: 1599.6284\n",
      "Коэффициент детерминации (R2) модели по валидационным данным: 0.2002\n",
      "Коэффициент детерминации (R2) модели по тренировочным данным: 0.1983\n"
     ]
    }
   ],
   "source": [
    "model_0 = train_model(geo_0)\n",
    "model_1 = train_model(geo_1)\n",
    "model_2 = train_model(geo_2)"
   ]
  },
  {
   "cell_type": "markdown",
   "metadata": {},
   "source": [
    "#### Для оценки RMSE обычно сравнивают MSE предсказаний  со средним MSE по выборке. Существует коэффициент детерминации R2(1 - MSE/MSEсреднее). Показатель должен стремиться к 1. По региону 1 R2 =  0.9996, это связано с сильной корреляцией признака f2 c целевым признаком.\n"
   ]
  },
  {
   "cell_type": "code",
   "execution_count": 225,
   "metadata": {},
   "outputs": [
    {
     "data": {
      "text/html": [
       "<div>\n",
       "<style scoped>\n",
       "    .dataframe tbody tr th:only-of-type {\n",
       "        vertical-align: middle;\n",
       "    }\n",
       "\n",
       "    .dataframe tbody tr th {\n",
       "        vertical-align: top;\n",
       "    }\n",
       "\n",
       "    .dataframe thead th {\n",
       "        text-align: right;\n",
       "    }\n",
       "</style>\n",
       "<table border=\"1\" class=\"dataframe\">\n",
       "  <thead>\n",
       "    <tr style=\"text-align: right;\">\n",
       "      <th></th>\n",
       "      <th>predicted_valid</th>\n",
       "      <th>target_valid</th>\n",
       "    </tr>\n",
       "  </thead>\n",
       "  <tbody>\n",
       "    <tr>\n",
       "      <th>23307</th>\n",
       "      <td>93.552642</td>\n",
       "      <td>72.571370</td>\n",
       "    </tr>\n",
       "    <tr>\n",
       "      <th>36679</th>\n",
       "      <td>113.987201</td>\n",
       "      <td>76.892871</td>\n",
       "    </tr>\n",
       "    <tr>\n",
       "      <th>36626</th>\n",
       "      <td>74.589530</td>\n",
       "      <td>63.330889</td>\n",
       "    </tr>\n",
       "    <tr>\n",
       "      <th>83753</th>\n",
       "      <td>80.953776</td>\n",
       "      <td>135.852043</td>\n",
       "    </tr>\n",
       "    <tr>\n",
       "      <th>52604</th>\n",
       "      <td>73.325089</td>\n",
       "      <td>113.007759</td>\n",
       "    </tr>\n",
       "    <tr>\n",
       "      <th>...</th>\n",
       "      <td>...</td>\n",
       "      <td>...</td>\n",
       "    </tr>\n",
       "    <tr>\n",
       "      <th>79256</th>\n",
       "      <td>113.005102</td>\n",
       "      <td>114.893755</td>\n",
       "    </tr>\n",
       "    <tr>\n",
       "      <th>41152</th>\n",
       "      <td>98.453068</td>\n",
       "      <td>101.375835</td>\n",
       "    </tr>\n",
       "    <tr>\n",
       "      <th>70974</th>\n",
       "      <td>83.957328</td>\n",
       "      <td>28.841471</td>\n",
       "    </tr>\n",
       "    <tr>\n",
       "      <th>61642</th>\n",
       "      <td>78.844874</td>\n",
       "      <td>62.703319</td>\n",
       "    </tr>\n",
       "    <tr>\n",
       "      <th>57201</th>\n",
       "      <td>83.304522</td>\n",
       "      <td>57.146653</td>\n",
       "    </tr>\n",
       "  </tbody>\n",
       "</table>\n",
       "<p>25000 rows × 2 columns</p>\n",
       "</div>"
      ],
      "text/plain": [
       "       predicted_valid  target_valid\n",
       "23307        93.552642     72.571370\n",
       "36679       113.987201     76.892871\n",
       "36626        74.589530     63.330889\n",
       "83753        80.953776    135.852043\n",
       "52604        73.325089    113.007759\n",
       "...                ...           ...\n",
       "79256       113.005102    114.893755\n",
       "41152        98.453068    101.375835\n",
       "70974        83.957328     28.841471\n",
       "61642        78.844874     62.703319\n",
       "57201        83.304522     57.146653\n",
       "\n",
       "[25000 rows x 2 columns]"
      ]
     },
     "execution_count": 225,
     "metadata": {},
     "output_type": "execute_result"
    }
   ],
   "source": [
    "model_0"
   ]
  },
  {
   "cell_type": "code",
   "execution_count": 227,
   "metadata": {},
   "outputs": [
    {
     "data": {
      "text/html": [
       "<div>\n",
       "<style scoped>\n",
       "    .dataframe tbody tr th:only-of-type {\n",
       "        vertical-align: middle;\n",
       "    }\n",
       "\n",
       "    .dataframe tbody tr th {\n",
       "        vertical-align: top;\n",
       "    }\n",
       "\n",
       "    .dataframe thead th {\n",
       "        text-align: right;\n",
       "    }\n",
       "</style>\n",
       "<table border=\"1\" class=\"dataframe\">\n",
       "  <thead>\n",
       "    <tr style=\"text-align: right;\">\n",
       "      <th></th>\n",
       "      <th>rmse</th>\n",
       "      <th>mse</th>\n",
       "      <th>r2_train</th>\n",
       "      <th>r2_valid</th>\n",
       "      <th>predict_mean</th>\n",
       "      <th>valid_mean</th>\n",
       "    </tr>\n",
       "  </thead>\n",
       "  <tbody>\n",
       "    <tr>\n",
       "      <th>geo_0</th>\n",
       "      <td>37.584896</td>\n",
       "      <td>1412.624439</td>\n",
       "      <td>0.276203</td>\n",
       "      <td>0.274169</td>\n",
       "      <td>92.675936</td>\n",
       "      <td>92.591548</td>\n",
       "    </tr>\n",
       "    <tr>\n",
       "      <th>geo_1</th>\n",
       "      <td>0.890342</td>\n",
       "      <td>0.792708</td>\n",
       "      <td>0.999623</td>\n",
       "      <td>0.999627</td>\n",
       "      <td>68.838718</td>\n",
       "      <td>68.829462</td>\n",
       "    </tr>\n",
       "    <tr>\n",
       "      <th>geo_2</th>\n",
       "      <td>39.995355</td>\n",
       "      <td>1599.628440</td>\n",
       "      <td>0.198342</td>\n",
       "      <td>0.200185</td>\n",
       "      <td>94.989112</td>\n",
       "      <td>94.878239</td>\n",
       "    </tr>\n",
       "  </tbody>\n",
       "</table>\n",
       "</div>"
      ],
      "text/plain": [
       "            rmse          mse  r2_train  r2_valid  predict_mean  valid_mean\n",
       "geo_0  37.584896  1412.624439  0.276203  0.274169     92.675936   92.591548\n",
       "geo_1   0.890342     0.792708  0.999623  0.999627     68.838718   68.829462\n",
       "geo_2  39.995355  1599.628440  0.198342  0.200185     94.989112   94.878239"
      ]
     },
     "metadata": {},
     "output_type": "display_data"
    }
   ],
   "source": [
    "results = (\n",
    "    pd.DataFrame(result, \n",
    "                 columns=['rmse', 'mse', 'r2_train', 'r2_valid', 'predict_mean', 'valid_mean'])\n",
    "                .rename(index={0: 'geo_0', 1: 'geo_1', 2: 'geo_2'})\n",
    "          )\n",
    "display(results)"
   ]
  },
  {
   "cell_type": "markdown",
   "metadata": {},
   "source": [
    "## Вывод:\n",
    "  - Самый низкий показатель по метрике rmse (Корень из средней квадратичной ошибки) приходится на 1-модель (об улучшении качества свидетельствует снижение метрики), коэффициент детерминации также самый высокий из всех моделей. Предсказанные и истинные значения практически одинаковы. Это означает, что модель хорошо предсказыванет целевой признак, но объем самый низкий из всех регионов 68 тыс.баррелей. Рекомендовать этот регион рискованно по причине того, что в нем всего 12 уникальных значений из 100 000 целевого признака. Возможно из-за этого модель легко прогнозировала данные. "
   ]
  },
  {
   "cell_type": "markdown",
   "metadata": {},
   "source": [
    "### 3. Подготовьтесь к расчёту прибыли:\n",
    "3.1. Все ключевые значения для расчётов сохраните в отдельных переменных.  \n",
    "3.2. Рассчитайте достаточный объём сырья для безубыточной разработки новой скважины. Сравните полученный объём сырья со средним запасом в каждом регионе.  \n",
    "3.3. Напишите выводы по этапу подготовки расчёта прибыли.  "
   ]
  },
  {
   "cell_type": "markdown",
   "metadata": {},
   "source": [
    "Для обучения модели подходит только линейная регрессия (остальные — недостаточно предсказуемые).\n",
    "\n",
    "При разведке региона исследуют 500 точек, из которых с помощью машинного обучения выбирают 200 лучших для разработки.\n",
    "\n",
    "Бюджет на разработку скважин в регионе — 10 млрд рублей.\n",
    "\n",
    "При нынешних ценах один баррель сырья приносит 450 рублей дохода. Доход с каждой единицы продукта составляет 450 тыс. рублей, поскольку объём указан в тысячах баррелей.\n",
    "\n",
    "После оценки рисков нужно оставить лишь те регионы, в которых вероятность убытков меньше 2.5%. Среди них выбирают регион с наибольшей средней прибылью.\n",
    "\n",
    "Данные синтетические: детали контрактов и характеристики месторождений не разглашаются."
   ]
  },
  {
   "cell_type": "code",
   "execution_count": 228,
   "metadata": {},
   "outputs": [],
   "source": [
    "n_wells = 500\n",
    "best_n_wells = 200\n",
    "costs = 10_000_000_000\n",
    "profit_per_barrel = 450_000\n",
    "alpha = .95\n",
    "theshold_risk = .025"
   ]
  },
  {
   "cell_type": "code",
   "execution_count": 229,
   "metadata": {},
   "outputs": [
    {
     "name": "stdout",
     "output_type": "stream",
     "text": [
      "Минимальный объём сырья для разработки новой скважины: 111.11 тыс. баррелей\n"
     ]
    }
   ],
   "source": [
    "break_even_point = costs / (profit_per_barrel * best_n_wells)\n",
    "print('Минимальный объём сырья для разработки новой скважины: {:.2f} тыс. баррелей'.format(break_even_point))"
   ]
  },
  {
   "cell_type": "markdown",
   "metadata": {},
   "source": [
    "### Вывод: Ни один из регионов не подходит под заданные условия. Во всех регионах прогнозируемый  объем ниже минимально возможного + 2,5%."
   ]
  },
  {
   "cell_type": "markdown",
   "metadata": {},
   "source": [
    "#### 4. Напишите функцию для расчёта прибыли по выбранным скважинам и предсказаниям модели:\n",
    " 4.1. Выберите скважины с максимальными значениями предсказаний.  \n",
    " 4.2. Просуммируйте целевое значение объёма сырья, соответствующее этим предсказаниям.  \n",
    " 4.3. Рассчитайте прибыль для полученного объёма сырья.  "
   ]
  },
  {
   "cell_type": "markdown",
   "metadata": {},
   "source": [
    "### Функция расчёта прибыли по истинным значениям для выбранных скважин, на основании предсказанных значений"
   ]
  },
  {
   "cell_type": "code",
   "execution_count": 232,
   "metadata": {},
   "outputs": [],
   "source": [
    "def calculate_profit(data, print_results=True):\n",
    "    \n",
    "    # Получим лучшие скважины на основе предсказаний и реальные значения объемов запасов для лучших скважин\n",
    "    target_top = (\n",
    "                    data\n",
    "                    .sort_values('predicted_valid', ascending=False)\n",
    "                    .iloc[:best_n_wells, 1]\n",
    "                 )\n",
    "    \n",
    "    # Общий запас сырья по лучшим скважинам\n",
    "    top_sum = target_top.sum()\n",
    "    # Средний запас сырья по лучшим скважинам\n",
    "    top_mean = target_top.mean()\n",
    "    # Посчитаем прибыль и переведем в млрд.руб.\n",
    "    profit = (top_sum * profit_per_barrel - costs) / 10 ** 9\n",
    "    \n",
    "    if print_results:\n",
    "        print('Средний запас сырья среди скважин с максимальными объемами: {:.3f} тыс. баррелей'.format(top_mean))\n",
    "        print('Суммарный целевой объем сырья: {:.3f} тыс. баррелей'.format(top_sum))\n",
    "        print('Прибыль для 200 лучших скважин: {:.3f} млрд. руб'.format(profit))\n",
    "    \n",
    "    return profit"
   ]
  },
  {
   "cell_type": "code",
   "execution_count": 233,
   "metadata": {},
   "outputs": [
    {
     "name": "stdout",
     "output_type": "stream",
     "text": [
      "Регион 0:\n",
      "Средний запас сырья среди скважин с максимальными объемами: 145.968 тыс. баррелей\n",
      "Суммарный целевой объем сырья: 29193.529 тыс. баррелей\n",
      "Прибыль для 200 лучших скважин: 3.137 млрд. руб\n",
      "Регион 1:\n",
      "Средний запас сырья среди скважин с максимальными объемами: 137.945 тыс. баррелей\n",
      "Суммарный целевой объем сырья: 27589.082 тыс. баррелей\n",
      "Прибыль для 200 лучших скважин: 2.415 млрд. руб\n",
      "Регион 2:\n",
      "Средний запас сырья среди скважин с максимальными объемами: 139.804 тыс. баррелей\n",
      "Суммарный целевой объем сырья: 27960.733 тыс. баррелей\n",
      "Прибыль для 200 лучших скважин: 2.582 млрд. руб\n"
     ]
    },
    {
     "data": {
      "text/plain": [
       "2.582329798544878"
      ]
     },
     "execution_count": 233,
     "metadata": {},
     "output_type": "execute_result"
    }
   ],
   "source": [
    "print('Регион 0:')\n",
    "calculate_profit(model_0, print_results=True)\n",
    "print('Регион 1:')\n",
    "calculate_profit(model_1, print_results=True)\n",
    "print('Регион 2:')\n",
    "calculate_profit(model_2, print_results=True)"
   ]
  },
  {
   "cell_type": "code",
   "execution_count": 288,
   "metadata": {},
   "outputs": [],
   "source": [
    "random_state = np.random.RandomState(2021)\n",
    "bootstrap_samples = 1000\n",
    "pivot_table_on_region = []"
   ]
  },
  {
   "cell_type": "markdown",
   "metadata": {},
   "source": [
    "#### Функция бутстрепа"
   ]
  },
  {
   "cell_type": "code",
   "execution_count": 289,
   "metadata": {},
   "outputs": [],
   "source": [
    "def profit_bootstrap(data):\n",
    "    # Создаем list для хранения прибыли\n",
    "    values = []\n",
    "    for i in range(bootstrap_samples):\n",
    "        # Берем 500 скважин из региона\n",
    "        subsample = data.sample(n=n_wells, replace=True,\n",
    "                                random_state=random_state)\n",
    "        # Получим истинные значения для выбранных скважин и значения прибыли из предыдущей функции. Добавим в list values\n",
    "        values.append(calculate_profit(subsample, False))\n",
    "\n",
    "    values = pd.Series(values)\n",
    "    values_mean = values.mean()\n",
    "\n",
    "    # Рассчитаем 95% доверительный интервал\n",
    "#     confidence_interval = st.t.interval(alpha=alpha, \n",
    "#                                         df=len(values) - 1, \n",
    "#                                         loc = values.mean(), \n",
    "#                                         scale = values.sem())\n",
    "    confidence_interval = .05\n",
    "    interval_lower = values.quantile(confidence_interval / 2)\n",
    "    interval_upper = values.quantile(1 - confidence_interval / 2)\n",
    "    \n",
    "    # Рассчитаем вероятность убытка\n",
    "    loss_ratio = (values < 0).mean()\n",
    "    pivot_table_on_region.append([values_mean, interval_lower, interval_upper, loss_ratio * 100])\n",
    "    \n",
    "    print('Средняя прибыль = {:.3f} млрд. руб.'.format(values_mean))\n",
    "    print('Доверительный интервал 95% = [{:.3f}, {:.3f}]'.format(interval_lower, interval_upper))\n",
    "    print('Вероятность убытка  {:.1%}'.format(loss_ratio))\n",
    "\n",
    "    return values"
   ]
  },
  {
   "cell_type": "code",
   "execution_count": 290,
   "metadata": {},
   "outputs": [
    {
     "name": "stdout",
     "output_type": "stream",
     "text": [
      "Регион 0:\n",
      "Средняя прибыль = 0.420 млрд. руб.\n",
      "Доверительный интервал 95% = [-0.105, 0.918]\n",
      "Вероятность убытка  5.6%\n",
      "------------------------------------------------------------\n",
      "Регион 1:\n",
      "Средняя прибыль = 0.462 млрд. руб.\n",
      "Доверительный интервал 95% = [0.070, 0.888]\n",
      "Вероятность убытка  0.9%\n",
      "------------------------------------------------------------\n",
      "Регион 2:\n",
      "Средняя прибыль = 0.341 млрд. руб.\n",
      "Доверительный интервал 95% = [-0.203, 0.899]\n",
      "Вероятность убытка  10.7%\n"
     ]
    }
   ],
   "source": [
    "print('Регион 0:')\n",
    "income_region_0 = profit_bootstrap(model_0)\n",
    "print('--'*30)\n",
    "print('Регион 1:')\n",
    "income_region_1 = profit_bootstrap(model_1)\n",
    "print('--'*30)\n",
    "print('Регион 2:')\n",
    "income_region_2 = profit_bootstrap(model_2)"
   ]
  },
  {
   "cell_type": "code",
   "execution_count": 291,
   "metadata": {},
   "outputs": [
    {
     "data": {
      "text/html": [
       "<div>\n",
       "<style scoped>\n",
       "    .dataframe tbody tr th:only-of-type {\n",
       "        vertical-align: middle;\n",
       "    }\n",
       "\n",
       "    .dataframe tbody tr th {\n",
       "        vertical-align: top;\n",
       "    }\n",
       "\n",
       "    .dataframe thead th {\n",
       "        text-align: right;\n",
       "    }\n",
       "</style>\n",
       "<table border=\"1\" class=\"dataframe\">\n",
       "  <thead>\n",
       "    <tr style=\"text-align: right;\">\n",
       "      <th></th>\n",
       "      <th>Средняя прибыль, млрд.руб</th>\n",
       "      <th>Доверительный интервал нижний, млрд.руб</th>\n",
       "      <th>Доверительный интервал верхний, млрд.руб</th>\n",
       "      <th>Вероятность убытка, %</th>\n",
       "    </tr>\n",
       "  </thead>\n",
       "  <tbody>\n",
       "    <tr>\n",
       "      <th>region_0</th>\n",
       "      <td>0.420212</td>\n",
       "      <td>-0.105379</td>\n",
       "      <td>0.917593</td>\n",
       "      <td>5.6</td>\n",
       "    </tr>\n",
       "    <tr>\n",
       "      <th>region_1</th>\n",
       "      <td>0.462127</td>\n",
       "      <td>0.069559</td>\n",
       "      <td>0.888081</td>\n",
       "      <td>0.9</td>\n",
       "    </tr>\n",
       "    <tr>\n",
       "      <th>region_2</th>\n",
       "      <td>0.341055</td>\n",
       "      <td>-0.202613</td>\n",
       "      <td>0.899284</td>\n",
       "      <td>10.7</td>\n",
       "    </tr>\n",
       "  </tbody>\n",
       "</table>\n",
       "</div>"
      ],
      "text/plain": [
       "          Средняя прибыль, млрд.руб  Доверительный интервал нижний, млрд.руб  \\\n",
       "region_0                   0.420212                                -0.105379   \n",
       "region_1                   0.462127                                 0.069559   \n",
       "region_2                   0.341055                                -0.202613   \n",
       "\n",
       "          Доверительный интервал верхний, млрд.руб  Вероятность убытка, %  \n",
       "region_0                                  0.917593                    5.6  \n",
       "region_1                                  0.888081                    0.9  \n",
       "region_2                                  0.899284                   10.7  "
      ]
     },
     "execution_count": 291,
     "metadata": {},
     "output_type": "execute_result"
    }
   ],
   "source": [
    "pivot_table_on_region = pd.DataFrame(data=pivot_table_on_region, \n",
    "                         columns=['Средняя прибыль, млрд.руб', \n",
    "                                  'Доверительный интервал нижний, млрд.руб', \n",
    "                                  'Доверительный интервал верхний, млрд.руб', \n",
    "                                  'Вероятность убытка, %'], \n",
    "                         index=['region_0', 'region_1', 'region_2'])\n",
    "pivot_table_on_region"
   ]
  },
  {
   "cell_type": "markdown",
   "metadata": {},
   "source": [
    "5.3. Напишите выводы: предложите регион для разработки скважин и обоснуйте выбор."
   ]
  },
  {
   "cell_type": "markdown",
   "metadata": {},
   "source": [
    "### Вывод:\n",
    "    \n",
    " -  Регионы 0 и 2 показывают более высокие значения по запасам сырья, чем регион 1. В то же время метрика RMSE у них намного выше. Это говорит о низком качестве предсказаний для данных регионов.\n",
    " -    Регион 1 имеет значение 0,89 по метрике RMSE(чем ближе значение к 0, тем лучше модель предсказывет данные).\n",
    " -    Средняя прибыль по региону 1 самыя высокая из представленных - 460 млн. рублей (0.462127 млрд.руб).\n",
    " -    Средние запасы на 200 лучших скважинах превышают минимальный порог в 111 тыс.барелей.\n",
    " -    Вероятность убытка по региону 1 самая низкая ~ 1%. При этом минимальная прибыль будет ~ 70 млн.руб(69559 млн.руб)  \n",
    "**На основании вышеизложенного считаем, что оптимальным регионом для разработки будет регион 1.**"
   ]
  },
  {
   "cell_type": "code",
   "execution_count": null,
   "metadata": {},
   "outputs": [],
   "source": []
  }
 ],
 "metadata": {
  "kernelspec": {
   "display_name": "Python 3",
   "language": "python",
   "name": "python3"
  },
  "language_info": {
   "codemirror_mode": {
    "name": "ipython",
    "version": 3
   },
   "file_extension": ".py",
   "mimetype": "text/x-python",
   "name": "python",
   "nbconvert_exporter": "python",
   "pygments_lexer": "ipython3",
   "version": "3.8.5"
  }
 },
 "nbformat": 4,
 "nbformat_minor": 4
}
